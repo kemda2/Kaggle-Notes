{
 "cells": [
  {
   "cell_type": "markdown",
   "id": "681eefd1",
   "metadata": {
    "papermill": {
     "duration": 0.002649,
     "end_time": "2023-04-21T13:41:11.829724",
     "exception": false,
     "start_time": "2023-04-21T13:41:11.827075",
     "status": "completed"
    },
    "tags": []
   },
   "source": [
    "# Introduction\n",
    "\n",
    "Welcome to Kaggle's **Intermediate Machine Learning** course!\n",
    "\n",
    "If you have some background in machine learning and you'd like to learn how to quickly improve the quality of your models, you're in the right place!  In this course, you will accelerate your machine learning expertise by learning how to:\n",
    "- tackle data types often found in real-world datasets (**missing values**, **categorical variables**),\n",
    "- design **pipelines** to improve the quality of your machine learning code,\n",
    "- use advanced techniques for model validation (**cross-validation**),\n",
    "- build state-of-the-art models that are widely used to win Kaggle competitions (**XGBoost**), and\n",
    "- avoid common and important data science mistakes (**leakage**).\n",
    "\n",
    "Along the way, you'll apply your knowledge by completing a hands-on exercise with real-world data for each new topic.  The hands-on exercises use data from the [Housing Prices Competition for Kaggle Learn Users](https://www.kaggle.com/c/home-data-for-ml-course), where you'll use 79 different explanatory variables (such as the type of roof, number of bedrooms, and number of bathrooms) to predict home prices.  You'll measure your progress by submitting predictions to this competition and watching your position rise on [the leaderboard](https://www.kaggle.com/c/home-data-for-ml-course/leaderboard)!\n",
    "\n",
    "![tut1_competition](https://storage.googleapis.com/kaggle-competitions/kaggle/5407/media/housesbanner.png)\n",
    "\n",
    "# Prerequisites\n",
    "\n",
    "You're ready for this course if you've built a machine learning model before, and you're familiar with topics such as [model validation](https://www.kaggle.com/dansbecker/model-validation), [underfitting and overfitting](https://www.kaggle.com/dansbecker/underfitting-and-overfitting), and [random forests](https://www.kaggle.com/dansbecker/random-forests).  \n",
    "\n",
    "If you're completely new to machine learning, please check out our [Intro to Machine Learning course](https://www.kaggle.com/learn/intro-to-machine-learning), which covers everything you need to prepare for this course.\n",
    "\n",
    "\n",
    "# Your Turn\n",
    "\n",
    "Continue to the **[first exercise](https://www.kaggle.com/kernels/fork/3370272)** to learn how to submit predictions to a Kaggle competition and determine what you might need to review before getting started."
   ]
  },
  {
   "cell_type": "markdown",
   "id": "fffaac43",
   "metadata": {
    "papermill": {
     "duration": 0.00135,
     "end_time": "2023-04-21T13:41:11.832825",
     "exception": false,
     "start_time": "2023-04-21T13:41:11.831475",
     "status": "completed"
    },
    "tags": []
   },
   "source": [
    "---\n",
    "\n",
    "\n",
    "\n",
    "\n",
    "*Have questions or comments? Visit the [course discussion forum](https://www.kaggle.com/learn/intermediate-machine-learning/discussion) to chat with other learners.*"
   ]
  },
  {
   "cell_type": "markdown",
   "id": "73575ae6",
   "metadata": {
    "papermill": {
     "duration": 0.004925,
     "end_time": "2023-04-21T13:40:52.185098",
     "exception": false,
     "start_time": "2023-04-21T13:40:52.180173",
     "status": "completed"
    },
    "tags": []
   },
   "source": [
    "In this tutorial, you will learn three approaches to **dealing with missing values**. Then you'll compare the effectiveness of these approaches on a real-world dataset.\n",
    "\n",
    "# Introduction\n",
    "\n",
    "There are many ways data can end up with missing values. For example,\n",
    "- A 2 bedroom house won't include a value for the size of a third bedroom.\n",
    "- A survey respondent may choose not to share his income.\n",
    "\n",
    "Most machine learning libraries (including scikit-learn) give an error if you try to build a model using data with missing values. So you'll need to choose one of the strategies below."
   ]
  },
  {
   "cell_type": "markdown",
   "id": "76d98a93",
   "metadata": {
    "papermill": {
     "duration": 0.003361,
     "end_time": "2023-04-21T13:40:52.192292",
     "exception": false,
     "start_time": "2023-04-21T13:40:52.188931",
     "status": "completed"
    },
    "tags": []
   },
   "source": [
    "# Three Approaches\n",
    "\n",
    "\n",
    "### 1) A Simple Option: Drop Columns with Missing Values\n",
    "\n",
    "The simplest option is to drop columns with missing values. \n",
    "\n",
    "![tut2_approach1](https://storage.googleapis.com/kaggle-media/learn/images/Sax80za.png)\n",
    "\n",
    "Unless most values in the dropped columns are missing, the model loses access to a lot of (potentially useful!) information with this approach.  As an extreme example, consider a dataset with 10,000 rows, where one important column is missing a single entry. This approach would drop the column entirely!\n",
    "\n",
    "### 2) A Better Option: Imputation\n",
    "\n",
    "**Imputation** fills in the missing values with some number.  For instance, we can fill in the mean value along each column. \n",
    "\n",
    "![tut2_approach2](https://storage.googleapis.com/kaggle-media/learn/images/4BpnlPA.png)\n",
    "\n",
    "The imputed value won't be exactly right in most cases, but it usually leads to more accurate models than you would get from dropping the column entirely.\n",
    "\n",
    "### 3) An Extension To Imputation\n",
    "\n",
    "Imputation is the standard approach, and it usually works well. However, imputed values may be systematically above or below their actual values (which weren't collected in the dataset). Or rows with missing values may be unique in some other way. In that case, your model would make better predictions by considering which values were originally missing.  \n",
    "\n",
    "![tut3_approach3](https://storage.googleapis.com/kaggle-media/learn/images/UWOyg4a.png)\n",
    "\n",
    "In this approach, we impute the missing values, as before.  And, additionally, for each column with missing entries in the original dataset, we add a new column that shows the location of the imputed entries.\n",
    "\n",
    "In some cases, this will meaningfully improve results. In other cases, it doesn't help at all.\n",
    "\n",
    "# Example \n",
    "\n",
    "In the example, we will work with the [Melbourne Housing dataset](https://www.kaggle.com/dansbecker/melbourne-housing-snapshot/home).  Our model will use information such as the number of rooms and land size to predict home price.\n",
    "\n",
    "We won't focus on the data loading step. Instead, you can imagine you are at a point where you already have the training and validation data in `X_train`, `X_valid`, `y_train`, and `y_valid`. "
   ]
  },
  {
   "cell_type": "code",
   "execution_count": 1,
   "id": "aa8e5f23",
   "metadata": {
    "_kg_hide-input": true,
    "_kg_hide-output": true,
    "execution": {
     "iopub.execute_input": "2023-04-21T13:40:52.202085Z",
     "iopub.status.busy": "2023-04-21T13:40:52.201222Z",
     "iopub.status.idle": "2023-04-21T13:40:53.588600Z",
     "shell.execute_reply": "2023-04-21T13:40:53.587445Z"
    },
    "papermill": {
     "duration": 1.395479,
     "end_time": "2023-04-21T13:40:53.591425",
     "exception": false,
     "start_time": "2023-04-21T13:40:52.195946",
     "status": "completed"
    },
    "tags": []
   },
   "outputs": [],
   "source": [
    "\n",
    "import pandas as pd\n",
    "from sklearn.model_selection import train_test_split\n",
    "\n",
    "# Load the data\n",
    "data = pd.read_csv('../input/melbourne-housing-snapshot/melb_data.csv')\n",
    "\n",
    "# Select target\n",
    "y = data.Price\n",
    "\n",
    "# To keep things simple, we'll use only numerical predictors\n",
    "melb_predictors = data.drop(['Price'], axis=1)\n",
    "X = melb_predictors.select_dtypes(exclude=['object'])\n",
    "\n",
    "# Divide data into training and validation subsets\n",
    "X_train, X_valid, y_train, y_valid = train_test_split(X, y, train_size=0.8, test_size=0.2,\n",
    "                                                      random_state=0)"
   ]
  },
  {
   "cell_type": "markdown",
   "id": "5d43df63",
   "metadata": {
    "papermill": {
     "duration": 0.003595,
     "end_time": "2023-04-21T13:40:53.599519",
     "exception": false,
     "start_time": "2023-04-21T13:40:53.595924",
     "status": "completed"
    },
    "tags": []
   },
   "source": [
    "### Define Function to Measure Quality of Each Approach\n",
    "\n",
    "We define a function `score_dataset()` to compare different approaches to dealing with missing values. This function reports the [mean absolute error](https://en.wikipedia.org/wiki/Mean_absolute_error) (MAE) from a random forest model."
   ]
  },
  {
   "cell_type": "code",
   "execution_count": 2,
   "id": "75b71fcd",
   "metadata": {
    "_kg_hide-input": true,
    "_kg_hide-output": true,
    "execution": {
     "iopub.execute_input": "2023-04-21T13:40:53.608718Z",
     "iopub.status.busy": "2023-04-21T13:40:53.608282Z",
     "iopub.status.idle": "2023-04-21T13:40:54.012025Z",
     "shell.execute_reply": "2023-04-21T13:40:54.010658Z"
    },
    "papermill": {
     "duration": 0.411656,
     "end_time": "2023-04-21T13:40:54.014914",
     "exception": false,
     "start_time": "2023-04-21T13:40:53.603258",
     "status": "completed"
    },
    "tags": []
   },
   "outputs": [],
   "source": [
    "\n",
    "from sklearn.ensemble import RandomForestRegressor\n",
    "from sklearn.metrics import mean_absolute_error\n",
    "\n",
    "# Function for comparing different approaches\n",
    "def score_dataset(X_train, X_valid, y_train, y_valid):\n",
    "    model = RandomForestRegressor(n_estimators=10, random_state=0)\n",
    "    model.fit(X_train, y_train)\n",
    "    preds = model.predict(X_valid)\n",
    "    return mean_absolute_error(y_valid, preds)"
   ]
  },
  {
   "cell_type": "markdown",
   "id": "0061d804",
   "metadata": {
    "papermill": {
     "duration": 0.003579,
     "end_time": "2023-04-21T13:40:54.022394",
     "exception": false,
     "start_time": "2023-04-21T13:40:54.018815",
     "status": "completed"
    },
    "tags": []
   },
   "source": [
    "### Score from Approach 1 (Drop Columns with Missing Values)\n",
    "\n",
    "Since we are working with both training and validation sets, we are careful to drop the same columns in both DataFrames.  "
   ]
  },
  {
   "cell_type": "code",
   "execution_count": 3,
   "id": "f1ef567d",
   "metadata": {
    "execution": {
     "iopub.execute_input": "2023-04-21T13:40:54.031964Z",
     "iopub.status.busy": "2023-04-21T13:40:54.031522Z",
     "iopub.status.idle": "2023-04-21T13:40:54.542657Z",
     "shell.execute_reply": "2023-04-21T13:40:54.541264Z"
    },
    "papermill": {
     "duration": 0.519409,
     "end_time": "2023-04-21T13:40:54.545608",
     "exception": false,
     "start_time": "2023-04-21T13:40:54.026199",
     "status": "completed"
    },
    "tags": []
   },
   "outputs": [
    {
     "name": "stdout",
     "output_type": "stream",
     "text": [
      "MAE from Approach 1 (Drop columns with missing values):\n",
      "183550.22137772635\n"
     ]
    }
   ],
   "source": [
    "# Get names of columns with missing values\n",
    "cols_with_missing = [col for col in X_train.columns\n",
    "                     if X_train[col].isnull().any()]\n",
    "\n",
    "# Drop columns in training and validation data\n",
    "reduced_X_train = X_train.drop(cols_with_missing, axis=1)\n",
    "reduced_X_valid = X_valid.drop(cols_with_missing, axis=1)\n",
    "\n",
    "print(\"MAE from Approach 1 (Drop columns with missing values):\")\n",
    "print(score_dataset(reduced_X_train, reduced_X_valid, y_train, y_valid))"
   ]
  },
  {
   "cell_type": "markdown",
   "id": "4827843b",
   "metadata": {
    "papermill": {
     "duration": 0.003713,
     "end_time": "2023-04-21T13:40:54.553650",
     "exception": false,
     "start_time": "2023-04-21T13:40:54.549937",
     "status": "completed"
    },
    "tags": []
   },
   "source": [
    "### Score from Approach 2 (Imputation)\n",
    "\n",
    "Next, we use [`SimpleImputer`](https://scikit-learn.org/stable/modules/generated/sklearn.impute.SimpleImputer.html) to replace missing values with the mean value along each column.\n",
    "\n",
    "Although it's simple, filling in the mean value generally performs quite well (but this varies by dataset).  While statisticians have experimented with more complex ways to determine imputed values (such as **regression imputation**, for instance), the complex strategies typically give no additional benefit once you plug the results into sophisticated machine learning models."
   ]
  },
  {
   "cell_type": "code",
   "execution_count": 4,
   "id": "09687042",
   "metadata": {
    "execution": {
     "iopub.execute_input": "2023-04-21T13:40:54.564084Z",
     "iopub.status.busy": "2023-04-21T13:40:54.563095Z",
     "iopub.status.idle": "2023-04-21T13:40:55.216772Z",
     "shell.execute_reply": "2023-04-21T13:40:55.215374Z"
    },
    "papermill": {
     "duration": 0.661708,
     "end_time": "2023-04-21T13:40:55.219381",
     "exception": false,
     "start_time": "2023-04-21T13:40:54.557673",
     "status": "completed"
    },
    "tags": []
   },
   "outputs": [
    {
     "name": "stdout",
     "output_type": "stream",
     "text": [
      "MAE from Approach 2 (Imputation):\n",
      "178166.46269899711\n"
     ]
    }
   ],
   "source": [
    "from sklearn.impute import SimpleImputer\n",
    "\n",
    "# Imputation\n",
    "my_imputer = SimpleImputer()\n",
    "imputed_X_train = pd.DataFrame(my_imputer.fit_transform(X_train))\n",
    "imputed_X_valid = pd.DataFrame(my_imputer.transform(X_valid))\n",
    "\n",
    "# Imputation removed column names; put them back\n",
    "imputed_X_train.columns = X_train.columns\n",
    "imputed_X_valid.columns = X_valid.columns\n",
    "\n",
    "print(\"MAE from Approach 2 (Imputation):\")\n",
    "print(score_dataset(imputed_X_train, imputed_X_valid, y_train, y_valid))"
   ]
  },
  {
   "cell_type": "markdown",
   "id": "505cef52",
   "metadata": {
    "papermill": {
     "duration": 0.00408,
     "end_time": "2023-04-21T13:40:55.227608",
     "exception": false,
     "start_time": "2023-04-21T13:40:55.223528",
     "status": "completed"
    },
    "tags": []
   },
   "source": [
    "We see that **Approach 2** has lower MAE than **Approach 1**, so **Approach 2** performed better on this dataset.\n",
    "\n",
    "### Score from Approach 3 (An Extension to Imputation)\n",
    "\n",
    "Next, we impute the missing values, while also keeping track of which values were imputed."
   ]
  },
  {
   "cell_type": "code",
   "execution_count": 5,
   "id": "c6c621f7",
   "metadata": {
    "execution": {
     "iopub.execute_input": "2023-04-21T13:40:55.239224Z",
     "iopub.status.busy": "2023-04-21T13:40:55.238079Z",
     "iopub.status.idle": "2023-04-21T13:40:55.964457Z",
     "shell.execute_reply": "2023-04-21T13:40:55.962944Z"
    },
    "papermill": {
     "duration": 0.735324,
     "end_time": "2023-04-21T13:40:55.967310",
     "exception": false,
     "start_time": "2023-04-21T13:40:55.231986",
     "status": "completed"
    },
    "tags": []
   },
   "outputs": [
    {
     "name": "stdout",
     "output_type": "stream",
     "text": [
      "MAE from Approach 3 (An Extension to Imputation):\n",
      "178927.503183954\n"
     ]
    }
   ],
   "source": [
    "# Make copy to avoid changing original data (when imputing)\n",
    "X_train_plus = X_train.copy()\n",
    "X_valid_plus = X_valid.copy()\n",
    "\n",
    "# Make new columns indicating what will be imputed\n",
    "for col in cols_with_missing:\n",
    "    X_train_plus[col + '_was_missing'] = X_train_plus[col].isnull()\n",
    "    X_valid_plus[col + '_was_missing'] = X_valid_plus[col].isnull()\n",
    "\n",
    "# Imputation\n",
    "my_imputer = SimpleImputer()\n",
    "imputed_X_train_plus = pd.DataFrame(my_imputer.fit_transform(X_train_plus))\n",
    "imputed_X_valid_plus = pd.DataFrame(my_imputer.transform(X_valid_plus))\n",
    "\n",
    "# Imputation removed column names; put them back\n",
    "imputed_X_train_plus.columns = X_train_plus.columns\n",
    "imputed_X_valid_plus.columns = X_valid_plus.columns\n",
    "\n",
    "print(\"MAE from Approach 3 (An Extension to Imputation):\")\n",
    "print(score_dataset(imputed_X_train_plus, imputed_X_valid_plus, y_train, y_valid))"
   ]
  },
  {
   "cell_type": "markdown",
   "id": "2aaff5c0",
   "metadata": {
    "papermill": {
     "duration": 0.004371,
     "end_time": "2023-04-21T13:40:55.976319",
     "exception": false,
     "start_time": "2023-04-21T13:40:55.971948",
     "status": "completed"
    },
    "tags": []
   },
   "source": [
    "As we can see, **Approach 3** performed slightly worse than **Approach 2**.\n",
    "\n",
    "### So, why did imputation perform better than dropping the columns?\n",
    "\n",
    "The training data has 10864 rows and 12 columns, where three columns contain missing data.  For each column, less than half of the entries are missing.  Thus, dropping the columns removes a lot of useful information, and so it makes sense that imputation would perform better."
   ]
  },
  {
   "cell_type": "code",
   "execution_count": 6,
   "id": "c46bd5d6",
   "metadata": {
    "execution": {
     "iopub.execute_input": "2023-04-21T13:40:55.988155Z",
     "iopub.status.busy": "2023-04-21T13:40:55.987016Z",
     "iopub.status.idle": "2023-04-21T13:40:55.998281Z",
     "shell.execute_reply": "2023-04-21T13:40:55.997136Z"
    },
    "papermill": {
     "duration": 0.020267,
     "end_time": "2023-04-21T13:40:56.000823",
     "exception": false,
     "start_time": "2023-04-21T13:40:55.980556",
     "status": "completed"
    },
    "tags": []
   },
   "outputs": [
    {
     "name": "stdout",
     "output_type": "stream",
     "text": [
      "(10864, 12)\n",
      "Car               49\n",
      "BuildingArea    5156\n",
      "YearBuilt       4307\n",
      "dtype: int64\n"
     ]
    }
   ],
   "source": [
    "# Shape of training data (num_rows, num_columns)\n",
    "print(X_train.shape)\n",
    "\n",
    "# Number of missing values in each column of training data\n",
    "missing_val_count_by_column = (X_train.isnull().sum())\n",
    "print(missing_val_count_by_column[missing_val_count_by_column > 0])"
   ]
  },
  {
   "cell_type": "markdown",
   "id": "468ddf78",
   "metadata": {
    "papermill": {
     "duration": 0.00485,
     "end_time": "2023-04-21T13:40:56.010418",
     "exception": false,
     "start_time": "2023-04-21T13:40:56.005568",
     "status": "completed"
    },
    "tags": []
   },
   "source": [
    "# Conclusion\n",
    "As is common, imputing missing values (in **Approach 2** and **Approach 3**) yielded better results, relative to when we simply dropped columns with missing values (in **Approach 1**).\n",
    "\n",
    "# Your Turn\n",
    "\n",
    "Compare these approaches to dealing with missing values yourself in **[this exercise](https://www.kaggle.com/kernels/fork/3370280)**!"
   ]
  },
  {
   "cell_type": "markdown",
   "id": "ac1ed71c",
   "metadata": {
    "papermill": {
     "duration": 0.004029,
     "end_time": "2023-04-21T13:40:56.018883",
     "exception": false,
     "start_time": "2023-04-21T13:40:56.014854",
     "status": "completed"
    },
    "tags": []
   },
   "source": [
    "---\n",
    "\n",
    "\n",
    "\n",
    "\n",
    "*Have questions or comments? Visit the [course discussion forum](https://www.kaggle.com/learn/intermediate-machine-learning/discussion) to chat with other learners.*"
   ]
  },
  {
   "cell_type": "markdown",
   "id": "ebf629ad",
   "metadata": {
    "papermill": {
     "duration": 0.005599,
     "end_time": "2023-04-21T13:40:51.190955",
     "exception": false,
     "start_time": "2023-04-21T13:40:51.185356",
     "status": "completed"
    },
    "tags": []
   },
   "source": [
    "In this tutorial, you will learn what a **categorical variable** is, along with three approaches for handling this type of data.\n",
    "\n",
    "\n",
    "# Introduction\n",
    "\n",
    "A **categorical variable** takes only a limited number of values.  \n",
    "\n",
    "- Consider a survey that asks how often you eat breakfast and provides four options: \"Never\", \"Rarely\", \"Most days\", or \"Every day\".  In this case, the data is categorical, because responses fall into a fixed set of categories.\n",
    "- If people responded to a survey about which what brand of car they owned, the responses would fall into categories like \"Honda\", \"Toyota\", and \"Ford\".  In this case, the data is also categorical.\n",
    "\n",
    "You will get an error if you try to plug these variables into most machine learning models in Python without preprocessing them first.  In this tutorial, we'll compare three approaches that you can use to prepare your categorical data.\n",
    "\n",
    "# Three Approaches\n",
    "\n",
    "### 1) Drop Categorical Variables\n",
    "\n",
    "The easiest approach to dealing with categorical variables is to simply remove them from the dataset.  This approach will only work well if the columns did not contain useful information.\n",
    "\n",
    "### 2) Ordinal Encoding\n",
    "\n",
    "**Ordinal encoding** assigns each unique value to a different integer.\n",
    "\n",
    "![tut3_ordinalencode](https://storage.googleapis.com/kaggle-media/learn/images/tEogUAr.png)\n",
    "\n",
    "This approach assumes an ordering of the categories: \"Never\" (0) < \"Rarely\" (1) < \"Most days\" (2) < \"Every day\" (3).\n",
    "\n",
    "This assumption makes sense in this example, because there is an indisputable ranking to the categories.  Not all categorical variables have a clear ordering in the values, but we refer to those that do as **ordinal variables**.  For tree-based models (like decision trees and random forests), you can expect ordinal encoding to work well with ordinal variables. \n",
    "\n",
    "### 3) One-Hot Encoding\n",
    "\n",
    "**One-hot encoding** creates new columns indicating the presence (or absence) of each possible value in the original data.  To understand this, we'll work through an example.\n",
    "\n",
    "![tut3_onehot](https://storage.googleapis.com/kaggle-media/learn/images/TW5m0aJ.png)\n",
    "\n",
    "In the original dataset, \"Color\" is a categorical variable with three categories: \"Red\", \"Yellow\", and \"Green\".  The corresponding one-hot encoding contains one column for each possible value, and one row for each row in the original dataset.  Wherever the original value was \"Red\", we put a 1 in the \"Red\" column; if the original value was \"Yellow\", we put a 1 in the \"Yellow\" column, and so on.  \n",
    "\n",
    "In contrast to ordinal encoding, one-hot encoding *does not* assume an ordering of the categories.  Thus, you can expect this approach to work particularly well if there is no clear ordering in the categorical data (e.g., \"Red\" is neither _more_ nor _less_ than \"Yellow\").  We refer to categorical variables without an intrinsic ranking as **nominal variables**.\n",
    "\n",
    "One-hot encoding generally does not perform well if the categorical variable takes on a large number of values (i.e., you generally won't use it for variables taking more than 15 different values). \n",
    "\n",
    "# Example\n",
    "\n",
    "As in the previous tutorial, we will work with the [Melbourne Housing dataset](https://www.kaggle.com/dansbecker/melbourne-housing-snapshot/home).  \n",
    "\n",
    "We won't focus on the data loading step. Instead, you can imagine you are at a point where you already have the training and validation data in `X_train`, `X_valid`, `y_train`, and `y_valid`. "
   ]
  },
  {
   "cell_type": "code",
   "execution_count": 1,
   "id": "82c93657",
   "metadata": {
    "_kg_hide-input": true,
    "_kg_hide-output": true,
    "execution": {
     "iopub.execute_input": "2023-04-21T13:40:51.203277Z",
     "iopub.status.busy": "2023-04-21T13:40:51.202120Z",
     "iopub.status.idle": "2023-04-21T13:40:52.445296Z",
     "shell.execute_reply": "2023-04-21T13:40:52.443916Z"
    },
    "papermill": {
     "duration": 1.252981,
     "end_time": "2023-04-21T13:40:52.448612",
     "exception": false,
     "start_time": "2023-04-21T13:40:51.195631",
     "status": "completed"
    },
    "tags": []
   },
   "outputs": [],
   "source": [
    "\n",
    "import pandas as pd\n",
    "from sklearn.model_selection import train_test_split\n",
    "\n",
    "# Read the data\n",
    "data = pd.read_csv('../input/melbourne-housing-snapshot/melb_data.csv')\n",
    "\n",
    "# Separate target from predictors\n",
    "y = data.Price\n",
    "X = data.drop(['Price'], axis=1)\n",
    "\n",
    "# Divide data into training and validation subsets\n",
    "X_train_full, X_valid_full, y_train, y_valid = train_test_split(X, y, train_size=0.8, test_size=0.2,\n",
    "                                                                random_state=0)\n",
    "\n",
    "# Drop columns with missing values (simplest approach)\n",
    "cols_with_missing = [col for col in X_train_full.columns if X_train_full[col].isnull().any()] \n",
    "X_train_full.drop(cols_with_missing, axis=1, inplace=True)\n",
    "X_valid_full.drop(cols_with_missing, axis=1, inplace=True)\n",
    "\n",
    "# \"Cardinality\" means the number of unique values in a column\n",
    "# Select categorical columns with relatively low cardinality (convenient but arbitrary)\n",
    "low_cardinality_cols = [cname for cname in X_train_full.columns if X_train_full[cname].nunique() < 10 and \n",
    "                        X_train_full[cname].dtype == \"object\"]\n",
    "\n",
    "# Select numerical columns\n",
    "numerical_cols = [cname for cname in X_train_full.columns if X_train_full[cname].dtype in ['int64', 'float64']]\n",
    "\n",
    "# Keep selected columns only\n",
    "my_cols = low_cardinality_cols + numerical_cols\n",
    "X_train = X_train_full[my_cols].copy()\n",
    "X_valid = X_valid_full[my_cols].copy()"
   ]
  },
  {
   "cell_type": "markdown",
   "id": "a42ad002",
   "metadata": {
    "papermill": {
     "duration": 0.003579,
     "end_time": "2023-04-21T13:40:52.456227",
     "exception": false,
     "start_time": "2023-04-21T13:40:52.452648",
     "status": "completed"
    },
    "tags": []
   },
   "source": [
    "We take a peek at the training data with the `head()` method below. "
   ]
  },
  {
   "cell_type": "code",
   "execution_count": 2,
   "id": "606efdbc",
   "metadata": {
    "execution": {
     "iopub.execute_input": "2023-04-21T13:40:52.466116Z",
     "iopub.status.busy": "2023-04-21T13:40:52.465038Z",
     "iopub.status.idle": "2023-04-21T13:40:52.501553Z",
     "shell.execute_reply": "2023-04-21T13:40:52.500028Z"
    },
    "papermill": {
     "duration": 0.044643,
     "end_time": "2023-04-21T13:40:52.504472",
     "exception": false,
     "start_time": "2023-04-21T13:40:52.459829",
     "status": "completed"
    },
    "tags": []
   },
   "outputs": [
    {
     "data": {
      "text/html": [
       "<div>\n",
       "<style scoped>\n",
       "    .dataframe tbody tr th:only-of-type {\n",
       "        vertical-align: middle;\n",
       "    }\n",
       "\n",
       "    .dataframe tbody tr th {\n",
       "        vertical-align: top;\n",
       "    }\n",
       "\n",
       "    .dataframe thead th {\n",
       "        text-align: right;\n",
       "    }\n",
       "</style>\n",
       "<table border=\"1\" class=\"dataframe\">\n",
       "  <thead>\n",
       "    <tr style=\"text-align: right;\">\n",
       "      <th></th>\n",
       "      <th>Type</th>\n",
       "      <th>Method</th>\n",
       "      <th>Regionname</th>\n",
       "      <th>Rooms</th>\n",
       "      <th>Distance</th>\n",
       "      <th>Postcode</th>\n",
       "      <th>Bedroom2</th>\n",
       "      <th>Bathroom</th>\n",
       "      <th>Landsize</th>\n",
       "      <th>Lattitude</th>\n",
       "      <th>Longtitude</th>\n",
       "      <th>Propertycount</th>\n",
       "    </tr>\n",
       "  </thead>\n",
       "  <tbody>\n",
       "    <tr>\n",
       "      <th>12167</th>\n",
       "      <td>u</td>\n",
       "      <td>S</td>\n",
       "      <td>Southern Metropolitan</td>\n",
       "      <td>1</td>\n",
       "      <td>5.0</td>\n",
       "      <td>3182.0</td>\n",
       "      <td>1.0</td>\n",
       "      <td>1.0</td>\n",
       "      <td>0.0</td>\n",
       "      <td>-37.85984</td>\n",
       "      <td>144.9867</td>\n",
       "      <td>13240.0</td>\n",
       "    </tr>\n",
       "    <tr>\n",
       "      <th>6524</th>\n",
       "      <td>h</td>\n",
       "      <td>SA</td>\n",
       "      <td>Western Metropolitan</td>\n",
       "      <td>2</td>\n",
       "      <td>8.0</td>\n",
       "      <td>3016.0</td>\n",
       "      <td>2.0</td>\n",
       "      <td>2.0</td>\n",
       "      <td>193.0</td>\n",
       "      <td>-37.85800</td>\n",
       "      <td>144.9005</td>\n",
       "      <td>6380.0</td>\n",
       "    </tr>\n",
       "    <tr>\n",
       "      <th>8413</th>\n",
       "      <td>h</td>\n",
       "      <td>S</td>\n",
       "      <td>Western Metropolitan</td>\n",
       "      <td>3</td>\n",
       "      <td>12.6</td>\n",
       "      <td>3020.0</td>\n",
       "      <td>3.0</td>\n",
       "      <td>1.0</td>\n",
       "      <td>555.0</td>\n",
       "      <td>-37.79880</td>\n",
       "      <td>144.8220</td>\n",
       "      <td>3755.0</td>\n",
       "    </tr>\n",
       "    <tr>\n",
       "      <th>2919</th>\n",
       "      <td>u</td>\n",
       "      <td>SP</td>\n",
       "      <td>Northern Metropolitan</td>\n",
       "      <td>3</td>\n",
       "      <td>13.0</td>\n",
       "      <td>3046.0</td>\n",
       "      <td>3.0</td>\n",
       "      <td>1.0</td>\n",
       "      <td>265.0</td>\n",
       "      <td>-37.70830</td>\n",
       "      <td>144.9158</td>\n",
       "      <td>8870.0</td>\n",
       "    </tr>\n",
       "    <tr>\n",
       "      <th>6043</th>\n",
       "      <td>h</td>\n",
       "      <td>S</td>\n",
       "      <td>Western Metropolitan</td>\n",
       "      <td>3</td>\n",
       "      <td>13.3</td>\n",
       "      <td>3020.0</td>\n",
       "      <td>3.0</td>\n",
       "      <td>1.0</td>\n",
       "      <td>673.0</td>\n",
       "      <td>-37.76230</td>\n",
       "      <td>144.8272</td>\n",
       "      <td>4217.0</td>\n",
       "    </tr>\n",
       "  </tbody>\n",
       "</table>\n",
       "</div>"
      ],
      "text/plain": [
       "      Type Method             Regionname  Rooms  Distance  Postcode  Bedroom2  \\\n",
       "12167    u      S  Southern Metropolitan      1       5.0    3182.0       1.0   \n",
       "6524     h     SA   Western Metropolitan      2       8.0    3016.0       2.0   \n",
       "8413     h      S   Western Metropolitan      3      12.6    3020.0       3.0   \n",
       "2919     u     SP  Northern Metropolitan      3      13.0    3046.0       3.0   \n",
       "6043     h      S   Western Metropolitan      3      13.3    3020.0       3.0   \n",
       "\n",
       "       Bathroom  Landsize  Lattitude  Longtitude  Propertycount  \n",
       "12167       1.0       0.0  -37.85984    144.9867        13240.0  \n",
       "6524        2.0     193.0  -37.85800    144.9005         6380.0  \n",
       "8413        1.0     555.0  -37.79880    144.8220         3755.0  \n",
       "2919        1.0     265.0  -37.70830    144.9158         8870.0  \n",
       "6043        1.0     673.0  -37.76230    144.8272         4217.0  "
      ]
     },
     "execution_count": 2,
     "metadata": {},
     "output_type": "execute_result"
    }
   ],
   "source": [
    "X_train.head()"
   ]
  },
  {
   "cell_type": "markdown",
   "id": "c66852e0",
   "metadata": {
    "papermill": {
     "duration": 0.004275,
     "end_time": "2023-04-21T13:40:52.513444",
     "exception": false,
     "start_time": "2023-04-21T13:40:52.509169",
     "status": "completed"
    },
    "tags": []
   },
   "source": [
    "Next, we obtain a list of all of the categorical variables in the training data.\n",
    "\n",
    "We do this by checking the data type (or **dtype**) of each column.  The `object` dtype indicates a column has text (there are other things it could theoretically be, but that's unimportant for our purposes).  For this dataset, the columns with text indicate categorical variables."
   ]
  },
  {
   "cell_type": "code",
   "execution_count": 3,
   "id": "6fad3b7b",
   "metadata": {
    "execution": {
     "iopub.execute_input": "2023-04-21T13:40:52.525447Z",
     "iopub.status.busy": "2023-04-21T13:40:52.524085Z",
     "iopub.status.idle": "2023-04-21T13:40:52.532474Z",
     "shell.execute_reply": "2023-04-21T13:40:52.531238Z"
    },
    "papermill": {
     "duration": 0.017135,
     "end_time": "2023-04-21T13:40:52.535123",
     "exception": false,
     "start_time": "2023-04-21T13:40:52.517988",
     "status": "completed"
    },
    "tags": []
   },
   "outputs": [
    {
     "name": "stdout",
     "output_type": "stream",
     "text": [
      "Categorical variables:\n",
      "['Type', 'Method', 'Regionname']\n"
     ]
    }
   ],
   "source": [
    "# Get list of categorical variables\n",
    "s = (X_train.dtypes == 'object')\n",
    "object_cols = list(s[s].index)\n",
    "\n",
    "print(\"Categorical variables:\")\n",
    "print(object_cols)"
   ]
  },
  {
   "cell_type": "markdown",
   "id": "0ee1a930",
   "metadata": {
    "papermill": {
     "duration": 0.004169,
     "end_time": "2023-04-21T13:40:52.544040",
     "exception": false,
     "start_time": "2023-04-21T13:40:52.539871",
     "status": "completed"
    },
    "tags": []
   },
   "source": [
    "### Define Function to Measure Quality of Each Approach\n",
    "\n",
    "We define a function `score_dataset()` to compare the three different approaches to dealing with categorical variables. This function reports the [mean absolute error](https://en.wikipedia.org/wiki/Mean_absolute_error) (MAE) from a random forest model.  In general, we want the MAE to be as low as possible!"
   ]
  },
  {
   "cell_type": "code",
   "execution_count": 4,
   "id": "4ab4871e",
   "metadata": {
    "_kg_hide-input": true,
    "_kg_hide-output": true,
    "execution": {
     "iopub.execute_input": "2023-04-21T13:40:52.555238Z",
     "iopub.status.busy": "2023-04-21T13:40:52.554025Z",
     "iopub.status.idle": "2023-04-21T13:40:52.935832Z",
     "shell.execute_reply": "2023-04-21T13:40:52.934549Z"
    },
    "papermill": {
     "duration": 0.39065,
     "end_time": "2023-04-21T13:40:52.939077",
     "exception": false,
     "start_time": "2023-04-21T13:40:52.548427",
     "status": "completed"
    },
    "tags": []
   },
   "outputs": [],
   "source": [
    "\n",
    "from sklearn.ensemble import RandomForestRegressor\n",
    "from sklearn.metrics import mean_absolute_error\n",
    "\n",
    "# Function for comparing different approaches\n",
    "def score_dataset(X_train, X_valid, y_train, y_valid):\n",
    "    model = RandomForestRegressor(n_estimators=100, random_state=0)\n",
    "    model.fit(X_train, y_train)\n",
    "    preds = model.predict(X_valid)\n",
    "    return mean_absolute_error(y_valid, preds)"
   ]
  },
  {
   "cell_type": "markdown",
   "id": "190ffaba",
   "metadata": {
    "papermill": {
     "duration": 0.004258,
     "end_time": "2023-04-21T13:40:52.949673",
     "exception": false,
     "start_time": "2023-04-21T13:40:52.945415",
     "status": "completed"
    },
    "tags": []
   },
   "source": [
    "### Score from Approach 1 (Drop Categorical Variables)\n",
    "\n",
    "We drop the `object` columns with the [`select_dtypes()`](https://pandas.pydata.org/pandas-docs/stable/reference/api/pandas.DataFrame.select_dtypes.html) method. "
   ]
  },
  {
   "cell_type": "code",
   "execution_count": 5,
   "id": "d184ba5b",
   "metadata": {
    "_kg_hide-input": false,
    "execution": {
     "iopub.execute_input": "2023-04-21T13:40:52.961319Z",
     "iopub.status.busy": "2023-04-21T13:40:52.960463Z",
     "iopub.status.idle": "2023-04-21T13:40:57.970787Z",
     "shell.execute_reply": "2023-04-21T13:40:57.969206Z"
    },
    "papermill": {
     "duration": 5.019768,
     "end_time": "2023-04-21T13:40:57.973969",
     "exception": false,
     "start_time": "2023-04-21T13:40:52.954201",
     "status": "completed"
    },
    "tags": []
   },
   "outputs": [
    {
     "name": "stdout",
     "output_type": "stream",
     "text": [
      "MAE from Approach 1 (Drop categorical variables):\n",
      "175703.48185157913\n"
     ]
    }
   ],
   "source": [
    "drop_X_train = X_train.select_dtypes(exclude=['object'])\n",
    "drop_X_valid = X_valid.select_dtypes(exclude=['object'])\n",
    "\n",
    "print(\"MAE from Approach 1 (Drop categorical variables):\")\n",
    "print(score_dataset(drop_X_train, drop_X_valid, y_train, y_valid))"
   ]
  },
  {
   "cell_type": "markdown",
   "id": "3d0bccc0",
   "metadata": {
    "papermill": {
     "duration": 0.004613,
     "end_time": "2023-04-21T13:40:57.983695",
     "exception": false,
     "start_time": "2023-04-21T13:40:57.979082",
     "status": "completed"
    },
    "tags": []
   },
   "source": [
    "### Score from Approach 2 (Ordinal Encoding)\n",
    "\n",
    "Scikit-learn has a [`OrdinalEncoder`](https://scikit-learn.org/stable/modules/generated/sklearn.preprocessing.OrdinalEncoder.html) class that can be used to get ordinal encodings.  We loop over the categorical variables and apply the ordinal encoder separately to each column."
   ]
  },
  {
   "cell_type": "code",
   "execution_count": 6,
   "id": "102e1396",
   "metadata": {
    "execution": {
     "iopub.execute_input": "2023-04-21T13:40:57.995569Z",
     "iopub.status.busy": "2023-04-21T13:40:57.995080Z",
     "iopub.status.idle": "2023-04-21T13:41:03.612258Z",
     "shell.execute_reply": "2023-04-21T13:41:03.610707Z"
    },
    "papermill": {
     "duration": 5.62685,
     "end_time": "2023-04-21T13:41:03.615498",
     "exception": false,
     "start_time": "2023-04-21T13:40:57.988648",
     "status": "completed"
    },
    "tags": []
   },
   "outputs": [
    {
     "name": "stdout",
     "output_type": "stream",
     "text": [
      "MAE from Approach 2 (Ordinal Encoding):\n",
      "165936.40548390493\n"
     ]
    }
   ],
   "source": [
    "from sklearn.preprocessing import OrdinalEncoder\n",
    "\n",
    "# Make copy to avoid changing original data \n",
    "label_X_train = X_train.copy()\n",
    "label_X_valid = X_valid.copy()\n",
    "\n",
    "# Apply ordinal encoder to each column with categorical data\n",
    "ordinal_encoder = OrdinalEncoder()\n",
    "label_X_train[object_cols] = ordinal_encoder.fit_transform(X_train[object_cols])\n",
    "label_X_valid[object_cols] = ordinal_encoder.transform(X_valid[object_cols])\n",
    "\n",
    "print(\"MAE from Approach 2 (Ordinal Encoding):\") \n",
    "print(score_dataset(label_X_train, label_X_valid, y_train, y_valid))"
   ]
  },
  {
   "cell_type": "markdown",
   "id": "47c3a1d7",
   "metadata": {
    "papermill": {
     "duration": 0.004617,
     "end_time": "2023-04-21T13:41:03.625375",
     "exception": false,
     "start_time": "2023-04-21T13:41:03.620758",
     "status": "completed"
    },
    "tags": []
   },
   "source": [
    "In the code cell above, for each column, we randomly assign each unique value to a different integer.  This is a common approach that is simpler than providing custom labels; however, we can expect an additional boost in performance if we provide better-informed labels for all ordinal variables.\n",
    "\n",
    "### Score from Approach 3 (One-Hot Encoding)\n",
    "\n",
    "We use the [`OneHotEncoder`](https://scikit-learn.org/stable/modules/generated/sklearn.preprocessing.OneHotEncoder.html) class from scikit-learn to get one-hot encodings.  There are a number of parameters that can be used to customize its behavior.  \n",
    "- We set `handle_unknown='ignore'` to avoid errors when the validation data contains classes that aren't represented in the training data, and\n",
    "- setting `sparse=False` ensures that the encoded columns are returned as a numpy array (instead of a sparse matrix).\n",
    "\n",
    "To use the encoder, we supply only the categorical columns that we want to be one-hot encoded.  For instance, to encode the training data, we supply `X_train[object_cols]`. (`object_cols` in the code cell below is a list of the column names with categorical data, and so `X_train[object_cols]` contains all of the categorical data in the training set.)"
   ]
  },
  {
   "cell_type": "code",
   "execution_count": 7,
   "id": "4b9d96a9",
   "metadata": {
    "execution": {
     "iopub.execute_input": "2023-04-21T13:41:03.637475Z",
     "iopub.status.busy": "2023-04-21T13:41:03.636532Z",
     "iopub.status.idle": "2023-04-21T13:41:09.913535Z",
     "shell.execute_reply": "2023-04-21T13:41:09.912019Z"
    },
    "papermill": {
     "duration": 6.286754,
     "end_time": "2023-04-21T13:41:09.916948",
     "exception": false,
     "start_time": "2023-04-21T13:41:03.630194",
     "status": "completed"
    },
    "tags": []
   },
   "outputs": [
    {
     "name": "stdout",
     "output_type": "stream",
     "text": [
      "MAE from Approach 3 (One-Hot Encoding):\n",
      "166089.4893009678\n"
     ]
    }
   ],
   "source": [
    "from sklearn.preprocessing import OneHotEncoder\n",
    "\n",
    "# Apply one-hot encoder to each column with categorical data\n",
    "OH_encoder = OneHotEncoder(handle_unknown='ignore', sparse=False)\n",
    "OH_cols_train = pd.DataFrame(OH_encoder.fit_transform(X_train[object_cols]))\n",
    "OH_cols_valid = pd.DataFrame(OH_encoder.transform(X_valid[object_cols]))\n",
    "\n",
    "# One-hot encoding removed index; put it back\n",
    "OH_cols_train.index = X_train.index\n",
    "OH_cols_valid.index = X_valid.index\n",
    "\n",
    "# Remove categorical columns (will replace with one-hot encoding)\n",
    "num_X_train = X_train.drop(object_cols, axis=1)\n",
    "num_X_valid = X_valid.drop(object_cols, axis=1)\n",
    "\n",
    "# Add one-hot encoded columns to numerical features\n",
    "OH_X_train = pd.concat([num_X_train, OH_cols_train], axis=1)\n",
    "OH_X_valid = pd.concat([num_X_valid, OH_cols_valid], axis=1)\n",
    "\n",
    "# Ensure all columns have string type\n",
    "OH_X_train.columns = OH_X_train.columns.astype(str)\n",
    "OH_X_valid.columns = OH_X_valid.columns.astype(str)\n",
    "\n",
    "print(\"MAE from Approach 3 (One-Hot Encoding):\") \n",
    "print(score_dataset(OH_X_train, OH_X_valid, y_train, y_valid))"
   ]
  },
  {
   "cell_type": "markdown",
   "id": "9c070d11",
   "metadata": {
    "papermill": {
     "duration": 0.004991,
     "end_time": "2023-04-21T13:41:09.927602",
     "exception": false,
     "start_time": "2023-04-21T13:41:09.922611",
     "status": "completed"
    },
    "tags": []
   },
   "source": [
    "# Which approach is best?\n",
    "\n",
    "In this case, dropping the categorical columns (**Approach 1**) performed worst, since it had the highest MAE score.  As for the other two approaches, since the returned MAE scores are so close in value, there doesn't appear to be any meaningful benefit to one over the other.\n",
    "\n",
    "In general, one-hot encoding (**Approach 3**) will typically perform best, and dropping the categorical columns (**Approach 1**) typically performs worst, but it varies on a case-by-case basis. \n",
    "\n",
    "# Conclusion\n",
    "\n",
    "The world is filled with categorical data. You will be a much more effective data scientist if you know how to use this common data type!\n",
    "\n",
    "# Your Turn\n",
    "\n",
    "Put your new skills to work in the **[next exercise](https://www.kaggle.com/kernels/fork/3370279)**!"
   ]
  },
  {
   "cell_type": "markdown",
   "id": "5cfdba09",
   "metadata": {
    "papermill": {
     "duration": 0.004735,
     "end_time": "2023-04-21T13:41:09.937631",
     "exception": false,
     "start_time": "2023-04-21T13:41:09.932896",
     "status": "completed"
    },
    "tags": []
   },
   "source": [
    "---\n",
    "\n",
    "\n",
    "\n",
    "\n",
    "*Have questions or comments? Visit the [course discussion forum](https://www.kaggle.com/learn/intermediate-machine-learning/discussion) to chat with other learners.*"
   ]
  },
  {
   "cell_type": "markdown",
   "id": "8ca8ecca",
   "metadata": {
    "papermill": {
     "duration": 0.004097,
     "end_time": "2023-04-21T13:40:44.544620",
     "exception": false,
     "start_time": "2023-04-21T13:40:44.540523",
     "status": "completed"
    },
    "tags": []
   },
   "source": [
    "In this tutorial, you will learn how to use **pipelines** to clean up your modeling code.\n",
    "\n",
    "# Introduction\n",
    "\n",
    "**Pipelines** are a simple way to keep your data preprocessing and modeling code organized.  Specifically, a pipeline bundles preprocessing and modeling steps so you can use the whole bundle as if it were a single step.\n",
    "\n",
    "Many data scientists hack together models without pipelines, but pipelines have some important benefits. Those include:\n",
    "1. **Cleaner Code:** Accounting for data at each step of preprocessing can get messy.  With a pipeline, you won't need to manually keep track of your training and validation data at each step.\n",
    "2. **Fewer Bugs:** There are fewer opportunities to misapply a step or forget a preprocessing step.\n",
    "3. **Easier to Productionize:** It can be surprisingly hard to transition a model from a prototype to something deployable at scale.  We won't go into the many related concerns here, but pipelines can help.\n",
    "4. **More Options for Model Validation:** You will see an example in the next tutorial, which covers cross-validation.\n",
    "\n",
    "# Example\n",
    "\n",
    "As in the previous tutorial, we will work with the [Melbourne Housing dataset](https://www.kaggle.com/dansbecker/melbourne-housing-snapshot/home).  \n",
    "\n",
    "We won't focus on the data loading step. Instead, you can imagine you are at a point where you already have the training and validation data in `X_train`, `X_valid`, `y_train`, and `y_valid`. "
   ]
  },
  {
   "cell_type": "code",
   "execution_count": 1,
   "id": "7d5dfe8d",
   "metadata": {
    "_kg_hide-input": true,
    "_kg_hide-output": true,
    "execution": {
     "iopub.execute_input": "2023-04-21T13:40:44.552616Z",
     "iopub.status.busy": "2023-04-21T13:40:44.552177Z",
     "iopub.status.idle": "2023-04-21T13:40:45.671925Z",
     "shell.execute_reply": "2023-04-21T13:40:45.670833Z"
    },
    "papermill": {
     "duration": 1.126982,
     "end_time": "2023-04-21T13:40:45.674837",
     "exception": false,
     "start_time": "2023-04-21T13:40:44.547855",
     "status": "completed"
    },
    "tags": []
   },
   "outputs": [],
   "source": [
    "\n",
    "import pandas as pd\n",
    "from sklearn.model_selection import train_test_split\n",
    "\n",
    "# Read the data\n",
    "data = pd.read_csv('../input/melbourne-housing-snapshot/melb_data.csv')\n",
    "\n",
    "# Separate target from predictors\n",
    "y = data.Price\n",
    "X = data.drop(['Price'], axis=1)\n",
    "\n",
    "# Divide data into training and validation subsets\n",
    "X_train_full, X_valid_full, y_train, y_valid = train_test_split(X, y, train_size=0.8, test_size=0.2,\n",
    "                                                                random_state=0)\n",
    "\n",
    "# \"Cardinality\" means the number of unique values in a column\n",
    "# Select categorical columns with relatively low cardinality (convenient but arbitrary)\n",
    "categorical_cols = [cname for cname in X_train_full.columns if X_train_full[cname].nunique() < 10 and \n",
    "                        X_train_full[cname].dtype == \"object\"]\n",
    "\n",
    "# Select numerical columns\n",
    "numerical_cols = [cname for cname in X_train_full.columns if X_train_full[cname].dtype in ['int64', 'float64']]\n",
    "\n",
    "# Keep selected columns only\n",
    "my_cols = categorical_cols + numerical_cols\n",
    "X_train = X_train_full[my_cols].copy()\n",
    "X_valid = X_valid_full[my_cols].copy()"
   ]
  },
  {
   "cell_type": "markdown",
   "id": "063b6b2e",
   "metadata": {
    "papermill": {
     "duration": 0.002836,
     "end_time": "2023-04-21T13:40:45.680912",
     "exception": false,
     "start_time": "2023-04-21T13:40:45.678076",
     "status": "completed"
    },
    "tags": []
   },
   "source": [
    "We take a peek at the training data with the `head()` method below.  Notice that the data contains both categorical data and columns with missing values.  With a pipeline, it's easy to deal with both!"
   ]
  },
  {
   "cell_type": "code",
   "execution_count": 2,
   "id": "a033bca4",
   "metadata": {
    "execution": {
     "iopub.execute_input": "2023-04-21T13:40:45.688983Z",
     "iopub.status.busy": "2023-04-21T13:40:45.688279Z",
     "iopub.status.idle": "2023-04-21T13:40:45.723447Z",
     "shell.execute_reply": "2023-04-21T13:40:45.722260Z"
    },
    "papermill": {
     "duration": 0.042152,
     "end_time": "2023-04-21T13:40:45.726017",
     "exception": false,
     "start_time": "2023-04-21T13:40:45.683865",
     "status": "completed"
    },
    "tags": []
   },
   "outputs": [
    {
     "data": {
      "text/html": [
       "<div>\n",
       "<style scoped>\n",
       "    .dataframe tbody tr th:only-of-type {\n",
       "        vertical-align: middle;\n",
       "    }\n",
       "\n",
       "    .dataframe tbody tr th {\n",
       "        vertical-align: top;\n",
       "    }\n",
       "\n",
       "    .dataframe thead th {\n",
       "        text-align: right;\n",
       "    }\n",
       "</style>\n",
       "<table border=\"1\" class=\"dataframe\">\n",
       "  <thead>\n",
       "    <tr style=\"text-align: right;\">\n",
       "      <th></th>\n",
       "      <th>Type</th>\n",
       "      <th>Method</th>\n",
       "      <th>Regionname</th>\n",
       "      <th>Rooms</th>\n",
       "      <th>Distance</th>\n",
       "      <th>Postcode</th>\n",
       "      <th>Bedroom2</th>\n",
       "      <th>Bathroom</th>\n",
       "      <th>Car</th>\n",
       "      <th>Landsize</th>\n",
       "      <th>BuildingArea</th>\n",
       "      <th>YearBuilt</th>\n",
       "      <th>Lattitude</th>\n",
       "      <th>Longtitude</th>\n",
       "      <th>Propertycount</th>\n",
       "    </tr>\n",
       "  </thead>\n",
       "  <tbody>\n",
       "    <tr>\n",
       "      <th>12167</th>\n",
       "      <td>u</td>\n",
       "      <td>S</td>\n",
       "      <td>Southern Metropolitan</td>\n",
       "      <td>1</td>\n",
       "      <td>5.0</td>\n",
       "      <td>3182.0</td>\n",
       "      <td>1.0</td>\n",
       "      <td>1.0</td>\n",
       "      <td>1.0</td>\n",
       "      <td>0.0</td>\n",
       "      <td>NaN</td>\n",
       "      <td>1940.0</td>\n",
       "      <td>-37.85984</td>\n",
       "      <td>144.9867</td>\n",
       "      <td>13240.0</td>\n",
       "    </tr>\n",
       "    <tr>\n",
       "      <th>6524</th>\n",
       "      <td>h</td>\n",
       "      <td>SA</td>\n",
       "      <td>Western Metropolitan</td>\n",
       "      <td>2</td>\n",
       "      <td>8.0</td>\n",
       "      <td>3016.0</td>\n",
       "      <td>2.0</td>\n",
       "      <td>2.0</td>\n",
       "      <td>1.0</td>\n",
       "      <td>193.0</td>\n",
       "      <td>NaN</td>\n",
       "      <td>NaN</td>\n",
       "      <td>-37.85800</td>\n",
       "      <td>144.9005</td>\n",
       "      <td>6380.0</td>\n",
       "    </tr>\n",
       "    <tr>\n",
       "      <th>8413</th>\n",
       "      <td>h</td>\n",
       "      <td>S</td>\n",
       "      <td>Western Metropolitan</td>\n",
       "      <td>3</td>\n",
       "      <td>12.6</td>\n",
       "      <td>3020.0</td>\n",
       "      <td>3.0</td>\n",
       "      <td>1.0</td>\n",
       "      <td>1.0</td>\n",
       "      <td>555.0</td>\n",
       "      <td>NaN</td>\n",
       "      <td>NaN</td>\n",
       "      <td>-37.79880</td>\n",
       "      <td>144.8220</td>\n",
       "      <td>3755.0</td>\n",
       "    </tr>\n",
       "    <tr>\n",
       "      <th>2919</th>\n",
       "      <td>u</td>\n",
       "      <td>SP</td>\n",
       "      <td>Northern Metropolitan</td>\n",
       "      <td>3</td>\n",
       "      <td>13.0</td>\n",
       "      <td>3046.0</td>\n",
       "      <td>3.0</td>\n",
       "      <td>1.0</td>\n",
       "      <td>1.0</td>\n",
       "      <td>265.0</td>\n",
       "      <td>NaN</td>\n",
       "      <td>1995.0</td>\n",
       "      <td>-37.70830</td>\n",
       "      <td>144.9158</td>\n",
       "      <td>8870.0</td>\n",
       "    </tr>\n",
       "    <tr>\n",
       "      <th>6043</th>\n",
       "      <td>h</td>\n",
       "      <td>S</td>\n",
       "      <td>Western Metropolitan</td>\n",
       "      <td>3</td>\n",
       "      <td>13.3</td>\n",
       "      <td>3020.0</td>\n",
       "      <td>3.0</td>\n",
       "      <td>1.0</td>\n",
       "      <td>2.0</td>\n",
       "      <td>673.0</td>\n",
       "      <td>673.0</td>\n",
       "      <td>1970.0</td>\n",
       "      <td>-37.76230</td>\n",
       "      <td>144.8272</td>\n",
       "      <td>4217.0</td>\n",
       "    </tr>\n",
       "  </tbody>\n",
       "</table>\n",
       "</div>"
      ],
      "text/plain": [
       "      Type Method             Regionname  Rooms  Distance  Postcode  Bedroom2  \\\n",
       "12167    u      S  Southern Metropolitan      1       5.0    3182.0       1.0   \n",
       "6524     h     SA   Western Metropolitan      2       8.0    3016.0       2.0   \n",
       "8413     h      S   Western Metropolitan      3      12.6    3020.0       3.0   \n",
       "2919     u     SP  Northern Metropolitan      3      13.0    3046.0       3.0   \n",
       "6043     h      S   Western Metropolitan      3      13.3    3020.0       3.0   \n",
       "\n",
       "       Bathroom  Car  Landsize  BuildingArea  YearBuilt  Lattitude  \\\n",
       "12167       1.0  1.0       0.0           NaN     1940.0  -37.85984   \n",
       "6524        2.0  1.0     193.0           NaN        NaN  -37.85800   \n",
       "8413        1.0  1.0     555.0           NaN        NaN  -37.79880   \n",
       "2919        1.0  1.0     265.0           NaN     1995.0  -37.70830   \n",
       "6043        1.0  2.0     673.0         673.0     1970.0  -37.76230   \n",
       "\n",
       "       Longtitude  Propertycount  \n",
       "12167    144.9867        13240.0  \n",
       "6524     144.9005         6380.0  \n",
       "8413     144.8220         3755.0  \n",
       "2919     144.9158         8870.0  \n",
       "6043     144.8272         4217.0  "
      ]
     },
     "execution_count": 2,
     "metadata": {},
     "output_type": "execute_result"
    }
   ],
   "source": [
    "X_train.head()"
   ]
  },
  {
   "cell_type": "markdown",
   "id": "5cd6869d",
   "metadata": {
    "papermill": {
     "duration": 0.003116,
     "end_time": "2023-04-21T13:40:45.732696",
     "exception": false,
     "start_time": "2023-04-21T13:40:45.729580",
     "status": "completed"
    },
    "tags": []
   },
   "source": [
    "We construct the full pipeline in three steps.\n",
    "\n",
    "### Step 1: Define Preprocessing Steps\n",
    "\n",
    "Similar to how a pipeline bundles together preprocessing and modeling steps, we use the `ColumnTransformer` class to bundle together different preprocessing steps.  The code below:\n",
    "- imputes missing values in **_numerical_** data, and\n",
    "- imputes missing values and applies a one-hot encoding to **_categorical_** data."
   ]
  },
  {
   "cell_type": "code",
   "execution_count": 3,
   "id": "fb0a7110",
   "metadata": {
    "execution": {
     "iopub.execute_input": "2023-04-21T13:40:45.741376Z",
     "iopub.status.busy": "2023-04-21T13:40:45.740370Z",
     "iopub.status.idle": "2023-04-21T13:40:45.951131Z",
     "shell.execute_reply": "2023-04-21T13:40:45.950028Z"
    },
    "papermill": {
     "duration": 0.217754,
     "end_time": "2023-04-21T13:40:45.953692",
     "exception": false,
     "start_time": "2023-04-21T13:40:45.735938",
     "status": "completed"
    },
    "tags": []
   },
   "outputs": [],
   "source": [
    "from sklearn.compose import ColumnTransformer\n",
    "from sklearn.pipeline import Pipeline\n",
    "from sklearn.impute import SimpleImputer\n",
    "from sklearn.preprocessing import OneHotEncoder\n",
    "\n",
    "# Preprocessing for numerical data\n",
    "numerical_transformer = SimpleImputer(strategy='constant')\n",
    "\n",
    "# Preprocessing for categorical data\n",
    "categorical_transformer = Pipeline(steps=[\n",
    "    ('imputer', SimpleImputer(strategy='most_frequent')),\n",
    "    ('onehot', OneHotEncoder(handle_unknown='ignore'))\n",
    "])\n",
    "\n",
    "# Bundle preprocessing for numerical and categorical data\n",
    "preprocessor = ColumnTransformer(\n",
    "    transformers=[\n",
    "        ('num', numerical_transformer, numerical_cols),\n",
    "        ('cat', categorical_transformer, categorical_cols)\n",
    "    ])"
   ]
  },
  {
   "cell_type": "markdown",
   "id": "12f9391e",
   "metadata": {
    "papermill": {
     "duration": 0.003434,
     "end_time": "2023-04-21T13:40:45.960785",
     "exception": false,
     "start_time": "2023-04-21T13:40:45.957351",
     "status": "completed"
    },
    "tags": []
   },
   "source": [
    "### Step 2: Define the Model\n",
    "\n",
    "Next, we define a random forest model with the familiar [`RandomForestRegressor`](https://scikit-learn.org/stable/modules/generated/sklearn.ensemble.RandomForestRegressor.html) class."
   ]
  },
  {
   "cell_type": "code",
   "execution_count": 4,
   "id": "e8a8ffca",
   "metadata": {
    "execution": {
     "iopub.execute_input": "2023-04-21T13:40:45.970148Z",
     "iopub.status.busy": "2023-04-21T13:40:45.969187Z",
     "iopub.status.idle": "2023-04-21T13:40:46.130277Z",
     "shell.execute_reply": "2023-04-21T13:40:46.129302Z"
    },
    "papermill": {
     "duration": 0.168677,
     "end_time": "2023-04-21T13:40:46.132968",
     "exception": false,
     "start_time": "2023-04-21T13:40:45.964291",
     "status": "completed"
    },
    "tags": []
   },
   "outputs": [],
   "source": [
    "from sklearn.ensemble import RandomForestRegressor\n",
    "\n",
    "model = RandomForestRegressor(n_estimators=100, random_state=0)"
   ]
  },
  {
   "cell_type": "markdown",
   "id": "5835429f",
   "metadata": {
    "papermill": {
     "duration": 0.003398,
     "end_time": "2023-04-21T13:40:46.140308",
     "exception": false,
     "start_time": "2023-04-21T13:40:46.136910",
     "status": "completed"
    },
    "tags": []
   },
   "source": [
    "### Step 3: Create and Evaluate the Pipeline\n",
    "\n",
    "Finally, we use the [`Pipeline`](https://scikit-learn.org/stable/modules/generated/sklearn.pipeline.Pipeline.html) class to define a pipeline that bundles the preprocessing and modeling steps.  There are a few important things to notice:\n",
    "- With the pipeline, we preprocess the training data and fit the model in a single line of code.  (_In contrast, without a pipeline, we have to do imputation, one-hot encoding, and model training in separate steps.  This becomes especially messy if we have to deal with both numerical and categorical variables!_)\n",
    "- With the pipeline, we supply the unprocessed features in `X_valid` to the `predict()` command, and the pipeline automatically preprocesses the features before generating predictions.  (_However, without a pipeline, we have to remember to preprocess the validation data before making predictions._)"
   ]
  },
  {
   "cell_type": "code",
   "execution_count": 5,
   "id": "ff3d7dda",
   "metadata": {
    "execution": {
     "iopub.execute_input": "2023-04-21T13:40:46.149196Z",
     "iopub.status.busy": "2023-04-21T13:40:46.148800Z",
     "iopub.status.idle": "2023-04-21T13:40:53.573802Z",
     "shell.execute_reply": "2023-04-21T13:40:53.572529Z"
    },
    "papermill": {
     "duration": 7.432721,
     "end_time": "2023-04-21T13:40:53.576613",
     "exception": false,
     "start_time": "2023-04-21T13:40:46.143892",
     "status": "completed"
    },
    "tags": []
   },
   "outputs": [
    {
     "name": "stdout",
     "output_type": "stream",
     "text": [
      "MAE: 160679.18917034855\n"
     ]
    }
   ],
   "source": [
    "from sklearn.metrics import mean_absolute_error\n",
    "\n",
    "# Bundle preprocessing and modeling code in a pipeline\n",
    "my_pipeline = Pipeline(steps=[('preprocessor', preprocessor),\n",
    "                              ('model', model)\n",
    "                             ])\n",
    "\n",
    "# Preprocessing of training data, fit model \n",
    "my_pipeline.fit(X_train, y_train)\n",
    "\n",
    "# Preprocessing of validation data, get predictions\n",
    "preds = my_pipeline.predict(X_valid)\n",
    "\n",
    "# Evaluate the model\n",
    "score = mean_absolute_error(y_valid, preds)\n",
    "print('MAE:', score)"
   ]
  },
  {
   "cell_type": "markdown",
   "id": "17cc93b6",
   "metadata": {
    "papermill": {
     "duration": 0.003484,
     "end_time": "2023-04-21T13:40:53.583981",
     "exception": false,
     "start_time": "2023-04-21T13:40:53.580497",
     "status": "completed"
    },
    "tags": []
   },
   "source": [
    "# Conclusion\n",
    "\n",
    "Pipelines are valuable for cleaning up machine learning code and avoiding errors, and are especially useful for workflows with sophisticated data preprocessing.\n",
    "\n",
    "# Your Turn\n",
    "\n",
    "Use a pipeline in the [**next exercise**](https://www.kaggle.com/kernels/fork/3370278) to use advanced data preprocessing techniques and improve your predictions!"
   ]
  },
  {
   "cell_type": "markdown",
   "id": "3b3e14f3",
   "metadata": {
    "papermill": {
     "duration": 0.003579,
     "end_time": "2023-04-21T13:40:53.591254",
     "exception": false,
     "start_time": "2023-04-21T13:40:53.587675",
     "status": "completed"
    },
    "tags": []
   },
   "source": [
    "---\n",
    "\n",
    "\n",
    "\n",
    "\n",
    "*Have questions or comments? Visit the [course discussion forum](https://www.kaggle.com/learn/intermediate-machine-learning/discussion) to chat with other learners.*"
   ]
  },
  {
   "cell_type": "markdown",
   "id": "bc75bd21",
   "metadata": {
    "papermill": {
     "duration": 0.004224,
     "end_time": "2023-04-21T13:40:55.737383",
     "exception": false,
     "start_time": "2023-04-21T13:40:55.733159",
     "status": "completed"
    },
    "tags": []
   },
   "source": [
    "In this tutorial, you will learn how to use **cross-validation** for better measures of model performance.\n",
    "\n",
    "# Introduction\n",
    "\n",
    "Machine learning is an iterative process. \n",
    "\n",
    "You will face choices about what predictive variables to use, what types of models to use, what arguments to supply to those models, etc. So far, you have made these choices in a data-driven way by measuring model quality with a validation (or holdout) set.  \n",
    "\n",
    "But there are some drawbacks to this approach.  To see this, imagine you have a dataset with 5000 rows.  You will typically keep about 20% of the data as a validation dataset, or 1000 rows.  But this leaves some random chance in determining model scores.  That is, a model might do well on one set of 1000 rows, even if it would be inaccurate on a different 1000 rows.  \n",
    "\n",
    "At an extreme, you could imagine having only 1 row of data in the validation set. If you compare alternative models, which one makes the best predictions on a single data point will be mostly a matter of luck!\n",
    "\n",
    "In general, the larger the validation set, the less randomness (aka \"noise\") there is in our measure of model quality, and the more reliable it will be.  Unfortunately, we can only get a large validation set by removing rows from our training data, and smaller training datasets mean worse models!"
   ]
  },
  {
   "cell_type": "markdown",
   "id": "d472b783",
   "metadata": {
    "papermill": {
     "duration": 0.002888,
     "end_time": "2023-04-21T13:40:55.743783",
     "exception": false,
     "start_time": "2023-04-21T13:40:55.740895",
     "status": "completed"
    },
    "tags": []
   },
   "source": [
    "# What is cross-validation?\n",
    "\n",
    "In **cross-validation**, we run our modeling process on different subsets of the data to get multiple measures of model quality. \n",
    "\n",
    "For example, we could begin by dividing the data into 5 pieces, each 20% of the full dataset.  In this case, we say that we have broken the data into 5 \"**folds**\".  \n",
    "\n",
    "![tut5_crossval](https://storage.googleapis.com/kaggle-media/learn/images/9k60cVA.png)\n",
    "\n",
    "Then, we run one experiment for each fold:\n",
    "- In **Experiment 1**, we use the first fold as a validation (or holdout) set and everything else as training data. This gives us a measure of model quality based on a 20% holdout set.  \n",
    "- In **Experiment 2**, we hold out data from the second fold (and use everything except the second fold for training the model). The holdout set is then used to get a second estimate of model quality.\n",
    "- We repeat this process, using every fold once as the holdout set.  Putting this together, 100% of the data is used as holdout at some point, and we end up with a measure of model quality that is based on all of the rows in the dataset (even if we don't use all rows simultaneously).\n",
    "\n",
    "# When should you use cross-validation?\n",
    "\n",
    "Cross-validation gives a more accurate measure of model quality, which is especially important if you are making a lot of modeling decisions.  However, it can take longer to run, because it estimates multiple models (one for each fold).  \n",
    "\n",
    "So, given these tradeoffs, when should you use each approach?\n",
    "- _For small datasets_, where extra computational burden isn't a big deal, you should run cross-validation.\n",
    "- _For larger datasets_, a single validation set is sufficient.  Your code will run faster, and you may have enough data that there's little need to re-use some of it for holdout.\n",
    "\n",
    "There's no simple threshold for what constitutes a large vs. small dataset.  But if your model takes a couple minutes or less to run, it's probably worth switching to cross-validation.  \n",
    "\n",
    "Alternatively, you can run cross-validation and see if the scores for each experiment seem close.  If each experiment yields the same results, a single validation set is probably sufficient."
   ]
  },
  {
   "cell_type": "markdown",
   "id": "ba08be68",
   "metadata": {
    "papermill": {
     "duration": 0.002804,
     "end_time": "2023-04-21T13:40:55.749701",
     "exception": false,
     "start_time": "2023-04-21T13:40:55.746897",
     "status": "completed"
    },
    "tags": []
   },
   "source": [
    "# Example\n",
    "\n",
    "We'll work with the same data as in the previous tutorial.  We load the input data in `X` and the output data in `y`."
   ]
  },
  {
   "cell_type": "code",
   "execution_count": 1,
   "id": "c0006cba",
   "metadata": {
    "_kg_hide-input": true,
    "_kg_hide-output": true,
    "execution": {
     "iopub.execute_input": "2023-04-21T13:40:55.757933Z",
     "iopub.status.busy": "2023-04-21T13:40:55.757524Z",
     "iopub.status.idle": "2023-04-21T13:40:55.878646Z",
     "shell.execute_reply": "2023-04-21T13:40:55.877025Z"
    },
    "papermill": {
     "duration": 0.128867,
     "end_time": "2023-04-21T13:40:55.881726",
     "exception": false,
     "start_time": "2023-04-21T13:40:55.752859",
     "status": "completed"
    },
    "tags": []
   },
   "outputs": [],
   "source": [
    "\n",
    "import pandas as pd\n",
    "\n",
    "# Read the data\n",
    "data = pd.read_csv('../input/melbourne-housing-snapshot/melb_data.csv')\n",
    "\n",
    "# Select subset of predictors\n",
    "cols_to_use = ['Rooms', 'Distance', 'Landsize', 'BuildingArea', 'YearBuilt']\n",
    "X = data[cols_to_use]\n",
    "\n",
    "# Select target\n",
    "y = data.Price"
   ]
  },
  {
   "cell_type": "markdown",
   "id": "d3637747",
   "metadata": {
    "papermill": {
     "duration": 0.003606,
     "end_time": "2023-04-21T13:40:55.888837",
     "exception": false,
     "start_time": "2023-04-21T13:40:55.885231",
     "status": "completed"
    },
    "tags": []
   },
   "source": [
    "Then, we define a pipeline that uses an imputer to fill in missing values and a random forest model to make predictions.  \n",
    "\n",
    "While it's _possible_ to do cross-validation without pipelines, it is quite difficult!  Using a pipeline will make the code remarkably straightforward."
   ]
  },
  {
   "cell_type": "code",
   "execution_count": 2,
   "id": "84da7bae",
   "metadata": {
    "execution": {
     "iopub.execute_input": "2023-04-21T13:40:55.898846Z",
     "iopub.status.busy": "2023-04-21T13:40:55.898395Z",
     "iopub.status.idle": "2023-04-21T13:40:57.504507Z",
     "shell.execute_reply": "2023-04-21T13:40:57.503027Z"
    },
    "papermill": {
     "duration": 1.614776,
     "end_time": "2023-04-21T13:40:57.507609",
     "exception": false,
     "start_time": "2023-04-21T13:40:55.892833",
     "status": "completed"
    },
    "tags": []
   },
   "outputs": [],
   "source": [
    "from sklearn.ensemble import RandomForestRegressor\n",
    "from sklearn.pipeline import Pipeline\n",
    "from sklearn.impute import SimpleImputer\n",
    "\n",
    "my_pipeline = Pipeline(steps=[('preprocessor', SimpleImputer()),\n",
    "                              ('model', RandomForestRegressor(n_estimators=50,\n",
    "                                                              random_state=0))\n",
    "                             ])"
   ]
  },
  {
   "cell_type": "markdown",
   "id": "8a332912",
   "metadata": {
    "papermill": {
     "duration": 0.003444,
     "end_time": "2023-04-21T13:40:57.514559",
     "exception": false,
     "start_time": "2023-04-21T13:40:57.511115",
     "status": "completed"
    },
    "tags": []
   },
   "source": [
    "We obtain the cross-validation scores with the [`cross_val_score()`](https://scikit-learn.org/stable/modules/generated/sklearn.model_selection.cross_val_score.html) function from scikit-learn.  We set the number of folds with the `cv` parameter."
   ]
  },
  {
   "cell_type": "code",
   "execution_count": 3,
   "id": "6a889605",
   "metadata": {
    "execution": {
     "iopub.execute_input": "2023-04-21T13:40:57.523701Z",
     "iopub.status.busy": "2023-04-21T13:40:57.522615Z",
     "iopub.status.idle": "2023-04-21T13:41:04.786128Z",
     "shell.execute_reply": "2023-04-21T13:41:04.784869Z"
    },
    "papermill": {
     "duration": 7.270887,
     "end_time": "2023-04-21T13:41:04.788755",
     "exception": false,
     "start_time": "2023-04-21T13:40:57.517868",
     "status": "completed"
    },
    "tags": []
   },
   "outputs": [
    {
     "name": "stdout",
     "output_type": "stream",
     "text": [
      "MAE scores:\n",
      " [301628.7893587  303164.4782723  287298.331666   236061.84754543\n",
      " 260383.45111427]\n"
     ]
    }
   ],
   "source": [
    "from sklearn.model_selection import cross_val_score\n",
    "\n",
    "# Multiply by -1 since sklearn calculates *negative* MAE\n",
    "scores = -1 * cross_val_score(my_pipeline, X, y,\n",
    "                              cv=5,\n",
    "                              scoring='neg_mean_absolute_error')\n",
    "\n",
    "print(\"MAE scores:\\n\", scores)"
   ]
  },
  {
   "cell_type": "markdown",
   "id": "81ab30a0",
   "metadata": {
    "papermill": {
     "duration": 0.003084,
     "end_time": "2023-04-21T13:41:04.795253",
     "exception": false,
     "start_time": "2023-04-21T13:41:04.792169",
     "status": "completed"
    },
    "tags": []
   },
   "source": [
    "The `scoring` parameter chooses a measure of model quality to report: in this case, we chose negative mean absolute error (MAE).  The docs for scikit-learn show a [list of options](http://scikit-learn.org/stable/modules/model_evaluation.html).  \n",
    "\n",
    "It is a little surprising that we specify *negative* MAE. Scikit-learn has a convention where all metrics are defined so a high number is better.  Using negatives here allows them to be consistent with that convention, though negative MAE is almost unheard of elsewhere. \n",
    "\n",
    "We typically want a single measure of model quality to compare alternative models.  So we take the average across experiments."
   ]
  },
  {
   "cell_type": "code",
   "execution_count": 4,
   "id": "c8f201d8",
   "metadata": {
    "execution": {
     "iopub.execute_input": "2023-04-21T13:41:04.804321Z",
     "iopub.status.busy": "2023-04-21T13:41:04.803211Z",
     "iopub.status.idle": "2023-04-21T13:41:04.810610Z",
     "shell.execute_reply": "2023-04-21T13:41:04.809367Z"
    },
    "papermill": {
     "duration": 0.014462,
     "end_time": "2023-04-21T13:41:04.812978",
     "exception": false,
     "start_time": "2023-04-21T13:41:04.798516",
     "status": "completed"
    },
    "tags": []
   },
   "outputs": [
    {
     "name": "stdout",
     "output_type": "stream",
     "text": [
      "Average MAE score (across experiments):\n",
      "277707.3795913405\n"
     ]
    }
   ],
   "source": [
    "print(\"Average MAE score (across experiments):\")\n",
    "print(scores.mean())"
   ]
  },
  {
   "cell_type": "markdown",
   "id": "225a68dc",
   "metadata": {
    "papermill": {
     "duration": 0.00335,
     "end_time": "2023-04-21T13:41:04.819952",
     "exception": false,
     "start_time": "2023-04-21T13:41:04.816602",
     "status": "completed"
    },
    "tags": []
   },
   "source": [
    "# Conclusion\n",
    "\n",
    "Using cross-validation yields a much better measure of model quality, with the added benefit of cleaning up our code: note that we no longer need to keep track of separate training and validation sets.  So, especially for small datasets, it's a good improvement!\n",
    "\n",
    "# Your Turn\n",
    "\n",
    "Put your new skills to work in the **[next exercise](https://www.kaggle.com/kernels/fork/3370281)**!"
   ]
  },
  {
   "cell_type": "markdown",
   "id": "cdbe24d5",
   "metadata": {
    "papermill": {
     "duration": 0.003003,
     "end_time": "2023-04-21T13:41:04.826274",
     "exception": false,
     "start_time": "2023-04-21T13:41:04.823271",
     "status": "completed"
    },
    "tags": []
   },
   "source": [
    "---\n",
    "\n",
    "\n",
    "\n",
    "\n",
    "*Have questions or comments? Visit the [course discussion forum](https://www.kaggle.com/learn/intermediate-machine-learning/discussion) to chat with other learners.*"
   ]
  },
  {
   "cell_type": "markdown",
   "id": "22151743",
   "metadata": {
    "papermill": {
     "duration": 0.005047,
     "end_time": "2023-04-21T13:41:07.591732",
     "exception": false,
     "start_time": "2023-04-21T13:41:07.586685",
     "status": "completed"
    },
    "tags": []
   },
   "source": [
    "In this tutorial, you will learn how to build and optimize models with **gradient boosting**.  This method dominates many Kaggle competitions and achieves state-of-the-art results on a variety of datasets. \n",
    "\n",
    "# Introduction\n",
    "\n",
    "For much of this course, you have made predictions with the random forest method, which achieves better performance than a single decision tree simply by averaging the predictions of many decision trees.\n",
    "\n",
    "We refer to the random forest method as an \"ensemble method\".  By definition, **ensemble methods** combine the predictions of several models (e.g., several trees, in the case of random forests).  \n",
    "\n",
    "Next, we'll learn about another ensemble method called gradient boosting.  \n",
    "\n",
    "# Gradient Boosting\n",
    "\n",
    "**Gradient boosting** is a method that goes through cycles to iteratively add models into an ensemble.  \n",
    "\n",
    "It begins by initializing the ensemble with a single model, whose predictions can be pretty naive.  (Even if its predictions are wildly inaccurate, subsequent additions to the ensemble will address those errors.)\n",
    "\n",
    "Then, we start the cycle:\n",
    "- First, we use the current ensemble to generate predictions for each observation in the dataset.  To make a prediction, we add the predictions from all models in the ensemble.  \n",
    "- These predictions are used to calculate a loss function (like [mean squared error](https://en.wikipedia.org/wiki/Mean_squared_error), for instance).\n",
    "- Then, we use the loss function to fit a new model that will be added to the ensemble.  Specifically, we determine model parameters so that adding this new model to the ensemble will reduce the loss.  (*Side note: The \"gradient\" in \"gradient boosting\" refers to the fact that we'll use [gradient descent](https://en.wikipedia.org/wiki/Gradient_descent) on the loss function to determine the parameters in this new model.*)\n",
    "- Finally, we add the new model to ensemble, and ...\n",
    "- ... repeat!\n",
    "\n",
    "![tut6_boosting](https://storage.googleapis.com/kaggle-media/learn/images/MvCGENh.png)\n",
    "\n",
    "\n",
    "# Example\n",
    "\n",
    "We begin by loading the training and validation data in `X_train`, `X_valid`, `y_train`, and `y_valid`. "
   ]
  },
  {
   "cell_type": "code",
   "execution_count": 1,
   "id": "cb25af05",
   "metadata": {
    "_kg_hide-input": true,
    "_kg_hide-output": true,
    "execution": {
     "iopub.execute_input": "2023-04-21T13:41:07.602289Z",
     "iopub.status.busy": "2023-04-21T13:41:07.601216Z",
     "iopub.status.idle": "2023-04-21T13:41:08.841057Z",
     "shell.execute_reply": "2023-04-21T13:41:08.839754Z"
    },
    "papermill": {
     "duration": 1.248646,
     "end_time": "2023-04-21T13:41:08.844430",
     "exception": false,
     "start_time": "2023-04-21T13:41:07.595784",
     "status": "completed"
    },
    "tags": []
   },
   "outputs": [],
   "source": [
    "\n",
    "import pandas as pd\n",
    "from sklearn.model_selection import train_test_split\n",
    "\n",
    "# Read the data\n",
    "data = pd.read_csv('../input/melbourne-housing-snapshot/melb_data.csv')\n",
    "\n",
    "# Select subset of predictors\n",
    "cols_to_use = ['Rooms', 'Distance', 'Landsize', 'BuildingArea', 'YearBuilt']\n",
    "X = data[cols_to_use]\n",
    "\n",
    "# Select target\n",
    "y = data.Price\n",
    "\n",
    "# Separate data into training and validation sets\n",
    "X_train, X_valid, y_train, y_valid = train_test_split(X, y)"
   ]
  },
  {
   "cell_type": "markdown",
   "id": "62f14fc3",
   "metadata": {
    "papermill": {
     "duration": 0.003652,
     "end_time": "2023-04-21T13:41:08.852121",
     "exception": false,
     "start_time": "2023-04-21T13:41:08.848469",
     "status": "completed"
    },
    "tags": []
   },
   "source": [
    "In this example, you'll work with the XGBoost library.  **XGBoost** stands for **extreme gradient boosting**, which is an implementation of gradient boosting with several additional features focused on performance and speed.  (_Scikit-learn has another version of gradient boosting, but XGBoost has some technical advantages._) \n",
    "\n",
    "In the next code cell, we import the scikit-learn API for XGBoost ([`xgboost.XGBRegressor`](https://xgboost.readthedocs.io/en/latest/python/python_api.html#module-xgboost.sklearn)).  This allows us to build and fit a model just as we would in scikit-learn.  As you'll see in the output, the `XGBRegressor` class has many tunable parameters -- you'll learn about those soon!"
   ]
  },
  {
   "cell_type": "code",
   "execution_count": 2,
   "id": "7c0bc863",
   "metadata": {
    "_kg_hide-output": true,
    "execution": {
     "iopub.execute_input": "2023-04-21T13:41:08.862703Z",
     "iopub.status.busy": "2023-04-21T13:41:08.862232Z",
     "iopub.status.idle": "2023-04-21T13:41:09.613957Z",
     "shell.execute_reply": "2023-04-21T13:41:09.612665Z"
    },
    "papermill": {
     "duration": 0.760632,
     "end_time": "2023-04-21T13:41:09.616779",
     "exception": false,
     "start_time": "2023-04-21T13:41:08.856147",
     "status": "completed"
    },
    "tags": []
   },
   "outputs": [
    {
     "data": {
      "text/plain": [
       "XGBRegressor(base_score=0.5, booster='gbtree', callbacks=None,\n",
       "             colsample_bylevel=1, colsample_bynode=1, colsample_bytree=1,\n",
       "             early_stopping_rounds=None, enable_categorical=False,\n",
       "             eval_metric=None, gamma=0, gpu_id=-1, grow_policy='depthwise',\n",
       "             importance_type=None, interaction_constraints='',\n",
       "             learning_rate=0.300000012, max_bin=256, max_cat_to_onehot=4,\n",
       "             max_delta_step=0, max_depth=6, max_leaves=0, min_child_weight=1,\n",
       "             missing=nan, monotone_constraints='()', n_estimators=100, n_jobs=0,\n",
       "             num_parallel_tree=1, predictor='auto', random_state=0, reg_alpha=0,\n",
       "             reg_lambda=1, ...)"
      ]
     },
     "execution_count": 2,
     "metadata": {},
     "output_type": "execute_result"
    }
   ],
   "source": [
    "from xgboost import XGBRegressor\n",
    "\n",
    "my_model = XGBRegressor()\n",
    "my_model.fit(X_train, y_train)"
   ]
  },
  {
   "cell_type": "markdown",
   "id": "220635a7",
   "metadata": {
    "papermill": {
     "duration": 0.003808,
     "end_time": "2023-04-21T13:41:09.624780",
     "exception": false,
     "start_time": "2023-04-21T13:41:09.620972",
     "status": "completed"
    },
    "tags": []
   },
   "source": [
    "We also make predictions and evaluate the model."
   ]
  },
  {
   "cell_type": "code",
   "execution_count": 3,
   "id": "640e227c",
   "metadata": {
    "execution": {
     "iopub.execute_input": "2023-04-21T13:41:09.634505Z",
     "iopub.status.busy": "2023-04-21T13:41:09.634069Z",
     "iopub.status.idle": "2023-04-21T13:41:09.653066Z",
     "shell.execute_reply": "2023-04-21T13:41:09.651916Z"
    },
    "papermill": {
     "duration": 0.027126,
     "end_time": "2023-04-21T13:41:09.655911",
     "exception": false,
     "start_time": "2023-04-21T13:41:09.628785",
     "status": "completed"
    },
    "tags": []
   },
   "outputs": [
    {
     "name": "stdout",
     "output_type": "stream",
     "text": [
      "Mean Absolute Error: 241041.5160392121\n"
     ]
    }
   ],
   "source": [
    "from sklearn.metrics import mean_absolute_error\n",
    "\n",
    "predictions = my_model.predict(X_valid)\n",
    "print(\"Mean Absolute Error: \" + str(mean_absolute_error(predictions, y_valid)))"
   ]
  },
  {
   "cell_type": "markdown",
   "id": "a71a57f1",
   "metadata": {
    "papermill": {
     "duration": 0.004918,
     "end_time": "2023-04-21T13:41:09.666249",
     "exception": false,
     "start_time": "2023-04-21T13:41:09.661331",
     "status": "completed"
    },
    "tags": []
   },
   "source": [
    "# Parameter Tuning\n",
    "\n",
    "XGBoost has a few parameters that can dramatically affect accuracy and training speed.  The first parameters you should understand are:\n",
    "\n",
    "### `n_estimators`\n",
    "`n_estimators` specifies how many times to go through the modeling cycle described above.  It is equal to the number of models that we include in the ensemble. \n",
    "\n",
    "- Too _low_ a value causes _underfitting_, which leads to inaccurate predictions on both training data and test data. \n",
    "- Too _high_ a value causes _overfitting_, which causes accurate predictions on training data, but inaccurate predictions on test data (_which is what we care about_). \n",
    "\n",
    "Typical values range from 100-1000, though this depends a lot on the `learning_rate` parameter discussed below.\n",
    "\n",
    "Here is the code to set the number of models in the ensemble:"
   ]
  },
  {
   "cell_type": "code",
   "execution_count": 4,
   "id": "13a15f9f",
   "metadata": {
    "_kg_hide-output": true,
    "execution": {
     "iopub.execute_input": "2023-04-21T13:41:09.676390Z",
     "iopub.status.busy": "2023-04-21T13:41:09.675978Z",
     "iopub.status.idle": "2023-04-21T13:41:13.714466Z",
     "shell.execute_reply": "2023-04-21T13:41:13.713442Z"
    },
    "papermill": {
     "duration": 4.046502,
     "end_time": "2023-04-21T13:41:13.717070",
     "exception": false,
     "start_time": "2023-04-21T13:41:09.670568",
     "status": "completed"
    },
    "tags": []
   },
   "outputs": [
    {
     "data": {
      "text/plain": [
       "XGBRegressor(base_score=0.5, booster='gbtree', callbacks=None,\n",
       "             colsample_bylevel=1, colsample_bynode=1, colsample_bytree=1,\n",
       "             early_stopping_rounds=None, enable_categorical=False,\n",
       "             eval_metric=None, gamma=0, gpu_id=-1, grow_policy='depthwise',\n",
       "             importance_type=None, interaction_constraints='',\n",
       "             learning_rate=0.300000012, max_bin=256, max_cat_to_onehot=4,\n",
       "             max_delta_step=0, max_depth=6, max_leaves=0, min_child_weight=1,\n",
       "             missing=nan, monotone_constraints='()', n_estimators=500, n_jobs=0,\n",
       "             num_parallel_tree=1, predictor='auto', random_state=0, reg_alpha=0,\n",
       "             reg_lambda=1, ...)"
      ]
     },
     "execution_count": 4,
     "metadata": {},
     "output_type": "execute_result"
    }
   ],
   "source": [
    "\n",
    "my_model = XGBRegressor(n_estimators=500)\n",
    "my_model.fit(X_train, y_train)"
   ]
  },
  {
   "cell_type": "markdown",
   "id": "f130a5e3",
   "metadata": {
    "papermill": {
     "duration": 0.004055,
     "end_time": "2023-04-21T13:41:13.725576",
     "exception": false,
     "start_time": "2023-04-21T13:41:13.721521",
     "status": "completed"
    },
    "tags": []
   },
   "source": [
    "### `early_stopping_rounds`\n",
    "\n",
    "`early_stopping_rounds` offers a way to automatically find the ideal value for `n_estimators`. Early stopping causes the model to stop iterating when the validation score stops improving, even if we aren't at the hard stop for `n_estimators`.  It's smart to set a high value for `n_estimators` and then use `early_stopping_rounds` to find the optimal time to stop iterating.\n",
    "\n",
    "Since random chance sometimes causes a single round where validation scores don't improve, you need to specify a number for how many rounds of straight deterioration to allow before stopping.  Setting `early_stopping_rounds=5` is a reasonable choice.  In this case, we stop after 5 straight rounds of deteriorating validation scores.\n",
    "\n",
    "When using `early_stopping_rounds`, you also need to set aside some data for calculating the validation scores - this is done by setting the `eval_set` parameter.  \n",
    "\n",
    "We can modify the example above to include early stopping:"
   ]
  },
  {
   "cell_type": "code",
   "execution_count": 5,
   "id": "3a4d71f8",
   "metadata": {
    "_kg_hide-output": true,
    "execution": {
     "iopub.execute_input": "2023-04-21T13:41:13.736558Z",
     "iopub.status.busy": "2023-04-21T13:41:13.736105Z",
     "iopub.status.idle": "2023-04-21T13:41:14.455769Z",
     "shell.execute_reply": "2023-04-21T13:41:14.454642Z"
    },
    "papermill": {
     "duration": 0.728922,
     "end_time": "2023-04-21T13:41:14.458760",
     "exception": false,
     "start_time": "2023-04-21T13:41:13.729838",
     "status": "completed"
    },
    "tags": []
   },
   "outputs": [
    {
     "name": "stderr",
     "output_type": "stream",
     "text": [
      "/opt/conda/lib/python3.7/site-packages/xgboost/sklearn.py:797: UserWarning: `early_stopping_rounds` in `fit` method is deprecated for better compatibility with scikit-learn, use `early_stopping_rounds` in constructor or`set_params` instead.\n",
      "  UserWarning,\n"
     ]
    },
    {
     "data": {
      "text/plain": [
       "XGBRegressor(base_score=0.5, booster='gbtree', callbacks=None,\n",
       "             colsample_bylevel=1, colsample_bynode=1, colsample_bytree=1,\n",
       "             early_stopping_rounds=None, enable_categorical=False,\n",
       "             eval_metric=None, gamma=0, gpu_id=-1, grow_policy='depthwise',\n",
       "             importance_type=None, interaction_constraints='',\n",
       "             learning_rate=0.300000012, max_bin=256, max_cat_to_onehot=4,\n",
       "             max_delta_step=0, max_depth=6, max_leaves=0, min_child_weight=1,\n",
       "             missing=nan, monotone_constraints='()', n_estimators=500, n_jobs=0,\n",
       "             num_parallel_tree=1, predictor='auto', random_state=0, reg_alpha=0,\n",
       "             reg_lambda=1, ...)"
      ]
     },
     "execution_count": 5,
     "metadata": {},
     "output_type": "execute_result"
    }
   ],
   "source": [
    "\n",
    "my_model = XGBRegressor(n_estimators=500)\n",
    "my_model.fit(X_train, y_train, \n",
    "             early_stopping_rounds=5, \n",
    "             eval_set=[(X_valid, y_valid)],\n",
    "             verbose=False)"
   ]
  },
  {
   "cell_type": "markdown",
   "id": "e19c5290",
   "metadata": {
    "papermill": {
     "duration": 0.004317,
     "end_time": "2023-04-21T13:41:14.467953",
     "exception": false,
     "start_time": "2023-04-21T13:41:14.463636",
     "status": "completed"
    },
    "tags": []
   },
   "source": [
    "If you later want to fit a model with all of your data, set `n_estimators` to whatever value you found to be optimal when run with early stopping.\n",
    "\n",
    "### `learning_rate`\n",
    "\n",
    "Instead of getting predictions by simply adding up the predictions from each component model, we can multiply the predictions from each model by a small number (known as the **learning rate**) before adding them in.  \n",
    "\n",
    "This means each tree we add to the ensemble helps us less.  So, we can set a higher value for `n_estimators` without overfitting.  If we use early stopping, the appropriate number of trees will be determined automatically.\n",
    "\n",
    "In general, a small learning rate and large number of estimators will yield more accurate XGBoost models, though it will also take the model longer to train since it does more iterations through the cycle.  As default, XGBoost sets `learning_rate=0.1`.\n",
    "\n",
    "Modifying the example above to change the learning rate yields the following code:"
   ]
  },
  {
   "cell_type": "code",
   "execution_count": 6,
   "id": "42e969f0",
   "metadata": {
    "_kg_hide-output": true,
    "execution": {
     "iopub.execute_input": "2023-04-21T13:41:14.479388Z",
     "iopub.status.busy": "2023-04-21T13:41:14.478969Z",
     "iopub.status.idle": "2023-04-21T13:41:16.925946Z",
     "shell.execute_reply": "2023-04-21T13:41:16.924979Z"
    },
    "papermill": {
     "duration": 2.456145,
     "end_time": "2023-04-21T13:41:16.929000",
     "exception": false,
     "start_time": "2023-04-21T13:41:14.472855",
     "status": "completed"
    },
    "tags": []
   },
   "outputs": [
    {
     "data": {
      "text/plain": [
       "XGBRegressor(base_score=0.5, booster='gbtree', callbacks=None,\n",
       "             colsample_bylevel=1, colsample_bynode=1, colsample_bytree=1,\n",
       "             early_stopping_rounds=None, enable_categorical=False,\n",
       "             eval_metric=None, gamma=0, gpu_id=-1, grow_policy='depthwise',\n",
       "             importance_type=None, interaction_constraints='',\n",
       "             learning_rate=0.05, max_bin=256, max_cat_to_onehot=4,\n",
       "             max_delta_step=0, max_depth=6, max_leaves=0, min_child_weight=1,\n",
       "             missing=nan, monotone_constraints='()', n_estimators=1000,\n",
       "             n_jobs=0, num_parallel_tree=1, predictor='auto', random_state=0,\n",
       "             reg_alpha=0, reg_lambda=1, ...)"
      ]
     },
     "execution_count": 6,
     "metadata": {},
     "output_type": "execute_result"
    }
   ],
   "source": [
    "\n",
    "my_model = XGBRegressor(n_estimators=1000, learning_rate=0.05)\n",
    "my_model.fit(X_train, y_train, \n",
    "             early_stopping_rounds=5, \n",
    "             eval_set=[(X_valid, y_valid)], \n",
    "             verbose=False)"
   ]
  },
  {
   "cell_type": "markdown",
   "id": "fe6fe005",
   "metadata": {
    "papermill": {
     "duration": 0.00448,
     "end_time": "2023-04-21T13:41:16.938345",
     "exception": false,
     "start_time": "2023-04-21T13:41:16.933865",
     "status": "completed"
    },
    "tags": []
   },
   "source": [
    "### `n_jobs`\n",
    "On larger datasets where runtime is a consideration, you can use parallelism to build your models faster.  It's common to set the parameter `n_jobs` equal to the number of cores on your machine.  On smaller datasets, this won't help. \n",
    "\n",
    "The resulting model won't be any better, so micro-optimizing for fitting time is typically nothing but a distraction. But, it's useful in large datasets where you would otherwise spend a long time waiting during the `fit` command.\n",
    "\n",
    "Here's the modified example:"
   ]
  },
  {
   "cell_type": "code",
   "execution_count": 7,
   "id": "4c54bf53",
   "metadata": {
    "_kg_hide-output": true,
    "execution": {
     "iopub.execute_input": "2023-04-21T13:41:16.950065Z",
     "iopub.status.busy": "2023-04-21T13:41:16.949642Z",
     "iopub.status.idle": "2023-04-21T13:41:19.423732Z",
     "shell.execute_reply": "2023-04-21T13:41:19.422638Z"
    },
    "papermill": {
     "duration": 2.483964,
     "end_time": "2023-04-21T13:41:19.427140",
     "exception": false,
     "start_time": "2023-04-21T13:41:16.943176",
     "status": "completed"
    },
    "tags": []
   },
   "outputs": [
    {
     "data": {
      "text/plain": [
       "XGBRegressor(base_score=0.5, booster='gbtree', callbacks=None,\n",
       "             colsample_bylevel=1, colsample_bynode=1, colsample_bytree=1,\n",
       "             early_stopping_rounds=None, enable_categorical=False,\n",
       "             eval_metric=None, gamma=0, gpu_id=-1, grow_policy='depthwise',\n",
       "             importance_type=None, interaction_constraints='',\n",
       "             learning_rate=0.05, max_bin=256, max_cat_to_onehot=4,\n",
       "             max_delta_step=0, max_depth=6, max_leaves=0, min_child_weight=1,\n",
       "             missing=nan, monotone_constraints='()', n_estimators=1000,\n",
       "             n_jobs=4, num_parallel_tree=1, predictor='auto', random_state=0,\n",
       "             reg_alpha=0, reg_lambda=1, ...)"
      ]
     },
     "execution_count": 7,
     "metadata": {},
     "output_type": "execute_result"
    }
   ],
   "source": [
    "\n",
    "my_model = XGBRegressor(n_estimators=1000, learning_rate=0.05, n_jobs=4)\n",
    "my_model.fit(X_train, y_train, \n",
    "             early_stopping_rounds=5, \n",
    "             eval_set=[(X_valid, y_valid)], \n",
    "             verbose=False)"
   ]
  },
  {
   "cell_type": "markdown",
   "id": "dbbab005",
   "metadata": {
    "papermill": {
     "duration": 0.004638,
     "end_time": "2023-04-21T13:41:19.436840",
     "exception": false,
     "start_time": "2023-04-21T13:41:19.432202",
     "status": "completed"
    },
    "tags": []
   },
   "source": [
    "# Conclusion\n",
    "\n",
    "[XGBoost](https://xgboost.readthedocs.io/en/latest/) is a leading software library for working with standard tabular data (the type of data you store in Pandas DataFrames, as opposed to more exotic types of data like images and videos).  With careful parameter tuning, you can train highly accurate models. \n",
    "\n",
    "# Your Turn\n",
    "\n",
    "Train your own model with XGBoost in the **[next exercise](https://www.kaggle.com/kernels/fork/3370271)**!"
   ]
  },
  {
   "cell_type": "markdown",
   "id": "075dbc98",
   "metadata": {
    "papermill": {
     "duration": 0.004694,
     "end_time": "2023-04-21T13:41:19.446477",
     "exception": false,
     "start_time": "2023-04-21T13:41:19.441783",
     "status": "completed"
    },
    "tags": []
   },
   "source": [
    "---\n",
    "\n",
    "\n",
    "\n",
    "\n",
    "*Have questions or comments? Visit the [course discussion forum](https://www.kaggle.com/learn/intermediate-machine-learning/discussion) to chat with other learners.*"
   ]
  },
  {
   "cell_type": "markdown",
   "id": "85ce74fe",
   "metadata": {
    "papermill": {
     "duration": 0.004319,
     "end_time": "2023-04-21T13:41:09.143080",
     "exception": false,
     "start_time": "2023-04-21T13:41:09.138761",
     "status": "completed"
    },
    "tags": []
   },
   "source": [
    "In this tutorial, you will learn what **data leakage** is and how to prevent it. If you don't know how to prevent it, leakage will come up frequently, and it will ruin your models in subtle and dangerous ways.  So, this is one of the most important concepts for practicing data scientists.\n",
    "\n",
    "\n",
    "# Introduction\n",
    "\n",
    "**Data leakage** (or **leakage**) happens when your training data contains information about the target, but similar data will not be available when the model is used for prediction. This leads to high performance on the training set (and possibly even the validation data), but the model will perform poorly in production.\n",
    "\n",
    "In other words, leakage causes a model to look accurate until you start making decisions with the model, and then the model becomes very inaccurate. \n",
    "\n",
    "There are two main types of leakage: **target leakage** and **train-test contamination.**\n",
    "\n",
    "### Target leakage\n",
    "\n",
    "**Target leakage** occurs when your predictors include data that will not be available at the time you make predictions. It is important to think about target leakage in terms of the _timing or chronological order_ that data becomes available, not merely whether a feature helps make good predictions.\n",
    "\n",
    "An example will be helpful. Imagine you want to predict who will get sick with pneumonia. The top few rows of your raw data look like this:\n",
    "\n",
    "| got_pneumonia | age | weight |  male | took_antibiotic_medicine | ... |\n",
    "|:-------------:|:---:|:------:|:-----:|:------------------------:|-----|\n",
    "|     False     |  65 |   100  | False |           False          | ... |\n",
    "|     False     |  72 |   130  |  True |           False          | ... |\n",
    "|      True     |  58 |   100  | False |           True           | ... |\n",
    "\n",
    "People take antibiotic medicines *after* getting pneumonia in order to recover. The raw data shows a strong relationship between those columns, but `took_antibiotic_medicine` is frequently changed _after_ the value for `got_pneumonia` is determined. This is target leakage.\n",
    "\n",
    "The model would see that anyone who has a value of `False` for `took_antibiotic_medicine` didn't have pneumonia. Since validation data comes from the same source as training data, the pattern will repeat itself in validation, and the model will have great validation (or cross-validation) scores. \n",
    "\n",
    "But the model will be very inaccurate when subsequently deployed in the real world, because even patients who will get pneumonia won't have received antibiotics yet when we need to make predictions about their future health.\n",
    "\n",
    "To prevent this type of data leakage, any variable updated (or created) after the target value is realized should be excluded. \n",
    "\n",
    "![tut7_leakydata](https://storage.googleapis.com/kaggle-media/learn/images/y7hfTYe.png)"
   ]
  },
  {
   "cell_type": "markdown",
   "id": "9a8dcd60",
   "metadata": {
    "papermill": {
     "duration": 0.002891,
     "end_time": "2023-04-21T13:41:09.149737",
     "exception": false,
     "start_time": "2023-04-21T13:41:09.146846",
     "status": "completed"
    },
    "tags": []
   },
   "source": [
    "### Train-Test Contamination\n",
    "\n",
    "A different type of leak occurs when you aren't careful to distinguish training data from validation data.  \n",
    "\n",
    "Recall that validation is meant to be a measure of how the model does on data that it hasn't considered before.  You can corrupt this process in subtle ways if the validation data affects the preprocessing behavior.  This is sometimes called **train-test contamination**. \n",
    "\n",
    "For example, imagine you run preprocessing (like fitting an imputer for missing values) before calling [`train_test_split()`](https://scikit-learn.org/stable/modules/generated/sklearn.model_selection.train_test_split.html).  The end result?  Your model may get good validation scores, giving you great confidence in it, but perform poorly when you deploy it to make decisions.\n",
    "\n",
    "After all, you incorporated data from the validation or test data into how you make predictions, so the may do well on that particular data even if it can't generalize to new data. This problem becomes even more subtle (and more dangerous) when you do more complex feature engineering.\n",
    "\n",
    "If your validation is based on a simple train-test split, exclude the validation data from any type of *fitting*, including the fitting of preprocessing steps.  This is easier if you use scikit-learn pipelines.  When using cross-validation, it's even more critical that you do your preprocessing inside the pipeline!\n",
    "\n",
    "# Example\n",
    "\n",
    "In this example, you will learn one way to detect and remove target leakage.\n",
    "\n",
    "We will use a dataset about credit card applications and skip the basic data set-up code.  The end result is that information about each credit card application is stored in a DataFrame `X`.  We'll use it to predict which applications were accepted in a Series `y`."
   ]
  },
  {
   "cell_type": "code",
   "execution_count": 1,
   "id": "75ce83ec",
   "metadata": {
    "_kg_hide-input": true,
    "execution": {
     "iopub.execute_input": "2023-04-21T13:41:09.159739Z",
     "iopub.status.busy": "2023-04-21T13:41:09.158710Z",
     "iopub.status.idle": "2023-04-21T13:41:09.235803Z",
     "shell.execute_reply": "2023-04-21T13:41:09.234670Z"
    },
    "papermill": {
     "duration": 0.085688,
     "end_time": "2023-04-21T13:41:09.238983",
     "exception": false,
     "start_time": "2023-04-21T13:41:09.153295",
     "status": "completed"
    },
    "tags": []
   },
   "outputs": [
    {
     "name": "stdout",
     "output_type": "stream",
     "text": [
      "Number of rows in the dataset: 1319\n"
     ]
    },
    {
     "data": {
      "text/html": [
       "<div>\n",
       "<style scoped>\n",
       "    .dataframe tbody tr th:only-of-type {\n",
       "        vertical-align: middle;\n",
       "    }\n",
       "\n",
       "    .dataframe tbody tr th {\n",
       "        vertical-align: top;\n",
       "    }\n",
       "\n",
       "    .dataframe thead th {\n",
       "        text-align: right;\n",
       "    }\n",
       "</style>\n",
       "<table border=\"1\" class=\"dataframe\">\n",
       "  <thead>\n",
       "    <tr style=\"text-align: right;\">\n",
       "      <th></th>\n",
       "      <th>reports</th>\n",
       "      <th>age</th>\n",
       "      <th>income</th>\n",
       "      <th>share</th>\n",
       "      <th>expenditure</th>\n",
       "      <th>owner</th>\n",
       "      <th>selfemp</th>\n",
       "      <th>dependents</th>\n",
       "      <th>months</th>\n",
       "      <th>majorcards</th>\n",
       "      <th>active</th>\n",
       "    </tr>\n",
       "  </thead>\n",
       "  <tbody>\n",
       "    <tr>\n",
       "      <th>0</th>\n",
       "      <td>0</td>\n",
       "      <td>37.66667</td>\n",
       "      <td>4.5200</td>\n",
       "      <td>0.033270</td>\n",
       "      <td>124.983300</td>\n",
       "      <td>True</td>\n",
       "      <td>False</td>\n",
       "      <td>3</td>\n",
       "      <td>54</td>\n",
       "      <td>1</td>\n",
       "      <td>12</td>\n",
       "    </tr>\n",
       "    <tr>\n",
       "      <th>1</th>\n",
       "      <td>0</td>\n",
       "      <td>33.25000</td>\n",
       "      <td>2.4200</td>\n",
       "      <td>0.005217</td>\n",
       "      <td>9.854167</td>\n",
       "      <td>False</td>\n",
       "      <td>False</td>\n",
       "      <td>3</td>\n",
       "      <td>34</td>\n",
       "      <td>1</td>\n",
       "      <td>13</td>\n",
       "    </tr>\n",
       "    <tr>\n",
       "      <th>2</th>\n",
       "      <td>0</td>\n",
       "      <td>33.66667</td>\n",
       "      <td>4.5000</td>\n",
       "      <td>0.004156</td>\n",
       "      <td>15.000000</td>\n",
       "      <td>True</td>\n",
       "      <td>False</td>\n",
       "      <td>4</td>\n",
       "      <td>58</td>\n",
       "      <td>1</td>\n",
       "      <td>5</td>\n",
       "    </tr>\n",
       "    <tr>\n",
       "      <th>3</th>\n",
       "      <td>0</td>\n",
       "      <td>30.50000</td>\n",
       "      <td>2.5400</td>\n",
       "      <td>0.065214</td>\n",
       "      <td>137.869200</td>\n",
       "      <td>False</td>\n",
       "      <td>False</td>\n",
       "      <td>0</td>\n",
       "      <td>25</td>\n",
       "      <td>1</td>\n",
       "      <td>7</td>\n",
       "    </tr>\n",
       "    <tr>\n",
       "      <th>4</th>\n",
       "      <td>0</td>\n",
       "      <td>32.16667</td>\n",
       "      <td>9.7867</td>\n",
       "      <td>0.067051</td>\n",
       "      <td>546.503300</td>\n",
       "      <td>True</td>\n",
       "      <td>False</td>\n",
       "      <td>2</td>\n",
       "      <td>64</td>\n",
       "      <td>1</td>\n",
       "      <td>5</td>\n",
       "    </tr>\n",
       "  </tbody>\n",
       "</table>\n",
       "</div>"
      ],
      "text/plain": [
       "   reports       age  income     share  expenditure  owner  selfemp  \\\n",
       "0        0  37.66667  4.5200  0.033270   124.983300   True    False   \n",
       "1        0  33.25000  2.4200  0.005217     9.854167  False    False   \n",
       "2        0  33.66667  4.5000  0.004156    15.000000   True    False   \n",
       "3        0  30.50000  2.5400  0.065214   137.869200  False    False   \n",
       "4        0  32.16667  9.7867  0.067051   546.503300   True    False   \n",
       "\n",
       "   dependents  months  majorcards  active  \n",
       "0           3      54           1      12  \n",
       "1           3      34           1      13  \n",
       "2           4      58           1       5  \n",
       "3           0      25           1       7  \n",
       "4           2      64           1       5  "
      ]
     },
     "execution_count": 1,
     "metadata": {},
     "output_type": "execute_result"
    }
   ],
   "source": [
    "\n",
    "import pandas as pd\n",
    "\n",
    "# Read the data\n",
    "data = pd.read_csv('../input/aer-credit-card-data/AER_credit_card_data.csv', \n",
    "                   true_values = ['yes'], false_values = ['no'])\n",
    "\n",
    "# Select target\n",
    "y = data.card\n",
    "\n",
    "# Select predictors\n",
    "X = data.drop(['card'], axis=1)\n",
    "\n",
    "print(\"Number of rows in the dataset:\", X.shape[0])\n",
    "X.head()"
   ]
  },
  {
   "cell_type": "markdown",
   "id": "6b090c1a",
   "metadata": {
    "papermill": {
     "duration": 0.003321,
     "end_time": "2023-04-21T13:41:09.245941",
     "exception": false,
     "start_time": "2023-04-21T13:41:09.242620",
     "status": "completed"
    },
    "tags": []
   },
   "source": [
    "Since this is a small dataset, we will use cross-validation to ensure accurate measures of model quality."
   ]
  },
  {
   "cell_type": "code",
   "execution_count": 2,
   "id": "3d6e5e0b",
   "metadata": {
    "execution": {
     "iopub.execute_input": "2023-04-21T13:41:09.255437Z",
     "iopub.status.busy": "2023-04-21T13:41:09.254625Z",
     "iopub.status.idle": "2023-04-21T13:41:11.898713Z",
     "shell.execute_reply": "2023-04-21T13:41:11.897225Z"
    },
    "papermill": {
     "duration": 2.651865,
     "end_time": "2023-04-21T13:41:11.901289",
     "exception": false,
     "start_time": "2023-04-21T13:41:09.249424",
     "status": "completed"
    },
    "tags": []
   },
   "outputs": [
    {
     "name": "stdout",
     "output_type": "stream",
     "text": [
      "Cross-validation accuracy: 0.981052\n"
     ]
    }
   ],
   "source": [
    "from sklearn.pipeline import make_pipeline\n",
    "from sklearn.ensemble import RandomForestClassifier\n",
    "from sklearn.model_selection import cross_val_score\n",
    "\n",
    "# Since there is no preprocessing, we don't need a pipeline (used anyway as best practice!)\n",
    "my_pipeline = make_pipeline(RandomForestClassifier(n_estimators=100))\n",
    "cv_scores = cross_val_score(my_pipeline, X, y, \n",
    "                            cv=5,\n",
    "                            scoring='accuracy')\n",
    "\n",
    "print(\"Cross-validation accuracy: %f\" % cv_scores.mean())"
   ]
  },
  {
   "cell_type": "markdown",
   "id": "b5084ef9",
   "metadata": {
    "papermill": {
     "duration": 0.003462,
     "end_time": "2023-04-21T13:41:11.908716",
     "exception": false,
     "start_time": "2023-04-21T13:41:11.905254",
     "status": "completed"
    },
    "tags": []
   },
   "source": [
    "With experience, you'll find that it's very rare to find models that are accurate 98% of the time.  It happens, but it's uncommon enough that we should inspect the data more closely for target leakage.\n",
    "\n",
    "Here is a summary of the data, which you can also find under the data tab:\n",
    "\n",
    " - **`card`**: 1 if credit card application accepted, 0 if not\n",
    " - **`reports`**: Number of major derogatory reports\n",
    " - **`age`**: Age n years plus twelfths of a year\n",
    " - **`income`**: Yearly income (divided by 10,000)\n",
    " - **`share`**: Ratio of monthly credit card expenditure to yearly income\n",
    " - **`expenditure`**: Average monthly credit card expenditure\n",
    " - **`owner`**: 1 if owns home, 0 if rents\n",
    " - **`selfempl`**: 1 if self-employed, 0 if not\n",
    " - **`dependents`**: 1 + number of dependents\n",
    " - **`months`**: Months living at current address\n",
    " - **`majorcards`**: Number of major credit cards held\n",
    " - **`active`**: Number of active credit accounts\n",
    "\n",
    "A few variables look suspicious.  For example, does **`expenditure`** mean expenditure on this card or on cards used before applying?\n",
    "\n",
    "At this point, basic data comparisons can be very helpful:"
   ]
  },
  {
   "cell_type": "code",
   "execution_count": 3,
   "id": "b62a71f8",
   "metadata": {
    "execution": {
     "iopub.execute_input": "2023-04-21T13:41:11.919231Z",
     "iopub.status.busy": "2023-04-21T13:41:11.918376Z",
     "iopub.status.idle": "2023-04-21T13:41:11.927203Z",
     "shell.execute_reply": "2023-04-21T13:41:11.926067Z"
    },
    "papermill": {
     "duration": 0.017035,
     "end_time": "2023-04-21T13:41:11.929719",
     "exception": false,
     "start_time": "2023-04-21T13:41:11.912684",
     "status": "completed"
    },
    "tags": []
   },
   "outputs": [
    {
     "name": "stdout",
     "output_type": "stream",
     "text": [
      "Fraction of those who did not receive a card and had no expenditures: 1.00\n",
      "Fraction of those who received a card and had no expenditures: 0.02\n"
     ]
    }
   ],
   "source": [
    "expenditures_cardholders = X.expenditure[y]\n",
    "expenditures_noncardholders = X.expenditure[~y]\n",
    "\n",
    "print('Fraction of those who did not receive a card and had no expenditures: %.2f' \\\n",
    "      %((expenditures_noncardholders == 0).mean()))\n",
    "print('Fraction of those who received a card and had no expenditures: %.2f' \\\n",
    "      %(( expenditures_cardholders == 0).mean()))"
   ]
  },
  {
   "cell_type": "markdown",
   "id": "703cb4e5",
   "metadata": {
    "papermill": {
     "duration": 0.003569,
     "end_time": "2023-04-21T13:41:11.937161",
     "exception": false,
     "start_time": "2023-04-21T13:41:11.933592",
     "status": "completed"
    },
    "tags": []
   },
   "source": [
    "As shown above, everyone who did not receive a card had no expenditures, while only 2% of those who received a card had no expenditures. It's not surprising that our model appeared to have a high accuracy. But this also seems to be a case of target leakage, where expenditures probably means *expenditures on the card they applied for*. \n",
    "\n",
    "Since **`share`** is partially determined by **`expenditure`**, it should be excluded too.  The variables **`active`** and **`majorcards`** are a little less clear, but from the description, they sound concerning.  In most situations, it's better to be safe than sorry if you can't track down the people who created the data to find out more.\n",
    "\n",
    "We would run a model without target leakage as follows:"
   ]
  },
  {
   "cell_type": "code",
   "execution_count": 4,
   "id": "b13848ba",
   "metadata": {
    "execution": {
     "iopub.execute_input": "2023-04-21T13:41:11.947082Z",
     "iopub.status.busy": "2023-04-21T13:41:11.946303Z",
     "iopub.status.idle": "2023-04-21T13:41:13.224247Z",
     "shell.execute_reply": "2023-04-21T13:41:13.222717Z"
    },
    "papermill": {
     "duration": 1.286138,
     "end_time": "2023-04-21T13:41:13.227119",
     "exception": false,
     "start_time": "2023-04-21T13:41:11.940981",
     "status": "completed"
    },
    "tags": []
   },
   "outputs": [
    {
     "name": "stdout",
     "output_type": "stream",
     "text": [
      "Cross-val accuracy: 0.830919\n"
     ]
    }
   ],
   "source": [
    "# Drop leaky predictors from dataset\n",
    "potential_leaks = ['expenditure', 'share', 'active', 'majorcards']\n",
    "X2 = X.drop(potential_leaks, axis=1)\n",
    "\n",
    "# Evaluate the model with leaky predictors removed\n",
    "cv_scores = cross_val_score(my_pipeline, X2, y, \n",
    "                            cv=5,\n",
    "                            scoring='accuracy')\n",
    "\n",
    "print(\"Cross-val accuracy: %f\" % cv_scores.mean())"
   ]
  },
  {
   "cell_type": "markdown",
   "id": "24958cc6",
   "metadata": {
    "papermill": {
     "duration": 0.00366,
     "end_time": "2023-04-21T13:41:13.234793",
     "exception": false,
     "start_time": "2023-04-21T13:41:13.231133",
     "status": "completed"
    },
    "tags": []
   },
   "source": [
    "This accuracy is quite a bit lower, which might be disappointing.  However, we can expect it to be right about 80% of the time when used on new applications, whereas the leaky model would likely do much worse than that (in spite of its higher apparent score in cross-validation).\n",
    "\n",
    "# Conclusion\n",
    "Data leakage can be multi-million dollar mistake in many data science applications.  Careful separation of training and validation data can prevent train-test contamination, and pipelines can help implement this separation.  Likewise, a combination of caution, common sense, and data exploration can help identify target leakage.\n",
    "\n",
    "# What's next?\n",
    "\n",
    "This may still seem abstract. Try thinking through the examples in **[this exercise](https://www.kaggle.com/kernels/fork/3370270)** to develop your skill identifying target leakage and train-test contamination!"
   ]
  },
  {
   "cell_type": "markdown",
   "id": "9c5b28f1",
   "metadata": {
    "papermill": {
     "duration": 0.003829,
     "end_time": "2023-04-21T13:41:13.242805",
     "exception": false,
     "start_time": "2023-04-21T13:41:13.238976",
     "status": "completed"
    },
    "tags": []
   },
   "source": [
    "---\n",
    "\n",
    "\n",
    "\n",
    "\n",
    "*Have questions or comments? Visit the [course discussion forum](https://www.kaggle.com/learn/intermediate-machine-learning/discussion) to chat with other learners.*"
   ]
  }
 ],
 "metadata": {},
 "nbformat": 4,
 "nbformat_minor": 5
}

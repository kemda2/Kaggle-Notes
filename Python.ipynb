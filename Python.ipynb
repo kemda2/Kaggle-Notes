{
 "cells": [
  {
   "cell_type": "markdown",
   "id": "427c15c2",
   "metadata": {
    "papermill": {
     "duration": 0.007361,
     "end_time": "2023-04-21T13:38:06.649087",
     "exception": false,
     "start_time": "2023-04-21T13:38:06.641726",
     "status": "completed"
    },
    "tags": []
   },
   "source": [
    "# 1 Hello, Python!"
   ]
  },
  {
   "cell_type": "markdown",
   "id": "84628a4e",
   "metadata": {
    "papermill": {
     "duration": 0.007837,
     "end_time": "2023-04-21T13:38:06.923098",
     "exception": false,
     "start_time": "2023-04-21T13:38:06.915261",
     "status": "completed"
    },
    "tags": []
   },
   "source": [
    "## Numbers and arithmetic in Python"
   ]
  },
  {
   "cell_type": "markdown",
   "id": "a43de165",
   "metadata": {
    "papermill": {
     "duration": 0.008475,
     "end_time": "2023-04-21T13:38:07.073892",
     "exception": false,
     "start_time": "2023-04-21T13:38:07.065417",
     "status": "completed"
    },
    "tags": []
   },
   "source": [
    "| Operator     | Name           | Description                                            |\n",
    "|--------------|----------------|--------------------------------------------------------|\n",
    "| ``a + b``    | Addition       | Sum of ``a`` and ``b``                                 |\n",
    "| ``a - b``    | Subtraction    | Difference of ``a`` and ``b``                          |\n",
    "| ``a * b``    | Multiplication | Product of ``a`` and ``b``                             |\n",
    "| ``a / b``    | True division  | Quotient of ``a`` and ``b``                            |\n",
    "| ``a // b``   | Floor division | Quotient of ``a`` and ``b``, removing fractional parts |\n",
    "| ``a % b``    | Modulus        | Integer remainder after division of ``a`` by ``b``     |\n",
    "| ``a ** b``   | Exponentiation | ``a`` raised to the power of ``b``                     |\n",
    "| ``-a``       | Negation       | The negative of ``a``                                  |\n",
    "\n",
    "<span style=\"display:none\"></span>"
   ]
  },
  {
   "cell_type": "code",
   "execution_count": 1,
   "id": "df82c4cd",
   "metadata": {
    "papermill": {
     "duration": 0.019601,
     "end_time": "2023-04-21T13:38:07.102519",
     "exception": false,
     "start_time": "2023-04-21T13:38:07.082918",
     "status": "completed"
    },
    "tags": []
   },
   "outputs": [
    {
     "name": "stdout",
     "output_type": "stream",
     "text": [
      "2.5\n",
      "3.0\n"
     ]
    }
   ],
   "source": [
    "print(5 / 2)\n",
    "print(6 / 2)"
   ]
  },
  {
   "cell_type": "code",
   "execution_count": 2,
   "id": "9a8165c6",
   "metadata": {
    "papermill": {
     "duration": 0.019877,
     "end_time": "2023-04-21T13:38:07.149255",
     "exception": false,
     "start_time": "2023-04-21T13:38:07.129378",
     "status": "completed"
    },
    "tags": []
   },
   "outputs": [
    {
     "name": "stdout",
     "output_type": "stream",
     "text": [
      "2\n",
      "3\n"
     ]
    }
   ],
   "source": [
    "print(5 // 2)\n",
    "print(6 // 2)"
   ]
  },
  {
   "cell_type": "markdown",
   "id": "f74828d2",
   "metadata": {
    "papermill": {
     "duration": 0.009127,
     "end_time": "2023-04-21T13:38:07.187706",
     "exception": false,
     "start_time": "2023-04-21T13:38:07.178579",
     "status": "completed"
    },
    "tags": []
   },
   "source": [
    "### Order of operations\n",
    "\n",
    "**PEMDAS** - **P**arentheses, **E**xponents, **M**ultiplication/**D**ivision, **A**ddition/**S**ubtraction."
   ]
  },
  {
   "cell_type": "markdown",
   "id": "9ba75c13",
   "metadata": {
    "papermill": {
     "duration": 0.009057,
     "end_time": "2023-04-21T13:38:07.365374",
     "exception": false,
     "start_time": "2023-04-21T13:38:07.356317",
     "status": "completed"
    },
    "tags": []
   },
   "source": [
    "### Builtin functions for working with numbers\n",
    "\n",
    "`min` and `max` return the minimum and maximum of their arguments, respectively..."
   ]
  },
  {
   "cell_type": "code",
   "execution_count": 3,
   "id": "94c062e9",
   "metadata": {
    "papermill": {
     "duration": 0.020652,
     "end_time": "2023-04-21T13:38:07.395563",
     "exception": false,
     "start_time": "2023-04-21T13:38:07.374911",
     "status": "completed"
    },
    "tags": []
   },
   "outputs": [
    {
     "name": "stdout",
     "output_type": "stream",
     "text": [
      "1\n",
      "3\n"
     ]
    }
   ],
   "source": [
    "print(min(1, 2, 3))\n",
    "print(max(1, 2, 3))"
   ]
  },
  {
   "cell_type": "code",
   "execution_count": 4,
   "id": "1c6b8aa3",
   "metadata": {
    "papermill": {
     "duration": 0.021556,
     "end_time": "2023-04-21T13:38:07.446658",
     "exception": false,
     "start_time": "2023-04-21T13:38:07.425102",
     "status": "completed"
    },
    "tags": []
   },
   "outputs": [
    {
     "name": "stdout",
     "output_type": "stream",
     "text": [
      "32\n",
      "32\n"
     ]
    }
   ],
   "source": [
    "print(abs(32))\n",
    "print(abs(-32))"
   ]
  },
  {
   "cell_type": "code",
   "execution_count": 5,
   "id": "63a99986",
   "metadata": {
    "papermill": {
     "duration": 0.020825,
     "end_time": "2023-04-21T13:38:07.496886",
     "exception": false,
     "start_time": "2023-04-21T13:38:07.476061",
     "status": "completed"
    },
    "tags": []
   },
   "outputs": [
    {
     "name": "stdout",
     "output_type": "stream",
     "text": [
      "10.0\n",
      "3\n",
      "808\n"
     ]
    }
   ],
   "source": [
    "print(float(10))\n",
    "print(int(3.33))\n",
    "# They can even be called on strings!\n",
    "print(int('807') + 1)"
   ]
  },
  {
   "cell_type": "markdown",
   "id": "a8d9770e",
   "metadata": {
    "papermill": {
     "duration": 0.009446,
     "end_time": "2023-04-21T13:38:07.536569",
     "exception": false,
     "start_time": "2023-04-21T13:38:07.527123",
     "status": "completed"
    },
    "tags": []
   },
   "source": [
    "---"
   ]
  },
  {
   "cell_type": "markdown",
   "id": "f03ed60d",
   "metadata": {
    "papermill": {
     "duration": 0.008143,
     "end_time": "2023-04-21T13:38:25.157946",
     "exception": false,
     "start_time": "2023-04-21T13:38:25.149803",
     "status": "completed"
    },
    "tags": []
   },
   "source": [
    "# 2 Getting Help"
   ]
  },
  {
   "cell_type": "code",
   "execution_count": 6,
   "id": "8cbc11c3",
   "metadata": {
    "papermill": {
     "duration": 0.028755,
     "end_time": "2023-04-21T13:38:25.194415",
     "exception": false,
     "start_time": "2023-04-21T13:38:25.165660",
     "status": "completed"
    },
    "tags": []
   },
   "outputs": [
    {
     "name": "stdout",
     "output_type": "stream",
     "text": [
      "Help on built-in function round in module builtins:\n",
      "\n",
      "round(number, ndigits=None)\n",
      "    Round a number to a given precision in decimal digits.\n",
      "    \n",
      "    The return value is an integer if ndigits is omitted or None.  Otherwise\n",
      "    the return value has the same type as the number.  ndigits may be negative.\n",
      "\n"
     ]
    }
   ],
   "source": [
    "help(round)"
   ]
  },
  {
   "cell_type": "markdown",
   "id": "ff26af7c",
   "metadata": {
    "papermill": {
     "duration": 0.008587,
     "end_time": "2023-04-21T13:38:25.210654",
     "exception": false,
     "start_time": "2023-04-21T13:38:25.202067",
     "status": "completed"
    },
    "tags": []
   },
   "source": [
    "`help()` iki şeyi görüntüler:\n",
    "\n",
    "1. Bu fonksiyonun başlığı 'round(number, ndigits=None)'. Bu durumda bu bize 'round()'un 'sayı' olarak tanımlayabileceğimiz bir argüman aldığını söyler. Ek olarak isteğe bağlı olarak 'sayısal sayılar' olarak tanımlanabilecek ayrı bir argüman da verebiliriz.\n",
    "1. İşlevin ne yaptığına ilişkin kısa bir İngilizce açıklama."
   ]
  },
  {
   "cell_type": "code",
   "execution_count": 7,
   "id": "0e94bd45",
   "metadata": {
    "_kg_hide-output": true,
    "papermill": {
     "duration": 0.052323,
     "end_time": "2023-04-21T13:38:25.286888",
     "exception": false,
     "start_time": "2023-04-21T13:38:25.234565",
     "status": "completed"
    },
    "scrolled": true,
    "tags": []
   },
   "outputs": [
    {
     "name": "stdout",
     "output_type": "stream",
     "text": [
      "Help on int object:\n",
      "\n",
      "class int(object)\n",
      " |  int([x]) -> integer\n",
      " |  int(x, base=10) -> integer\n",
      " |  \n",
      " |  Convert a number or string to an integer, or return 0 if no arguments\n",
      " |  are given.  If x is a number, return x.__int__().  For floating point\n",
      " |  numbers, this truncates towards zero.\n",
      " |  \n",
      " |  If x is not a number or if base is given, then x must be a string,\n",
      " |  bytes, or bytearray instance representing an integer literal in the\n",
      " |  given base.  The literal can be preceded by '+' or '-' and be surrounded\n",
      " |  by whitespace.  The base defaults to 10.  Valid bases are 0 and 2-36.\n",
      " |  Base 0 means to interpret the base from the string as an integer literal.\n",
      " |  >>> int('0b100', base=0)\n",
      " |  4\n",
      " |  \n",
      " |  Built-in subclasses:\n",
      " |      bool\n",
      " |  \n",
      " |  Methods defined here:\n",
      " |  \n",
      " |  __abs__(self, /)\n",
      " |      abs(self)\n",
      " |  \n",
      " |  __add__(self, value, /)\n",
      " |      Return self+value.\n",
      " |  \n",
      " |  __and__(self, value, /)\n",
      " |      Return self&value.\n",
      " |  \n",
      " |  __bool__(self, /)\n",
      " |      True if self else False\n",
      " |  \n",
      " |  __ceil__(...)\n",
      " |      Ceiling of an Integral returns itself.\n",
      " |  \n",
      " |  __divmod__(self, value, /)\n",
      " |      Return divmod(self, value).\n",
      " |  \n",
      " |  __eq__(self, value, /)\n",
      " |      Return self==value.\n",
      " |  \n",
      " |  __float__(self, /)\n",
      " |      float(self)\n",
      " |  \n",
      " |  __floor__(...)\n",
      " |      Flooring an Integral returns itself.\n",
      " |  \n",
      " |  __floordiv__(self, value, /)\n",
      " |      Return self//value.\n",
      " |  \n",
      " |  __format__(self, format_spec, /)\n",
      " |      Default object formatter.\n",
      " |  \n",
      " |  __ge__(self, value, /)\n",
      " |      Return self>=value.\n",
      " |  \n",
      " |  __getattribute__(self, name, /)\n",
      " |      Return getattr(self, name).\n",
      " |  \n",
      " |  __getnewargs__(self, /)\n",
      " |  \n",
      " |  __gt__(self, value, /)\n",
      " |      Return self>value.\n",
      " |  \n",
      " |  __hash__(self, /)\n",
      " |      Return hash(self).\n",
      " |  \n",
      " |  __index__(self, /)\n",
      " |      Return self converted to an integer, if self is suitable for use as an index into a list.\n",
      " |  \n",
      " |  __int__(self, /)\n",
      " |      int(self)\n",
      " |  \n",
      " |  __invert__(self, /)\n",
      " |      ~self\n",
      " |  \n",
      " |  __le__(self, value, /)\n",
      " |      Return self<=value.\n",
      " |  \n",
      " |  __lshift__(self, value, /)\n",
      " |      Return self<<value.\n",
      " |  \n",
      " |  __lt__(self, value, /)\n",
      " |      Return self<value.\n",
      " |  \n",
      " |  __mod__(self, value, /)\n",
      " |      Return self%value.\n",
      " |  \n",
      " |  __mul__(self, value, /)\n",
      " |      Return self*value.\n",
      " |  \n",
      " |  __ne__(self, value, /)\n",
      " |      Return self!=value.\n",
      " |  \n",
      " |  __neg__(self, /)\n",
      " |      -self\n",
      " |  \n",
      " |  __or__(self, value, /)\n",
      " |      Return self|value.\n",
      " |  \n",
      " |  __pos__(self, /)\n",
      " |      +self\n",
      " |  \n",
      " |  __pow__(self, value, mod=None, /)\n",
      " |      Return pow(self, value, mod).\n",
      " |  \n",
      " |  __radd__(self, value, /)\n",
      " |      Return value+self.\n",
      " |  \n",
      " |  __rand__(self, value, /)\n",
      " |      Return value&self.\n",
      " |  \n",
      " |  __rdivmod__(self, value, /)\n",
      " |      Return divmod(value, self).\n",
      " |  \n",
      " |  __repr__(self, /)\n",
      " |      Return repr(self).\n",
      " |  \n",
      " |  __rfloordiv__(self, value, /)\n",
      " |      Return value//self.\n",
      " |  \n",
      " |  __rlshift__(self, value, /)\n",
      " |      Return value<<self.\n",
      " |  \n",
      " |  __rmod__(self, value, /)\n",
      " |      Return value%self.\n",
      " |  \n",
      " |  __rmul__(self, value, /)\n",
      " |      Return value*self.\n",
      " |  \n",
      " |  __ror__(self, value, /)\n",
      " |      Return value|self.\n",
      " |  \n",
      " |  __round__(...)\n",
      " |      Rounding an Integral returns itself.\n",
      " |      \n",
      " |      Rounding with an ndigits argument also returns an integer.\n",
      " |  \n",
      " |  __rpow__(self, value, mod=None, /)\n",
      " |      Return pow(value, self, mod).\n",
      " |  \n",
      " |  __rrshift__(self, value, /)\n",
      " |      Return value>>self.\n",
      " |  \n",
      " |  __rshift__(self, value, /)\n",
      " |      Return self>>value.\n",
      " |  \n",
      " |  __rsub__(self, value, /)\n",
      " |      Return value-self.\n",
      " |  \n",
      " |  __rtruediv__(self, value, /)\n",
      " |      Return value/self.\n",
      " |  \n",
      " |  __rxor__(self, value, /)\n",
      " |      Return value^self.\n",
      " |  \n",
      " |  __sizeof__(self, /)\n",
      " |      Returns size in memory, in bytes.\n",
      " |  \n",
      " |  __sub__(self, value, /)\n",
      " |      Return self-value.\n",
      " |  \n",
      " |  __truediv__(self, value, /)\n",
      " |      Return self/value.\n",
      " |  \n",
      " |  __trunc__(...)\n",
      " |      Truncating an Integral returns itself.\n",
      " |  \n",
      " |  __xor__(self, value, /)\n",
      " |      Return self^value.\n",
      " |  \n",
      " |  as_integer_ratio(self, /)\n",
      " |      Return integer ratio.\n",
      " |      \n",
      " |      Return a pair of integers, whose ratio is exactly equal to the original int\n",
      " |      and with a positive denominator.\n",
      " |      \n",
      " |      >>> (10).as_integer_ratio()\n",
      " |      (10, 1)\n",
      " |      >>> (-10).as_integer_ratio()\n",
      " |      (-10, 1)\n",
      " |      >>> (0).as_integer_ratio()\n",
      " |      (0, 1)\n",
      " |  \n",
      " |  bit_count(self, /)\n",
      " |      Number of ones in the binary representation of the absolute value of self.\n",
      " |      \n",
      " |      Also known as the population count.\n",
      " |      \n",
      " |      >>> bin(13)\n",
      " |      '0b1101'\n",
      " |      >>> (13).bit_count()\n",
      " |      3\n",
      " |  \n",
      " |  bit_length(self, /)\n",
      " |      Number of bits necessary to represent self in binary.\n",
      " |      \n",
      " |      >>> bin(37)\n",
      " |      '0b100101'\n",
      " |      >>> (37).bit_length()\n",
      " |      6\n",
      " |  \n",
      " |  conjugate(...)\n",
      " |      Returns self, the complex conjugate of any int.\n",
      " |  \n",
      " |  to_bytes(self, /, length=1, byteorder='big', *, signed=False)\n",
      " |      Return an array of bytes representing an integer.\n",
      " |      \n",
      " |      length\n",
      " |        Length of bytes object to use.  An OverflowError is raised if the\n",
      " |        integer is not representable with the given number of bytes.  Default\n",
      " |        is length 1.\n",
      " |      byteorder\n",
      " |        The byte order used to represent the integer.  If byteorder is 'big',\n",
      " |        the most significant byte is at the beginning of the byte array.  If\n",
      " |        byteorder is 'little', the most significant byte is at the end of the\n",
      " |        byte array.  To request the native byte order of the host system, use\n",
      " |        `sys.byteorder' as the byte order value.  Default is to use 'big'.\n",
      " |      signed\n",
      " |        Determines whether two's complement is used to represent the integer.\n",
      " |        If signed is False and a negative integer is given, an OverflowError\n",
      " |        is raised.\n",
      " |  \n",
      " |  ----------------------------------------------------------------------\n",
      " |  Class methods defined here:\n",
      " |  \n",
      " |  from_bytes(bytes, byteorder='big', *, signed=False) from builtins.type\n",
      " |      Return the integer represented by the given array of bytes.\n",
      " |      \n",
      " |      bytes\n",
      " |        Holds the array of bytes to convert.  The argument must either\n",
      " |        support the buffer protocol or be an iterable object producing bytes.\n",
      " |        Bytes and bytearray are examples of built-in objects that support the\n",
      " |        buffer protocol.\n",
      " |      byteorder\n",
      " |        The byte order used to represent the integer.  If byteorder is 'big',\n",
      " |        the most significant byte is at the beginning of the byte array.  If\n",
      " |        byteorder is 'little', the most significant byte is at the end of the\n",
      " |        byte array.  To request the native byte order of the host system, use\n",
      " |        `sys.byteorder' as the byte order value.  Default is to use 'big'.\n",
      " |      signed\n",
      " |        Indicates whether two's complement is used to represent the integer.\n",
      " |  \n",
      " |  ----------------------------------------------------------------------\n",
      " |  Static methods defined here:\n",
      " |  \n",
      " |  __new__(*args, **kwargs) from builtins.type\n",
      " |      Create and return a new object.  See help(type) for accurate signature.\n",
      " |  \n",
      " |  ----------------------------------------------------------------------\n",
      " |  Data descriptors defined here:\n",
      " |  \n",
      " |  denominator\n",
      " |      the denominator of a rational number in lowest terms\n",
      " |  \n",
      " |  imag\n",
      " |      the imaginary part of a complex number\n",
      " |  \n",
      " |  numerator\n",
      " |      the numerator of a rational number in lowest terms\n",
      " |  \n",
      " |  real\n",
      " |      the real part of a complex number\n",
      "\n"
     ]
    }
   ],
   "source": [
    "# Python böyle bir ifadeyi içten dışa doğru değerlendirir. Önce 'round(-2.01)' değerini hesaplar, sonra o ifadenin çıktısı konusunda yardım sağlar.\n",
    "help(round(-2.01))"
   ]
  },
  {
   "cell_type": "code",
   "execution_count": 8,
   "id": "03e465bf",
   "metadata": {
    "papermill": {
     "duration": 0.0227,
     "end_time": "2023-04-21T13:38:25.335157",
     "exception": false,
     "start_time": "2023-04-21T13:38:25.312457",
     "status": "completed"
    },
    "tags": []
   },
   "outputs": [
    {
     "name": "stdout",
     "output_type": "stream",
     "text": [
      "Help on built-in function print in module builtins:\n",
      "\n",
      "print(*args, sep=' ', end='\\n', file=None, flush=False)\n",
      "    Prints the values to a stream, or to sys.stdout by default.\n",
      "    \n",
      "    sep\n",
      "      string inserted between values, default a space.\n",
      "    end\n",
      "      string appended after the last value, default a newline.\n",
      "    file\n",
      "      a file-like object (stream); defaults to the current sys.stdout.\n",
      "    flush\n",
      "      whether to forcibly flush the stream.\n",
      "\n"
     ]
    }
   ],
   "source": [
    "# Print fonksiyonunun doğru yardımı\n",
    "help(print)"
   ]
  },
  {
   "cell_type": "markdown",
   "id": "813c752f",
   "metadata": {
    "papermill": {
     "duration": 0.008132,
     "end_time": "2023-04-21T13:38:25.368850",
     "exception": false,
     "start_time": "2023-04-21T13:38:25.360718",
     "status": "completed"
    },
    "tags": []
   },
   "source": [
    "## Defining functions"
   ]
  },
  {
   "cell_type": "code",
   "execution_count": 9,
   "id": "733e2448",
   "metadata": {
    "papermill": {
     "duration": 0.022163,
     "end_time": "2023-04-21T13:38:25.399059",
     "exception": false,
     "start_time": "2023-04-21T13:38:25.376896",
     "status": "completed"
    },
    "tags": []
   },
   "outputs": [],
   "source": [
    "# Fonksiyon oluşturma\n",
    "def least_difference(a, b, c):\n",
    "    diff1 = abs(a - b)\n",
    "    diff2 = abs(b - c)\n",
    "    diff3 = abs(a - c)\n",
    "    return min(diff1, diff2, diff3)"
   ]
  },
  {
   "cell_type": "code",
   "execution_count": 10,
   "id": "a30f8f32",
   "metadata": {
    "papermill": {
     "duration": 0.021796,
     "end_time": "2023-04-21T13:38:25.447260",
     "exception": false,
     "start_time": "2023-04-21T13:38:25.425464",
     "status": "completed"
    },
    "tags": []
   },
   "outputs": [
    {
     "name": "stdout",
     "output_type": "stream",
     "text": [
      "9 0 1\n"
     ]
    }
   ],
   "source": [
    "# Sonuçları görme\n",
    "print(\n",
    "    least_difference(1, 10, 100),\n",
    "    least_difference(1, 10, 10),\n",
    "    least_difference(5, 6, 7), # Python allows trailing commas in argument lists. How nice is that?\n",
    ")"
   ]
  },
  {
   "cell_type": "code",
   "execution_count": 11,
   "id": "f9f2832e",
   "metadata": {
    "papermill": {
     "duration": 0.021805,
     "end_time": "2023-04-21T13:38:25.493966",
     "exception": false,
     "start_time": "2023-04-21T13:38:25.472161",
     "status": "completed"
    },
    "tags": []
   },
   "outputs": [
    {
     "name": "stdout",
     "output_type": "stream",
     "text": [
      "Help on function least_difference in module __main__:\n",
      "\n",
      "least_difference(a, b, c)\n",
      "    # Fonksiyon oluşturma\n",
      "\n"
     ]
    }
   ],
   "source": [
    "# Docstring yazmazsak oluşturduğumuz fonksiyondan yardım alamayız.\n",
    "help(least_difference)"
   ]
  },
  {
   "cell_type": "markdown",
   "id": "4fe0bc86",
   "metadata": {
    "papermill": {
     "duration": 0.008041,
     "end_time": "2023-04-21T13:38:25.510740",
     "exception": false,
     "start_time": "2023-04-21T13:38:25.502699",
     "status": "completed"
    },
    "tags": []
   },
   "source": [
    "### Docstrings"
   ]
  },
  {
   "cell_type": "code",
   "execution_count": 12,
   "id": "4a0df5cf",
   "metadata": {
    "papermill": {
     "duration": 0.020821,
     "end_time": "2023-04-21T13:38:25.539804",
     "exception": false,
     "start_time": "2023-04-21T13:38:25.518983",
     "status": "completed"
    },
    "tags": []
   },
   "outputs": [],
   "source": [
    "# Docstring aşağıdaki gibi eklenir\n",
    "def least_difference(a, b, c):\n",
    "    \"\"\"Return the smallest difference between any two numbers\n",
    "    among a, b and c.\n",
    "    \n",
    "    >>> least_difference(1, 5, -5)\n",
    "    4\n",
    "    \"\"\"\n",
    "    diff1 = abs(a - b)\n",
    "    diff2 = abs(b - c)\n",
    "    diff3 = abs(a - c)\n",
    "    return min(diff1, diff2, diff3)"
   ]
  },
  {
   "cell_type": "code",
   "execution_count": 13,
   "id": "5fd64ddb",
   "metadata": {
    "papermill": {
     "duration": 0.020073,
     "end_time": "2023-04-21T13:38:25.585772",
     "exception": false,
     "start_time": "2023-04-21T13:38:25.565699",
     "status": "completed"
    },
    "tags": []
   },
   "outputs": [
    {
     "name": "stdout",
     "output_type": "stream",
     "text": [
      "Help on function least_difference in module __main__:\n",
      "\n",
      "least_difference(a, b, c)\n",
      "    Return the smallest difference between any two numbers\n",
      "    among a, b and c.\n",
      "    \n",
      "    >>> least_difference(1, 5, -5)\n",
      "    4\n",
      "\n"
     ]
    }
   ],
   "source": [
    "help(least_difference)"
   ]
  },
  {
   "cell_type": "markdown",
   "id": "5a996623",
   "metadata": {
    "papermill": {
     "duration": 0.008874,
     "end_time": "2023-04-21T13:38:25.731623",
     "exception": false,
     "start_time": "2023-04-21T13:38:25.722749",
     "status": "completed"
    },
    "tags": []
   },
   "source": [
    "## Default arguments"
   ]
  },
  {
   "cell_type": "code",
   "execution_count": 14,
   "id": "9a19679c",
   "metadata": {
    "papermill": {
     "duration": 0.019742,
     "end_time": "2023-04-21T13:38:25.759865",
     "exception": false,
     "start_time": "2023-04-21T13:38:25.740123",
     "status": "completed"
    },
    "tags": []
   },
   "outputs": [
    {
     "name": "stdout",
     "output_type": "stream",
     "text": [
      "1 < 2 < 3\n"
     ]
    }
   ],
   "source": [
    "print(1, 2, 3, sep=' < ')"
   ]
  },
  {
   "cell_type": "code",
   "execution_count": 15,
   "id": "22339a43",
   "metadata": {
    "papermill": {
     "duration": 0.021199,
     "end_time": "2023-04-21T13:38:25.808538",
     "exception": false,
     "start_time": "2023-04-21T13:38:25.787339",
     "status": "completed"
    },
    "tags": []
   },
   "outputs": [
    {
     "name": "stdout",
     "output_type": "stream",
     "text": [
      "1 2 3\n"
     ]
    }
   ],
   "source": [
    "print(1, 2, 3)"
   ]
  },
  {
   "cell_type": "code",
   "execution_count": 16,
   "id": "f0775277",
   "metadata": {
    "papermill": {
     "duration": 0.022574,
     "end_time": "2023-04-21T13:38:25.858888",
     "exception": false,
     "start_time": "2023-04-21T13:38:25.836314",
     "status": "completed"
    },
    "tags": []
   },
   "outputs": [
    {
     "name": "stdout",
     "output_type": "stream",
     "text": [
      "Hello, Colin\n",
      "Hello, Kaggle\n",
      "Hello, world\n"
     ]
    }
   ],
   "source": [
    "def greet(who=\"Colin\"):\n",
    "    print(\"Hello,\", who)\n",
    "    \n",
    "greet()\n",
    "greet(who=\"Kaggle\")\n",
    "# (In this case, we don't need to specify the name of the argument, because it's unambiguous.)\n",
    "greet(\"world\")"
   ]
  },
  {
   "cell_type": "markdown",
   "id": "20cc096a",
   "metadata": {
    "papermill": {
     "duration": 0.00932,
     "end_time": "2023-04-21T13:38:25.877950",
     "exception": false,
     "start_time": "2023-04-21T13:38:25.868630",
     "status": "completed"
    },
    "tags": []
   },
   "source": [
    "## Functions Applied to Functions"
   ]
  },
  {
   "cell_type": "code",
   "execution_count": 17,
   "id": "d9b0d078",
   "metadata": {
    "papermill": {
     "duration": 0.021616,
     "end_time": "2023-04-21T13:38:25.908614",
     "exception": false,
     "start_time": "2023-04-21T13:38:25.886998",
     "status": "completed"
    },
    "tags": []
   },
   "outputs": [
    {
     "name": "stdout",
     "output_type": "stream",
     "text": [
      "5\n",
      "25\n"
     ]
    }
   ],
   "source": [
    "def mult_by_five(x):\n",
    "    return 5 * x\n",
    "\n",
    "def call(fn, arg):\n",
    "    \"\"\"Call fn on arg\"\"\"\n",
    "    return fn(arg)\n",
    "\n",
    "def squared_call(fn, arg):\n",
    "    \"\"\"Call fn on the result of calling fn on arg\"\"\"\n",
    "    return fn(fn(arg))\n",
    "\n",
    "print(\n",
    "    call(mult_by_five, 1),\n",
    "    squared_call(mult_by_five, 1), \n",
    "    sep='\\n', # '\\n' is the newline character - it starts a new line\n",
    ")"
   ]
  },
  {
   "cell_type": "code",
   "execution_count": 18,
   "id": "d0b2d2e3",
   "metadata": {
    "papermill": {
     "duration": 0.021022,
     "end_time": "2023-04-21T13:38:25.957485",
     "exception": false,
     "start_time": "2023-04-21T13:38:25.936463",
     "status": "completed"
    },
    "tags": []
   },
   "outputs": [
    {
     "name": "stdout",
     "output_type": "stream",
     "text": [
      "Which number is biggest?\n",
      "100\n",
      "Which number is the biggest modulo 5?\n",
      "14\n"
     ]
    }
   ],
   "source": [
    "def mod_5(x):\n",
    "    \"\"\"Return the remainder of x after dividing by 5\"\"\"\n",
    "    return x % 5\n",
    "\n",
    "print(\n",
    "    'Which number is biggest?',\n",
    "    max(100, 51, 14),\n",
    "    'Which number is the biggest modulo 5?',\n",
    "    max(100, 51, 14, key=mod_5),\n",
    "    sep='\\n',\n",
    ")"
   ]
  },
  {
   "cell_type": "markdown",
   "id": "b0508526",
   "metadata": {
    "papermill": {
     "duration": 0.008749,
     "end_time": "2023-04-21T13:38:25.993318",
     "exception": false,
     "start_time": "2023-04-21T13:38:25.984569",
     "status": "completed"
    },
    "tags": []
   },
   "source": [
    "---"
   ]
  },
  {
   "cell_type": "markdown",
   "id": "1e8b2f1a",
   "metadata": {
    "papermill": {
     "duration": 0.007328,
     "end_time": "2023-04-21T13:38:29.516338",
     "exception": false,
     "start_time": "2023-04-21T13:38:29.509010",
     "status": "completed"
    },
    "tags": []
   },
   "source": [
    "# 3 Booleans"
   ]
  },
  {
   "cell_type": "code",
   "execution_count": 19,
   "id": "e768c13d",
   "metadata": {
    "papermill": {
     "duration": 0.024363,
     "end_time": "2023-04-21T13:38:29.547171",
     "exception": false,
     "start_time": "2023-04-21T13:38:29.522808",
     "status": "completed"
    },
    "tags": []
   },
   "outputs": [
    {
     "name": "stdout",
     "output_type": "stream",
     "text": [
      "True\n",
      "<class 'bool'>\n"
     ]
    }
   ],
   "source": [
    "x = True\n",
    "print(x)\n",
    "print(type(x))"
   ]
  },
  {
   "cell_type": "markdown",
   "id": "b47489b0",
   "metadata": {
    "papermill": {
     "duration": 0.005284,
     "end_time": "2023-04-21T13:38:29.569200",
     "exception": false,
     "start_time": "2023-04-21T13:38:29.563916",
     "status": "completed"
    },
    "tags": []
   },
   "source": [
    "## Comparison Operations\n",
    "\n",
    "| Operation     | Description                          |\n",
    "|---------------|--------------------------------------|\n",
    "| ``a == b``    | ``a`` equal to ``b``                 |\n",
    "| ``a != b``    | ``a`` not equal to ``b``             |\n",
    "| ``a < b``     | ``a`` less than ``b``                |\n",
    "| ``a > b``     | ``a`` greater than ``b``             |\n",
    "| ``a <= b``    | ``a`` less than or equal to ``b``    |\n",
    "| ``a >= b``    | ``a`` greater than or equal to ``b`` |"
   ]
  },
  {
   "cell_type": "code",
   "execution_count": 20,
   "id": "3b6b0b7e",
   "metadata": {
    "papermill": {
     "duration": 0.016587,
     "end_time": "2023-04-21T13:38:29.591524",
     "exception": false,
     "start_time": "2023-04-21T13:38:29.574937",
     "status": "completed"
    },
    "tags": []
   },
   "outputs": [
    {
     "name": "stdout",
     "output_type": "stream",
     "text": [
      "Can a 19-year-old run for president? False\n",
      "Can a 45-year-old run for president? True\n"
     ]
    }
   ],
   "source": [
    "def can_run_for_president(age):\n",
    "    \"\"\"Can someone of the given age run for president in the US?\"\"\"\n",
    "    # The US Constitution says you must be at least 35 years old\n",
    "    return age >= 35\n",
    "\n",
    "print(\"Can a 19-year-old run for president?\", can_run_for_president(19))\n",
    "print(\"Can a 45-year-old run for president?\", can_run_for_president(45))"
   ]
  },
  {
   "cell_type": "code",
   "execution_count": 21,
   "id": "b2154de5",
   "metadata": {
    "papermill": {
     "duration": 0.017864,
     "end_time": "2023-04-21T13:38:29.625912",
     "exception": false,
     "start_time": "2023-04-21T13:38:29.608048",
     "status": "completed"
    },
    "tags": []
   },
   "outputs": [
    {
     "data": {
      "text/plain": [
       "True"
      ]
     },
     "execution_count": 21,
     "metadata": {},
     "output_type": "execute_result"
    }
   ],
   "source": [
    "3.0 == 3"
   ]
  },
  {
   "cell_type": "code",
   "execution_count": 22,
   "id": "c952e75f",
   "metadata": {
    "papermill": {
     "duration": 0.015986,
     "end_time": "2023-04-21T13:38:29.658957",
     "exception": false,
     "start_time": "2023-04-21T13:38:29.642971",
     "status": "completed"
    },
    "tags": []
   },
   "outputs": [
    {
     "data": {
      "text/plain": [
       "False"
      ]
     },
     "execution_count": 22,
     "metadata": {},
     "output_type": "execute_result"
    }
   ],
   "source": [
    "'3' == 3"
   ]
  },
  {
   "cell_type": "code",
   "execution_count": 23,
   "id": "07132943",
   "metadata": {
    "papermill": {
     "duration": 0.01578,
     "end_time": "2023-04-21T13:38:29.692212",
     "exception": false,
     "start_time": "2023-04-21T13:38:29.676432",
     "status": "completed"
    },
    "tags": []
   },
   "outputs": [
    {
     "name": "stdout",
     "output_type": "stream",
     "text": [
      "Is 100 odd? False\n",
      "Is -1 odd? True\n"
     ]
    }
   ],
   "source": [
    "def is_odd(n):\n",
    "    return (n % 2) == 1\n",
    "\n",
    "print(\"Is 100 odd?\", is_odd(100))\n",
    "print(\"Is -1 odd?\", is_odd(-1))"
   ]
  },
  {
   "cell_type": "markdown",
   "id": "a7437d5e",
   "metadata": {
    "papermill": {
     "duration": 0.005967,
     "end_time": "2023-04-21T13:38:29.717047",
     "exception": false,
     "start_time": "2023-04-21T13:38:29.711080",
     "status": "completed"
    },
    "tags": []
   },
   "source": [
    "## Combining Boolean Values"
   ]
  },
  {
   "cell_type": "code",
   "execution_count": 24,
   "id": "50360320",
   "metadata": {
    "papermill": {
     "duration": 0.017422,
     "end_time": "2023-04-21T13:38:29.740593",
     "exception": false,
     "start_time": "2023-04-21T13:38:29.723171",
     "status": "completed"
    },
    "tags": []
   },
   "outputs": [
    {
     "name": "stdout",
     "output_type": "stream",
     "text": [
      "False\n",
      "False\n",
      "True\n"
     ]
    }
   ],
   "source": [
    "def can_run_for_president(age, is_natural_born_citizen):\n",
    "    \"\"\"Can someone of the given age and citizenship status run for president in the US?\"\"\"\n",
    "    # The US Constitution says you must be a natural born citizen *and* at least 35 years old\n",
    "    return is_natural_born_citizen and (age >= 35)\n",
    "\n",
    "print(can_run_for_president(19, True))\n",
    "print(can_run_for_president(55, False))\n",
    "print(can_run_for_president(55, True))"
   ]
  },
  {
   "cell_type": "code",
   "execution_count": 25,
   "id": "52519a2c",
   "metadata": {
    "_kg_hide-output": true,
    "papermill": {
     "duration": 0.016191,
     "end_time": "2023-04-21T13:38:29.775056",
     "exception": false,
     "start_time": "2023-04-21T13:38:29.758865",
     "status": "completed"
    },
    "tags": []
   },
   "outputs": [
    {
     "data": {
      "text/plain": [
       "True"
      ]
     },
     "execution_count": 25,
     "metadata": {},
     "output_type": "execute_result"
    }
   ],
   "source": [
    "True or True and False"
   ]
  },
  {
   "cell_type": "markdown",
   "id": "f7e420b5",
   "metadata": {
    "papermill": {
     "duration": 0.005994,
     "end_time": "2023-04-21T13:38:29.800200",
     "exception": false,
     "start_time": "2023-04-21T13:38:29.794206",
     "status": "completed"
    },
    "tags": []
   },
   "source": [
    "## Conditionals"
   ]
  },
  {
   "cell_type": "code",
   "execution_count": 26,
   "id": "afe80d76",
   "metadata": {
    "papermill": {
     "duration": 0.018648,
     "end_time": "2023-04-21T13:38:29.825144",
     "exception": false,
     "start_time": "2023-04-21T13:38:29.806496",
     "status": "completed"
    },
    "tags": []
   },
   "outputs": [
    {
     "name": "stdout",
     "output_type": "stream",
     "text": [
      "0 is zero\n",
      "-15 is negative\n"
     ]
    }
   ],
   "source": [
    "def inspect(x):\n",
    "    if x == 0:\n",
    "        print(x, \"is zero\")\n",
    "    elif x > 0:\n",
    "        print(x, \"is positive\")\n",
    "    elif x < 0:\n",
    "        print(x, \"is negative\")\n",
    "    else:\n",
    "        print(x, \"is unlike anything I've ever seen...\")\n",
    "\n",
    "inspect(0)\n",
    "inspect(-15)"
   ]
  },
  {
   "cell_type": "code",
   "execution_count": 27,
   "id": "049b46c9",
   "metadata": {
    "papermill": {
     "duration": 0.017945,
     "end_time": "2023-04-21T13:38:29.862680",
     "exception": false,
     "start_time": "2023-04-21T13:38:29.844735",
     "status": "completed"
    },
    "tags": []
   },
   "outputs": [
    {
     "name": "stdout",
     "output_type": "stream",
     "text": [
      "Only printed when x is positive; x = 1\n",
      "Also only printed when x is positive; x = 1\n",
      "Always printed, regardless of x's value; x = 1\n",
      "Always printed, regardless of x's value; x = 0\n"
     ]
    }
   ],
   "source": [
    "def f(x):\n",
    "    if x > 0:\n",
    "        print(\"Only printed when x is positive; x =\", x)\n",
    "        print(\"Also only printed when x is positive; x =\", x)\n",
    "    print(\"Always printed, regardless of x's value; x =\", x)\n",
    "\n",
    "f(1)\n",
    "f(0)"
   ]
  },
  {
   "cell_type": "markdown",
   "id": "77ae8102",
   "metadata": {
    "papermill": {
     "duration": 0.006234,
     "end_time": "2023-04-21T13:38:29.875492",
     "exception": false,
     "start_time": "2023-04-21T13:38:29.869258",
     "status": "completed"
    },
    "tags": []
   },
   "source": [
    "## Boolean conversion"
   ]
  },
  {
   "cell_type": "code",
   "execution_count": 28,
   "id": "7be226fd",
   "metadata": {
    "papermill": {
     "duration": 0.016737,
     "end_time": "2023-04-21T13:38:29.898755",
     "exception": false,
     "start_time": "2023-04-21T13:38:29.882018",
     "status": "completed"
    },
    "tags": []
   },
   "outputs": [
    {
     "name": "stdout",
     "output_type": "stream",
     "text": [
      "True\n",
      "False\n",
      "True\n",
      "False\n"
     ]
    }
   ],
   "source": [
    "print(bool(1)) # all numbers are treated as true, except 0\n",
    "print(bool(0))\n",
    "print(bool(\"asf\")) # all strings are treated as true, except the empty string \"\"\n",
    "print(bool(\"\"))\n",
    "# Generally empty sequences (strings, lists, and other types we've yet to see like lists and tuples)\n",
    "# are \"falsey\" and the rest are \"truthy\""
   ]
  },
  {
   "cell_type": "code",
   "execution_count": 29,
   "id": "0887c35a",
   "metadata": {
    "papermill": {
     "duration": 0.017929,
     "end_time": "2023-04-21T13:38:29.936693",
     "exception": false,
     "start_time": "2023-04-21T13:38:29.918764",
     "status": "completed"
    },
    "tags": []
   },
   "outputs": [
    {
     "name": "stdout",
     "output_type": "stream",
     "text": [
      "spam\n"
     ]
    }
   ],
   "source": [
    "if 0:\n",
    "    print(0)\n",
    "elif \"spam\":\n",
    "    print(\"spam\")"
   ]
  },
  {
   "cell_type": "markdown",
   "id": "06b30f40-99ef-4179-a27a-65f1ee8c6b64",
   "metadata": {
    "papermill": {
     "duration": 0.006804,
     "end_time": "2023-04-21T13:38:29.950402",
     "exception": false,
     "start_time": "2023-04-21T13:38:29.943598",
     "status": "completed"
    },
    "tags": []
   },
   "source": [
    "---"
   ]
  },
  {
   "cell_type": "markdown",
   "id": "2c548504-d76e-4e84-8dbe-d56e4ae95bf1",
   "metadata": {},
   "source": [
    "# 4 Lists"
   ]
  },
  {
   "cell_type": "code",
   "execution_count": 30,
   "id": "ecdfd8c3",
   "metadata": {
    "papermill": {
     "duration": 0.032163,
     "end_time": "2023-04-21T13:38:31.951893",
     "exception": false,
     "start_time": "2023-04-21T13:38:31.919730",
     "status": "completed"
    },
    "tags": []
   },
   "outputs": [],
   "source": [
    "primes = [2, 3, 5, 7]"
   ]
  },
  {
   "cell_type": "code",
   "execution_count": 31,
   "id": "a0f6cccb",
   "metadata": {
    "papermill": {
     "duration": 0.025064,
     "end_time": "2023-04-21T13:38:32.027757",
     "exception": false,
     "start_time": "2023-04-21T13:38:32.002693",
     "status": "completed"
    },
    "tags": []
   },
   "outputs": [],
   "source": [
    "planets = ['Mercury', 'Venus', 'Earth', 'Mars', 'Jupiter', 'Saturn', 'Uranus', 'Neptune']"
   ]
  },
  {
   "cell_type": "code",
   "execution_count": 32,
   "id": "e4b44f25",
   "metadata": {
    "papermill": {
     "duration": 0.022808,
     "end_time": "2023-04-21T13:38:32.088459",
     "exception": false,
     "start_time": "2023-04-21T13:38:32.065651",
     "status": "completed"
    },
    "tags": []
   },
   "outputs": [],
   "source": [
    "# Listelerin listesini yapabiliriz\n",
    "hands = [\n",
    "    ['J', 'Q', 'K'],\n",
    "    ['2', '2', '2'],\n",
    "    ['6', 'A', 'K'], # (Comma after the last element is optional)\n",
    "]\n",
    "# (I could also have written this on one line, but it can get hard to read)\n",
    "hands = [['J', 'Q', 'K'], ['2', '2', '2'], ['6', 'A', 'K']]"
   ]
  },
  {
   "cell_type": "code",
   "execution_count": 33,
   "id": "babc2376",
   "metadata": {
    "papermill": {
     "duration": 0.021715,
     "end_time": "2023-04-21T13:38:32.148576",
     "exception": false,
     "start_time": "2023-04-21T13:38:32.126861",
     "status": "completed"
    },
    "tags": []
   },
   "outputs": [],
   "source": [
    "#Aynı anda string, integer ve fonksiyondan liste üretebiliriz.\n",
    "my_favourite_things = [32, 'raindrops on roses', help]\n",
    "# (Yes, Python's help function is *definitely* one of my favourite things)"
   ]
  },
  {
   "cell_type": "markdown",
   "id": "cc10595f",
   "metadata": {
    "papermill": {
     "duration": 0.012763,
     "end_time": "2023-04-21T13:38:32.174260",
     "exception": false,
     "start_time": "2023-04-21T13:38:32.161497",
     "status": "completed"
    },
    "tags": []
   },
   "source": [
    "## Indexing"
   ]
  },
  {
   "cell_type": "code",
   "execution_count": 34,
   "id": "4a38be67",
   "metadata": {
    "papermill": {
     "duration": 0.025648,
     "end_time": "2023-04-21T13:38:32.212543",
     "exception": false,
     "start_time": "2023-04-21T13:38:32.186895",
     "status": "completed"
    },
    "tags": []
   },
   "outputs": [
    {
     "data": {
      "text/plain": [
       "'Mercury'"
      ]
     },
     "execution_count": 34,
     "metadata": {},
     "output_type": "execute_result"
    }
   ],
   "source": [
    "planets[0]"
   ]
  },
  {
   "cell_type": "code",
   "execution_count": 35,
   "id": "b30876a5",
   "metadata": {
    "papermill": {
     "duration": 0.023358,
     "end_time": "2023-04-21T13:38:32.274329",
     "exception": false,
     "start_time": "2023-04-21T13:38:32.250971",
     "status": "completed"
    },
    "tags": []
   },
   "outputs": [
    {
     "data": {
      "text/plain": [
       "'Venus'"
      ]
     },
     "execution_count": 35,
     "metadata": {},
     "output_type": "execute_result"
    }
   ],
   "source": [
    "planets[1]"
   ]
  },
  {
   "cell_type": "code",
   "execution_count": 36,
   "id": "d19168fb",
   "metadata": {
    "papermill": {
     "duration": 0.023721,
     "end_time": "2023-04-21T13:38:32.336670",
     "exception": false,
     "start_time": "2023-04-21T13:38:32.312949",
     "status": "completed"
    },
    "tags": []
   },
   "outputs": [
    {
     "data": {
      "text/plain": [
       "'Neptune'"
      ]
     },
     "execution_count": 36,
     "metadata": {},
     "output_type": "execute_result"
    }
   ],
   "source": [
    "planets[-1]"
   ]
  },
  {
   "cell_type": "code",
   "execution_count": 37,
   "id": "c523fca7",
   "metadata": {
    "papermill": {
     "duration": 0.023915,
     "end_time": "2023-04-21T13:38:32.373627",
     "exception": false,
     "start_time": "2023-04-21T13:38:32.349712",
     "status": "completed"
    },
    "tags": []
   },
   "outputs": [
    {
     "data": {
      "text/plain": [
       "'Uranus'"
      ]
     },
     "execution_count": 37,
     "metadata": {},
     "output_type": "execute_result"
    }
   ],
   "source": [
    "planets[-2]"
   ]
  },
  {
   "cell_type": "markdown",
   "id": "afb51c0e",
   "metadata": {
    "papermill": {
     "duration": 0.012888,
     "end_time": "2023-04-21T13:38:32.399883",
     "exception": false,
     "start_time": "2023-04-21T13:38:32.386995",
     "status": "completed"
    },
    "tags": []
   },
   "source": [
    "## Slicing"
   ]
  },
  {
   "cell_type": "code",
   "execution_count": 38,
   "id": "b0481d7c",
   "metadata": {
    "papermill": {
     "duration": 0.024087,
     "end_time": "2023-04-21T13:38:32.437288",
     "exception": false,
     "start_time": "2023-04-21T13:38:32.413201",
     "status": "completed"
    },
    "tags": []
   },
   "outputs": [
    {
     "data": {
      "text/plain": [
       "['Mercury', 'Venus', 'Earth']"
      ]
     },
     "execution_count": 38,
     "metadata": {},
     "output_type": "execute_result"
    }
   ],
   "source": [
    "planets[0:3]"
   ]
  },
  {
   "cell_type": "code",
   "execution_count": 39,
   "id": "f9444939",
   "metadata": {
    "papermill": {
     "duration": 0.024435,
     "end_time": "2023-04-21T13:38:32.501868",
     "exception": false,
     "start_time": "2023-04-21T13:38:32.477433",
     "status": "completed"
    },
    "tags": []
   },
   "outputs": [
    {
     "data": {
      "text/plain": [
       "['Mercury', 'Venus', 'Earth']"
      ]
     },
     "execution_count": 39,
     "metadata": {},
     "output_type": "execute_result"
    }
   ],
   "source": [
    "planets[:3]"
   ]
  },
  {
   "cell_type": "code",
   "execution_count": 40,
   "id": "dee0e7b6",
   "metadata": {
    "papermill": {
     "duration": 0.024614,
     "end_time": "2023-04-21T13:38:32.567021",
     "exception": false,
     "start_time": "2023-04-21T13:38:32.542407",
     "status": "completed"
    },
    "tags": []
   },
   "outputs": [
    {
     "data": {
      "text/plain": [
       "['Mars', 'Jupiter', 'Saturn', 'Uranus', 'Neptune']"
      ]
     },
     "execution_count": 40,
     "metadata": {},
     "output_type": "execute_result"
    }
   ],
   "source": [
    "planets[3:]"
   ]
  },
  {
   "cell_type": "code",
   "execution_count": 41,
   "id": "f6e4319c",
   "metadata": {
    "papermill": {
     "duration": 0.024457,
     "end_time": "2023-04-21T13:38:32.632678",
     "exception": false,
     "start_time": "2023-04-21T13:38:32.608221",
     "status": "completed"
    },
    "tags": []
   },
   "outputs": [
    {
     "data": {
      "text/plain": [
       "['Venus', 'Earth', 'Mars', 'Jupiter', 'Saturn', 'Uranus']"
      ]
     },
     "execution_count": 41,
     "metadata": {},
     "output_type": "execute_result"
    }
   ],
   "source": [
    "# All the planets except the first and last\n",
    "planets[1:-1]"
   ]
  },
  {
   "cell_type": "code",
   "execution_count": 42,
   "id": "97518a79",
   "metadata": {
    "papermill": {
     "duration": 0.02463,
     "end_time": "2023-04-21T13:38:32.671181",
     "exception": false,
     "start_time": "2023-04-21T13:38:32.646551",
     "status": "completed"
    },
    "tags": []
   },
   "outputs": [
    {
     "data": {
      "text/plain": [
       "['Saturn', 'Uranus', 'Neptune']"
      ]
     },
     "execution_count": 42,
     "metadata": {},
     "output_type": "execute_result"
    }
   ],
   "source": [
    "# The last 3 planets\n",
    "planets[-3:]"
   ]
  },
  {
   "cell_type": "markdown",
   "id": "8d9f8e61",
   "metadata": {
    "papermill": {
     "duration": 0.013678,
     "end_time": "2023-04-21T13:38:32.698797",
     "exception": false,
     "start_time": "2023-04-21T13:38:32.685119",
     "status": "completed"
    },
    "tags": []
   },
   "source": [
    "## Changing lists"
   ]
  },
  {
   "cell_type": "code",
   "execution_count": 43,
   "id": "59476606",
   "metadata": {
    "papermill": {
     "duration": 0.024987,
     "end_time": "2023-04-21T13:38:32.737999",
     "exception": false,
     "start_time": "2023-04-21T13:38:32.713012",
     "status": "completed"
    },
    "tags": []
   },
   "outputs": [
    {
     "data": {
      "text/plain": [
       "['Mercury',\n",
       " 'Venus',\n",
       " 'Earth',\n",
       " 'Malacandra',\n",
       " 'Jupiter',\n",
       " 'Saturn',\n",
       " 'Uranus',\n",
       " 'Neptune']"
      ]
     },
     "execution_count": 43,
     "metadata": {},
     "output_type": "execute_result"
    }
   ],
   "source": [
    "planets[3] = 'Malacandra'\n",
    "planets"
   ]
  },
  {
   "cell_type": "code",
   "execution_count": 44,
   "id": "26a39a48",
   "metadata": {
    "papermill": {
     "duration": 0.025269,
     "end_time": "2023-04-21T13:38:32.805538",
     "exception": false,
     "start_time": "2023-04-21T13:38:32.780269",
     "status": "completed"
    },
    "tags": []
   },
   "outputs": [
    {
     "name": "stdout",
     "output_type": "stream",
     "text": [
      "['Mur', 'Vee', 'Ur', 'Malacandra', 'Jupiter', 'Saturn', 'Uranus', 'Neptune']\n"
     ]
    }
   ],
   "source": [
    "planets[:3] = ['Mur', 'Vee', 'Ur']\n",
    "print(planets)\n",
    "# That was silly. Let's give them back their old names\n",
    "planets[:4] = ['Mercury', 'Venus', 'Earth', 'Mars',]"
   ]
  },
  {
   "cell_type": "markdown",
   "id": "ec81eb9a",
   "metadata": {
    "papermill": {
     "duration": 0.014083,
     "end_time": "2023-04-21T13:38:32.834013",
     "exception": false,
     "start_time": "2023-04-21T13:38:32.819930",
     "status": "completed"
    },
    "tags": []
   },
   "source": [
    "## List functions"
   ]
  },
  {
   "cell_type": "code",
   "execution_count": 45,
   "id": "7c0b2462",
   "metadata": {
    "papermill": {
     "duration": 0.025028,
     "end_time": "2023-04-21T13:38:32.873612",
     "exception": false,
     "start_time": "2023-04-21T13:38:32.848584",
     "status": "completed"
    },
    "tags": []
   },
   "outputs": [
    {
     "data": {
      "text/plain": [
       "8"
      ]
     },
     "execution_count": 45,
     "metadata": {},
     "output_type": "execute_result"
    }
   ],
   "source": [
    "# How many planets are there?\n",
    "len(planets)"
   ]
  },
  {
   "cell_type": "code",
   "execution_count": 46,
   "id": "73cb8c6a",
   "metadata": {
    "papermill": {
     "duration": 0.02535,
     "end_time": "2023-04-21T13:38:32.942919",
     "exception": false,
     "start_time": "2023-04-21T13:38:32.917569",
     "status": "completed"
    },
    "tags": []
   },
   "outputs": [
    {
     "data": {
      "text/plain": [
       "['Earth', 'Jupiter', 'Mars', 'Mercury', 'Neptune', 'Saturn', 'Uranus', 'Venus']"
      ]
     },
     "execution_count": 46,
     "metadata": {},
     "output_type": "execute_result"
    }
   ],
   "source": [
    "# The planets sorted in alphabetical order\n",
    "sorted(planets)"
   ]
  },
  {
   "cell_type": "code",
   "execution_count": 47,
   "id": "26b2e4d3",
   "metadata": {
    "papermill": {
     "duration": 0.026121,
     "end_time": "2023-04-21T13:38:33.013796",
     "exception": false,
     "start_time": "2023-04-21T13:38:32.987675",
     "status": "completed"
    },
    "tags": []
   },
   "outputs": [
    {
     "data": {
      "text/plain": [
       "17"
      ]
     },
     "execution_count": 47,
     "metadata": {},
     "output_type": "execute_result"
    }
   ],
   "source": [
    "primes = [2, 3, 5, 7]\n",
    "sum(primes)"
   ]
  },
  {
   "cell_type": "code",
   "execution_count": 48,
   "id": "950fb1b4",
   "metadata": {
    "papermill": {
     "duration": 0.024904,
     "end_time": "2023-04-21T13:38:33.083330",
     "exception": false,
     "start_time": "2023-04-21T13:38:33.058426",
     "status": "completed"
    },
    "tags": []
   },
   "outputs": [
    {
     "data": {
      "text/plain": [
       "7"
      ]
     },
     "execution_count": 48,
     "metadata": {},
     "output_type": "execute_result"
    }
   ],
   "source": [
    "max(primes)"
   ]
  },
  {
   "cell_type": "markdown",
   "id": "0fe0f5e7",
   "metadata": {
    "papermill": {
     "duration": 0.015613,
     "end_time": "2023-04-21T13:38:33.114285",
     "exception": false,
     "start_time": "2023-04-21T13:38:33.098672",
     "status": "completed"
    },
    "tags": []
   },
   "source": [
    "## Interlude: objects"
   ]
  },
  {
   "cell_type": "code",
   "execution_count": 49,
   "id": "3cc3a0aa",
   "metadata": {
    "papermill": {
     "duration": 0.024891,
     "end_time": "2023-04-21T13:38:33.154963",
     "exception": false,
     "start_time": "2023-04-21T13:38:33.130072",
     "status": "completed"
    },
    "tags": []
   },
   "outputs": [
    {
     "name": "stdout",
     "output_type": "stream",
     "text": [
      "0\n",
      "3.0\n"
     ]
    }
   ],
   "source": [
    "x = 12\n",
    "# x is a real number, so its imaginary part is 0.\n",
    "print(x.imag)\n",
    "# Here's how to make a complex number, in case you've ever been curious:\n",
    "c = 12 + 3j\n",
    "print(c.imag)"
   ]
  },
  {
   "cell_type": "code",
   "execution_count": 50,
   "id": "34fb9f10",
   "metadata": {
    "papermill": {
     "duration": 0.02805,
     "end_time": "2023-04-21T13:38:33.229386",
     "exception": false,
     "start_time": "2023-04-21T13:38:33.201336",
     "status": "completed"
    },
    "tags": []
   },
   "outputs": [
    {
     "data": {
      "text/plain": [
       "<function int.bit_length()>"
      ]
     },
     "execution_count": 50,
     "metadata": {},
     "output_type": "execute_result"
    }
   ],
   "source": [
    "# Parantez konulmazsa yalnızca adresini gösterir.\n",
    "x.bit_length"
   ]
  },
  {
   "cell_type": "code",
   "execution_count": 51,
   "id": "716938a9",
   "metadata": {
    "papermill": {
     "duration": 0.026168,
     "end_time": "2023-04-21T13:38:33.302479",
     "exception": false,
     "start_time": "2023-04-21T13:38:33.276311",
     "status": "completed"
    },
    "tags": []
   },
   "outputs": [
    {
     "data": {
      "text/plain": [
       "4"
      ]
     },
     "execution_count": 51,
     "metadata": {},
     "output_type": "execute_result"
    }
   ],
   "source": [
    "x.bit_length()"
   ]
  },
  {
   "cell_type": "code",
   "execution_count": 52,
   "id": "29411929",
   "metadata": {
    "papermill": {
     "duration": 0.027308,
     "end_time": "2023-04-21T13:38:33.376373",
     "exception": false,
     "start_time": "2023-04-21T13:38:33.349065",
     "status": "completed"
    },
    "tags": []
   },
   "outputs": [
    {
     "name": "stdout",
     "output_type": "stream",
     "text": [
      "Help on built-in function bit_length:\n",
      "\n",
      "bit_length() method of builtins.int instance\n",
      "    Number of bits necessary to represent self in binary.\n",
      "    \n",
      "    >>> bin(37)\n",
      "    '0b100101'\n",
      "    >>> (37).bit_length()\n",
      "    6\n",
      "\n"
     ]
    }
   ],
   "source": [
    "help(x.bit_length)"
   ]
  },
  {
   "cell_type": "markdown",
   "id": "fa864eda",
   "metadata": {
    "papermill": {
     "duration": 0.015726,
     "end_time": "2023-04-21T13:38:33.438691",
     "exception": false,
     "start_time": "2023-04-21T13:38:33.422965",
     "status": "completed"
    },
    "tags": []
   },
   "source": [
    "## List methods"
   ]
  },
  {
   "cell_type": "code",
   "execution_count": 53,
   "id": "07da9a00",
   "metadata": {
    "papermill": {
     "duration": 0.024537,
     "end_time": "2023-04-21T13:38:33.509870",
     "exception": false,
     "start_time": "2023-04-21T13:38:33.485333",
     "status": "completed"
    },
    "tags": []
   },
   "outputs": [],
   "source": [
    "# Pluto is a planet darn it!\n",
    "planets.append('Pluto')"
   ]
  },
  {
   "cell_type": "code",
   "execution_count": 54,
   "id": "b10e09d7",
   "metadata": {
    "papermill": {
     "duration": 0.026666,
     "end_time": "2023-04-21T13:38:33.583789",
     "exception": false,
     "start_time": "2023-04-21T13:38:33.557123",
     "status": "completed"
    },
    "tags": []
   },
   "outputs": [
    {
     "name": "stdout",
     "output_type": "stream",
     "text": [
      "Help on built-in function append:\n",
      "\n",
      "append(object, /) method of builtins.list instance\n",
      "    Append object to the end of the list.\n",
      "\n"
     ]
    }
   ],
   "source": [
    "help(planets.append)"
   ]
  },
  {
   "cell_type": "code",
   "execution_count": 55,
   "id": "24e688da",
   "metadata": {
    "papermill": {
     "duration": 0.027284,
     "end_time": "2023-04-21T13:38:33.659316",
     "exception": false,
     "start_time": "2023-04-21T13:38:33.632032",
     "status": "completed"
    },
    "tags": []
   },
   "outputs": [
    {
     "data": {
      "text/plain": [
       "['Mercury',\n",
       " 'Venus',\n",
       " 'Earth',\n",
       " 'Mars',\n",
       " 'Jupiter',\n",
       " 'Saturn',\n",
       " 'Uranus',\n",
       " 'Neptune',\n",
       " 'Pluto']"
      ]
     },
     "execution_count": 55,
     "metadata": {},
     "output_type": "execute_result"
    }
   ],
   "source": [
    "planets"
   ]
  },
  {
   "cell_type": "code",
   "execution_count": 56,
   "id": "5d977ed9",
   "metadata": {
    "papermill": {
     "duration": 0.026461,
     "end_time": "2023-04-21T13:38:33.733134",
     "exception": false,
     "start_time": "2023-04-21T13:38:33.706673",
     "status": "completed"
    },
    "tags": []
   },
   "outputs": [
    {
     "data": {
      "text/plain": [
       "'Pluto'"
      ]
     },
     "execution_count": 56,
     "metadata": {},
     "output_type": "execute_result"
    }
   ],
   "source": [
    "planets.pop()"
   ]
  },
  {
   "cell_type": "code",
   "execution_count": 57,
   "id": "1399d786",
   "metadata": {
    "papermill": {
     "duration": 0.026589,
     "end_time": "2023-04-21T13:38:33.775804",
     "exception": false,
     "start_time": "2023-04-21T13:38:33.749215",
     "status": "completed"
    },
    "tags": []
   },
   "outputs": [
    {
     "data": {
      "text/plain": [
       "['Mercury', 'Venus', 'Earth', 'Mars', 'Jupiter', 'Saturn', 'Uranus', 'Neptune']"
      ]
     },
     "execution_count": 57,
     "metadata": {},
     "output_type": "execute_result"
    }
   ],
   "source": [
    "planets"
   ]
  },
  {
   "cell_type": "markdown",
   "id": "5a6d21bc",
   "metadata": {
    "papermill": {
     "duration": 0.01609,
     "end_time": "2023-04-21T13:38:33.808251",
     "exception": false,
     "start_time": "2023-04-21T13:38:33.792161",
     "status": "completed"
    },
    "tags": []
   },
   "source": [
    "### Searching lists"
   ]
  },
  {
   "cell_type": "code",
   "execution_count": 58,
   "id": "7c5322e2",
   "metadata": {
    "papermill": {
     "duration": 0.027323,
     "end_time": "2023-04-21T13:38:33.851871",
     "exception": false,
     "start_time": "2023-04-21T13:38:33.824548",
     "status": "completed"
    },
    "tags": []
   },
   "outputs": [
    {
     "data": {
      "text/plain": [
       "2"
      ]
     },
     "execution_count": 58,
     "metadata": {},
     "output_type": "execute_result"
    }
   ],
   "source": [
    "planets.index('Earth')"
   ]
  },
  {
   "cell_type": "code",
   "execution_count": 59,
   "id": "1b6614f6",
   "metadata": {
    "papermill": {
     "duration": 0.086155,
     "end_time": "2023-04-21T13:38:33.987375",
     "exception": false,
     "start_time": "2023-04-21T13:38:33.901220",
     "status": "completed"
    },
    "tags": [
     "raises-exception"
    ]
   },
   "outputs": [],
   "source": [
    "# Olmayan öğeyi ararsak hata verir\n",
    "# planets.index('Pluto')"
   ]
  },
  {
   "cell_type": "code",
   "execution_count": 60,
   "id": "c4e98d12",
   "metadata": {
    "papermill": {
     "duration": 0.02828,
     "end_time": "2023-04-21T13:38:34.065454",
     "exception": false,
     "start_time": "2023-04-21T13:38:34.037174",
     "status": "completed"
    },
    "tags": []
   },
   "outputs": [
    {
     "data": {
      "text/plain": [
       "True"
      ]
     },
     "execution_count": 60,
     "metadata": {},
     "output_type": "execute_result"
    }
   ],
   "source": [
    "# Is Earth a planet?\n",
    "\"Earth\" in planets"
   ]
  },
  {
   "cell_type": "code",
   "execution_count": 61,
   "id": "421a8191",
   "metadata": {
    "papermill": {
     "duration": 0.029164,
     "end_time": "2023-04-21T13:38:34.111507",
     "exception": false,
     "start_time": "2023-04-21T13:38:34.082343",
     "status": "completed"
    },
    "tags": []
   },
   "outputs": [
    {
     "data": {
      "text/plain": [
       "False"
      ]
     },
     "execution_count": 61,
     "metadata": {},
     "output_type": "execute_result"
    }
   ],
   "source": [
    "# Is Calbefraques a planet?\n",
    "\"Calbefraques\" in planets"
   ]
  },
  {
   "cell_type": "code",
   "execution_count": 62,
   "id": "4153332d",
   "metadata": {
    "_kg_hide-output": true,
    "papermill": {
     "duration": 0.047352,
     "end_time": "2023-04-21T13:38:34.209811",
     "exception": false,
     "start_time": "2023-04-21T13:38:34.162459",
     "status": "completed"
    },
    "tags": []
   },
   "outputs": [
    {
     "name": "stdout",
     "output_type": "stream",
     "text": [
      "Help on list object:\n",
      "\n",
      "class list(object)\n",
      " |  list(iterable=(), /)\n",
      " |  \n",
      " |  Built-in mutable sequence.\n",
      " |  \n",
      " |  If no argument is given, the constructor creates a new empty list.\n",
      " |  The argument must be an iterable if specified.\n",
      " |  \n",
      " |  Methods defined here:\n",
      " |  \n",
      " |  __add__(self, value, /)\n",
      " |      Return self+value.\n",
      " |  \n",
      " |  __contains__(self, key, /)\n",
      " |      Return key in self.\n",
      " |  \n",
      " |  __delitem__(self, key, /)\n",
      " |      Delete self[key].\n",
      " |  \n",
      " |  __eq__(self, value, /)\n",
      " |      Return self==value.\n",
      " |  \n",
      " |  __ge__(self, value, /)\n",
      " |      Return self>=value.\n",
      " |  \n",
      " |  __getattribute__(self, name, /)\n",
      " |      Return getattr(self, name).\n",
      " |  \n",
      " |  __getitem__(...)\n",
      " |      x.__getitem__(y) <==> x[y]\n",
      " |  \n",
      " |  __gt__(self, value, /)\n",
      " |      Return self>value.\n",
      " |  \n",
      " |  __iadd__(self, value, /)\n",
      " |      Implement self+=value.\n",
      " |  \n",
      " |  __imul__(self, value, /)\n",
      " |      Implement self*=value.\n",
      " |  \n",
      " |  __init__(self, /, *args, **kwargs)\n",
      " |      Initialize self.  See help(type(self)) for accurate signature.\n",
      " |  \n",
      " |  __iter__(self, /)\n",
      " |      Implement iter(self).\n",
      " |  \n",
      " |  __le__(self, value, /)\n",
      " |      Return self<=value.\n",
      " |  \n",
      " |  __len__(self, /)\n",
      " |      Return len(self).\n",
      " |  \n",
      " |  __lt__(self, value, /)\n",
      " |      Return self<value.\n",
      " |  \n",
      " |  __mul__(self, value, /)\n",
      " |      Return self*value.\n",
      " |  \n",
      " |  __ne__(self, value, /)\n",
      " |      Return self!=value.\n",
      " |  \n",
      " |  __repr__(self, /)\n",
      " |      Return repr(self).\n",
      " |  \n",
      " |  __reversed__(self, /)\n",
      " |      Return a reverse iterator over the list.\n",
      " |  \n",
      " |  __rmul__(self, value, /)\n",
      " |      Return value*self.\n",
      " |  \n",
      " |  __setitem__(self, key, value, /)\n",
      " |      Set self[key] to value.\n",
      " |  \n",
      " |  __sizeof__(self, /)\n",
      " |      Return the size of the list in memory, in bytes.\n",
      " |  \n",
      " |  append(self, object, /)\n",
      " |      Append object to the end of the list.\n",
      " |  \n",
      " |  clear(self, /)\n",
      " |      Remove all items from list.\n",
      " |  \n",
      " |  copy(self, /)\n",
      " |      Return a shallow copy of the list.\n",
      " |  \n",
      " |  count(self, value, /)\n",
      " |      Return number of occurrences of value.\n",
      " |  \n",
      " |  extend(self, iterable, /)\n",
      " |      Extend list by appending elements from the iterable.\n",
      " |  \n",
      " |  index(self, value, start=0, stop=9223372036854775807, /)\n",
      " |      Return first index of value.\n",
      " |      \n",
      " |      Raises ValueError if the value is not present.\n",
      " |  \n",
      " |  insert(self, index, object, /)\n",
      " |      Insert object before index.\n",
      " |  \n",
      " |  pop(self, index=-1, /)\n",
      " |      Remove and return item at index (default last).\n",
      " |      \n",
      " |      Raises IndexError if list is empty or index is out of range.\n",
      " |  \n",
      " |  remove(self, value, /)\n",
      " |      Remove first occurrence of value.\n",
      " |      \n",
      " |      Raises ValueError if the value is not present.\n",
      " |  \n",
      " |  reverse(self, /)\n",
      " |      Reverse *IN PLACE*.\n",
      " |  \n",
      " |  sort(self, /, *, key=None, reverse=False)\n",
      " |      Sort the list in ascending order and return None.\n",
      " |      \n",
      " |      The sort is in-place (i.e. the list itself is modified) and stable (i.e. the\n",
      " |      order of two equal elements is maintained).\n",
      " |      \n",
      " |      If a key function is given, apply it once to each list item and sort them,\n",
      " |      ascending or descending, according to their function values.\n",
      " |      \n",
      " |      The reverse flag can be set to sort in descending order.\n",
      " |  \n",
      " |  ----------------------------------------------------------------------\n",
      " |  Class methods defined here:\n",
      " |  \n",
      " |  __class_getitem__(...) from builtins.type\n",
      " |      See PEP 585\n",
      " |  \n",
      " |  ----------------------------------------------------------------------\n",
      " |  Static methods defined here:\n",
      " |  \n",
      " |  __new__(*args, **kwargs) from builtins.type\n",
      " |      Create and return a new object.  See help(type) for accurate signature.\n",
      " |  \n",
      " |  ----------------------------------------------------------------------\n",
      " |  Data and other attributes defined here:\n",
      " |  \n",
      " |  __hash__ = None\n",
      "\n"
     ]
    }
   ],
   "source": [
    "help(planets)"
   ]
  },
  {
   "cell_type": "markdown",
   "id": "ae17bf53",
   "metadata": {
    "papermill": {
     "duration": 0.016696,
     "end_time": "2023-04-21T13:38:34.277973",
     "exception": false,
     "start_time": "2023-04-21T13:38:34.261277",
     "status": "completed"
    },
    "tags": []
   },
   "source": [
    "## Tuples"
   ]
  },
  {
   "cell_type": "code",
   "execution_count": 63,
   "id": "44b32c93",
   "metadata": {
    "papermill": {
     "duration": 0.027342,
     "end_time": "2023-04-21T13:38:34.322497",
     "exception": false,
     "start_time": "2023-04-21T13:38:34.295155",
     "status": "completed"
    },
    "tags": []
   },
   "outputs": [],
   "source": [
    "t = (1, 2, 3)"
   ]
  },
  {
   "cell_type": "code",
   "execution_count": 64,
   "id": "2bbee343",
   "metadata": {
    "papermill": {
     "duration": 0.029209,
     "end_time": "2023-04-21T13:38:34.369420",
     "exception": false,
     "start_time": "2023-04-21T13:38:34.340211",
     "status": "completed"
    },
    "tags": []
   },
   "outputs": [
    {
     "data": {
      "text/plain": [
       "(1, 2, 3)"
      ]
     },
     "execution_count": 64,
     "metadata": {},
     "output_type": "execute_result"
    }
   ],
   "source": [
    "t = 1, 2, 3 # equivalent to above\n",
    "t"
   ]
  },
  {
   "cell_type": "code",
   "execution_count": 65,
   "id": "dfa02288",
   "metadata": {
    "papermill": {
     "duration": 0.037147,
     "end_time": "2023-04-21T13:38:34.460284",
     "exception": false,
     "start_time": "2023-04-21T13:38:34.423137",
     "status": "completed"
    },
    "tags": [
     "raises-exception"
    ]
   },
   "outputs": [],
   "source": [
    "# Tuples değiştirilemez\n",
    "# t[0] = 100"
   ]
  },
  {
   "cell_type": "code",
   "execution_count": 66,
   "id": "7e7444c2",
   "metadata": {
    "papermill": {
     "duration": 0.029317,
     "end_time": "2023-04-21T13:38:34.546337",
     "exception": false,
     "start_time": "2023-04-21T13:38:34.517020",
     "status": "completed"
    },
    "tags": []
   },
   "outputs": [
    {
     "data": {
      "text/plain": [
       "(1, 8)"
      ]
     },
     "execution_count": 66,
     "metadata": {},
     "output_type": "execute_result"
    }
   ],
   "source": [
    "x = 0.125\n",
    "x.as_integer_ratio()"
   ]
  },
  {
   "cell_type": "code",
   "execution_count": 67,
   "id": "fb267973",
   "metadata": {
    "papermill": {
     "duration": 0.027875,
     "end_time": "2023-04-21T13:38:34.627322",
     "exception": false,
     "start_time": "2023-04-21T13:38:34.599447",
     "status": "completed"
    },
    "tags": []
   },
   "outputs": [
    {
     "name": "stdout",
     "output_type": "stream",
     "text": [
      "0.125\n"
     ]
    }
   ],
   "source": [
    "numerator, denominator = x.as_integer_ratio()\n",
    "print(numerator / denominator)"
   ]
  },
  {
   "cell_type": "code",
   "execution_count": 68,
   "id": "e6dd3d72",
   "metadata": {
    "papermill": {
     "duration": 0.029147,
     "end_time": "2023-04-21T13:38:34.712599",
     "exception": false,
     "start_time": "2023-04-21T13:38:34.683452",
     "status": "completed"
    },
    "tags": []
   },
   "outputs": [
    {
     "name": "stdout",
     "output_type": "stream",
     "text": [
      "0 1\n"
     ]
    }
   ],
   "source": [
    "a = 1\n",
    "b = 0\n",
    "a, b = b, a\n",
    "print(a, b)"
   ]
  },
  {
   "cell_type": "markdown",
   "id": "cf7c29e0",
   "metadata": {
    "papermill": {
     "duration": 0.018051,
     "end_time": "2023-04-21T13:38:34.785678",
     "exception": false,
     "start_time": "2023-04-21T13:38:34.767627",
     "status": "completed"
    },
    "tags": []
   },
   "source": [
    "---"
   ]
  },
  {
   "cell_type": "markdown",
   "id": "c12a21de",
   "metadata": {
    "papermill": {
     "duration": 0.007468,
     "end_time": "2023-04-21T13:38:20.036493",
     "exception": false,
     "start_time": "2023-04-21T13:38:20.029025",
     "status": "completed"
    },
    "tags": []
   },
   "source": [
    "# 5 Loops"
   ]
  },
  {
   "cell_type": "code",
   "execution_count": 69,
   "id": "ae076e95",
   "metadata": {
    "papermill": {
     "duration": 0.025629,
     "end_time": "2023-04-21T13:38:20.068822",
     "exception": false,
     "start_time": "2023-04-21T13:38:20.043193",
     "status": "completed"
    },
    "tags": []
   },
   "outputs": [
    {
     "name": "stdout",
     "output_type": "stream",
     "text": [
      "Mercury Venus Earth Mars Jupiter Saturn Uranus Neptune "
     ]
    }
   ],
   "source": [
    "planets = ['Mercury', 'Venus', 'Earth', 'Mars', 'Jupiter', 'Saturn', 'Uranus', 'Neptune']\n",
    "for planet in planets:\n",
    "    print(planet, end=' ') # print all on same line"
   ]
  },
  {
   "cell_type": "code",
   "execution_count": 70,
   "id": "a307842b",
   "metadata": {
    "papermill": {
     "duration": 0.018366,
     "end_time": "2023-04-21T13:38:20.106944",
     "exception": false,
     "start_time": "2023-04-21T13:38:20.088578",
     "status": "completed"
    },
    "tags": []
   },
   "outputs": [
    {
     "data": {
      "text/plain": [
       "360"
      ]
     },
     "execution_count": 70,
     "metadata": {},
     "output_type": "execute_result"
    }
   ],
   "source": [
    "# Tuple döngüye girebilir. \n",
    "multiplicands = (2, 2, 2, 3, 3, 5)\n",
    "product = 1\n",
    "for mult in multiplicands:\n",
    "    product = product * mult\n",
    "product"
   ]
  },
  {
   "cell_type": "code",
   "execution_count": 71,
   "id": "9cdd65b6",
   "metadata": {
    "papermill": {
     "duration": 0.017415,
     "end_time": "2023-04-21T13:38:20.143416",
     "exception": false,
     "start_time": "2023-04-21T13:38:20.126001",
     "status": "completed"
    },
    "tags": []
   },
   "outputs": [
    {
     "name": "stdout",
     "output_type": "stream",
     "text": [
      "HELLO"
     ]
    }
   ],
   "source": [
    "# Metin ile de döngü yapabiliriz\n",
    "s = 'steganograpHy is the practicE of conceaLing a file, message, image, or video within another fiLe, message, image, Or video.'\n",
    "msg = ''\n",
    "# print all the uppercase letters in s, one at a time\n",
    "for char in s:\n",
    "    if char.isupper():\n",
    "        print(char, end='')        "
   ]
  },
  {
   "cell_type": "markdown",
   "id": "e3601bc4",
   "metadata": {
    "papermill": {
     "duration": 0.006196,
     "end_time": "2023-04-21T13:38:20.156194",
     "exception": false,
     "start_time": "2023-04-21T13:38:20.149998",
     "status": "completed"
    },
    "tags": []
   },
   "source": [
    "### range()"
   ]
  },
  {
   "cell_type": "code",
   "execution_count": 72,
   "id": "0e03d5c0",
   "metadata": {
    "papermill": {
     "duration": 0.016378,
     "end_time": "2023-04-21T13:38:20.179099",
     "exception": false,
     "start_time": "2023-04-21T13:38:20.162721",
     "status": "completed"
    },
    "tags": []
   },
   "outputs": [
    {
     "name": "stdout",
     "output_type": "stream",
     "text": [
      "Doing important work. i = 0\n",
      "Doing important work. i = 1\n",
      "Doing important work. i = 2\n",
      "Doing important work. i = 3\n",
      "Doing important work. i = 4\n"
     ]
    }
   ],
   "source": [
    "for i in range(5):\n",
    "    print(\"Doing important work. i =\", i)"
   ]
  },
  {
   "cell_type": "markdown",
   "id": "aa4753e3",
   "metadata": {
    "papermill": {
     "duration": 0.006429,
     "end_time": "2023-04-21T13:38:20.192185",
     "exception": false,
     "start_time": "2023-04-21T13:38:20.185756",
     "status": "completed"
    },
    "tags": []
   },
   "source": [
    "## ``while`` loops"
   ]
  },
  {
   "cell_type": "code",
   "execution_count": 73,
   "id": "b4a5a663",
   "metadata": {
    "papermill": {
     "duration": 0.016774,
     "end_time": "2023-04-21T13:38:20.215591",
     "exception": false,
     "start_time": "2023-04-21T13:38:20.198817",
     "status": "completed"
    },
    "tags": []
   },
   "outputs": [
    {
     "name": "stdout",
     "output_type": "stream",
     "text": [
      "0 1 2 3 4 5 6 7 8 9 "
     ]
    }
   ],
   "source": [
    "i = 0\n",
    "while i < 10:\n",
    "    print(i, end=' ')\n",
    "    i += 1 # increase the value of i by 1"
   ]
  },
  {
   "cell_type": "markdown",
   "id": "eb3b6e84",
   "metadata": {
    "papermill": {
     "duration": 0.006399,
     "end_time": "2023-04-21T13:38:20.243280",
     "exception": false,
     "start_time": "2023-04-21T13:38:20.236881",
     "status": "completed"
    },
    "tags": []
   },
   "source": [
    "## List comprehensions"
   ]
  },
  {
   "cell_type": "code",
   "execution_count": 74,
   "id": "868b05e8",
   "metadata": {
    "papermill": {
     "duration": 0.017482,
     "end_time": "2023-04-21T13:38:20.267583",
     "exception": false,
     "start_time": "2023-04-21T13:38:20.250101",
     "status": "completed"
    },
    "tags": []
   },
   "outputs": [
    {
     "data": {
      "text/plain": [
       "[0, 1, 4, 9, 16, 25, 36, 49, 64, 81]"
      ]
     },
     "execution_count": 74,
     "metadata": {},
     "output_type": "execute_result"
    }
   ],
   "source": [
    "squares = [n**2 for n in range(10)]\n",
    "squares"
   ]
  },
  {
   "cell_type": "code",
   "execution_count": 75,
   "id": "5e7ee154",
   "metadata": {
    "papermill": {
     "duration": 0.018783,
     "end_time": "2023-04-21T13:38:20.307575",
     "exception": false,
     "start_time": "2023-04-21T13:38:20.288792",
     "status": "completed"
    },
    "tags": []
   },
   "outputs": [
    {
     "data": {
      "text/plain": [
       "[0, 1, 4, 9, 16, 25, 36, 49, 64, 81]"
      ]
     },
     "execution_count": 75,
     "metadata": {},
     "output_type": "execute_result"
    }
   ],
   "source": [
    "# List comprehensions olmadan\n",
    "squares = []\n",
    "for n in range(10):\n",
    "    squares.append(n**2)\n",
    "squares"
   ]
  },
  {
   "cell_type": "code",
   "execution_count": 76,
   "id": "fd1a5474",
   "metadata": {
    "papermill": {
     "duration": 0.019176,
     "end_time": "2023-04-21T13:38:20.347951",
     "exception": false,
     "start_time": "2023-04-21T13:38:20.328775",
     "status": "completed"
    },
    "tags": []
   },
   "outputs": [
    {
     "data": {
      "text/plain": [
       "['Venus', 'Earth', 'Mars']"
      ]
     },
     "execution_count": 76,
     "metadata": {},
     "output_type": "execute_result"
    }
   ],
   "source": [
    "short_planets = [planet for planet in planets if len(planet) < 6]\n",
    "short_planets"
   ]
  },
  {
   "cell_type": "code",
   "execution_count": 77,
   "id": "ee9e3e63",
   "metadata": {
    "papermill": {
     "duration": 0.019257,
     "end_time": "2023-04-21T13:38:20.389212",
     "exception": false,
     "start_time": "2023-04-21T13:38:20.369955",
     "status": "completed"
    },
    "tags": []
   },
   "outputs": [
    {
     "data": {
      "text/plain": [
       "['VENUS!', 'EARTH!', 'MARS!']"
      ]
     },
     "execution_count": 77,
     "metadata": {},
     "output_type": "execute_result"
    }
   ],
   "source": [
    "# str.upper() returns an all-caps version of a string\n",
    "loud_short_planets = [planet.upper() + '!' for planet in planets if len(planet) < 6]\n",
    "loud_short_planets"
   ]
  },
  {
   "cell_type": "code",
   "execution_count": 78,
   "id": "5bc00919",
   "metadata": {
    "papermill": {
     "duration": 0.018227,
     "end_time": "2023-04-21T13:38:20.429381",
     "exception": false,
     "start_time": "2023-04-21T13:38:20.411154",
     "status": "completed"
    },
    "tags": []
   },
   "outputs": [
    {
     "data": {
      "text/plain": [
       "['VENUS!', 'EARTH!', 'MARS!']"
      ]
     },
     "execution_count": 78,
     "metadata": {},
     "output_type": "execute_result"
    }
   ],
   "source": [
    "[\n",
    "    planet.upper() + '!' \n",
    "    for planet in planets \n",
    "    if len(planet) < 6\n",
    "]"
   ]
  },
  {
   "cell_type": "code",
   "execution_count": 79,
   "id": "8824ec46",
   "metadata": {
    "_kg_hide-output": true,
    "papermill": {
     "duration": 0.01847,
     "end_time": "2023-04-21T13:38:20.470389",
     "exception": false,
     "start_time": "2023-04-21T13:38:20.451919",
     "status": "completed"
    },
    "tags": []
   },
   "outputs": [
    {
     "data": {
      "text/plain": [
       "[32, 32, 32, 32, 32, 32, 32, 32]"
      ]
     },
     "execution_count": 79,
     "metadata": {},
     "output_type": "execute_result"
    }
   ],
   "source": [
    "[32 for planet in planets]"
   ]
  },
  {
   "cell_type": "code",
   "execution_count": 80,
   "id": "e3ef27d5",
   "metadata": {
    "papermill": {
     "duration": 0.017423,
     "end_time": "2023-04-21T13:38:20.511067",
     "exception": false,
     "start_time": "2023-04-21T13:38:20.493644",
     "status": "completed"
    },
    "tags": []
   },
   "outputs": [],
   "source": [
    "def count_negatives(nums):\n",
    "    \"\"\"Return the number of negative numbers in the given list.\n",
    "    \n",
    "    >>> count_negatives([5, -1, -2, 0, 3])\n",
    "    2\n",
    "    \"\"\"\n",
    "    n_negative = 0\n",
    "    for num in nums:\n",
    "        if num < 0:\n",
    "            n_negative = n_negative + 1\n",
    "    return n_negative"
   ]
  },
  {
   "cell_type": "code",
   "execution_count": 81,
   "id": "1e411003",
   "metadata": {
    "papermill": {
     "duration": 0.01778,
     "end_time": "2023-04-21T13:38:20.552724",
     "exception": false,
     "start_time": "2023-04-21T13:38:20.534944",
     "status": "completed"
    },
    "tags": []
   },
   "outputs": [],
   "source": [
    "# List comprehensions kullanarak\n",
    "def count_negatives(nums):\n",
    "    return len([num for num in nums if num < 0])"
   ]
  },
  {
   "cell_type": "code",
   "execution_count": 82,
   "id": "2967c28b",
   "metadata": {
    "papermill": {
     "duration": 0.017027,
     "end_time": "2023-04-21T13:38:20.592936",
     "exception": false,
     "start_time": "2023-04-21T13:38:20.575909",
     "status": "completed"
    },
    "tags": []
   },
   "outputs": [],
   "source": [
    "def count_negatives(nums):\n",
    "    # Reminder: in the \"booleans and conditionals\" exercises, we learned about a quirk of \n",
    "    # Python where it calculates something like True + True + False + True to be equal to 3.\n",
    "    return sum([num < 0 for num in nums])"
   ]
  },
  {
   "cell_type": "markdown",
   "id": "a4280236",
   "metadata": {
    "papermill": {
     "duration": 0.007488,
     "end_time": "2023-04-21T13:38:20.639386",
     "exception": false,
     "start_time": "2023-04-21T13:38:20.631898",
     "status": "completed"
    },
    "tags": []
   },
   "source": [
    "---"
   ]
  },
  {
   "cell_type": "markdown",
   "id": "d17e20f9",
   "metadata": {
    "papermill": {
     "duration": 0.013221,
     "end_time": "2023-04-21T13:38:06.705699",
     "exception": false,
     "start_time": "2023-04-21T13:38:06.692478",
     "status": "completed"
    },
    "tags": []
   },
   "source": [
    "# 06 Strings and Dictionaries"
   ]
  },
  {
   "cell_type": "markdown",
   "id": "878d5ad2",
   "metadata": {
    "papermill": {
     "duration": 0.012358,
     "end_time": "2023-04-21T13:38:06.729906",
     "exception": false,
     "start_time": "2023-04-21T13:38:06.717548",
     "status": "completed"
    },
    "tags": []
   },
   "source": [
    "## Strings"
   ]
  },
  {
   "cell_type": "code",
   "execution_count": 83,
   "id": "f403dbbc",
   "metadata": {
    "papermill": {
     "duration": 0.040443,
     "end_time": "2023-04-21T13:38:06.817310",
     "exception": false,
     "start_time": "2023-04-21T13:38:06.776867",
     "status": "completed"
    },
    "tags": []
   },
   "outputs": [
    {
     "data": {
      "text/plain": [
       "True"
      ]
     },
     "execution_count": 83,
     "metadata": {},
     "output_type": "execute_result"
    }
   ],
   "source": [
    "x = 'Pluto is a planet'\n",
    "y = \"Pluto is a planet\"\n",
    "x == y"
   ]
  },
  {
   "cell_type": "code",
   "execution_count": 84,
   "id": "0b903411",
   "metadata": {
    "papermill": {
     "duration": 0.025487,
     "end_time": "2023-04-21T13:38:06.879493",
     "exception": false,
     "start_time": "2023-04-21T13:38:06.854006",
     "status": "completed"
    },
    "tags": []
   },
   "outputs": [
    {
     "name": "stdout",
     "output_type": "stream",
     "text": [
      "Pluto's a planet!\n",
      "My dog is named \"Pluto\"\n"
     ]
    }
   ],
   "source": [
    "print(\"Pluto's a planet!\")\n",
    "print('My dog is named \"Pluto\"')"
   ]
  },
  {
   "cell_type": "code",
   "execution_count": 85,
   "id": "4783cee4",
   "metadata": {
    "papermill": {
     "duration": 0.024853,
     "end_time": "2023-04-21T13:38:06.942104",
     "exception": false,
     "start_time": "2023-04-21T13:38:06.917251",
     "status": "completed"
    },
    "tags": [
     "raises-exception"
    ]
   },
   "outputs": [],
   "source": [
    "# Hata verir çünkü 3 tane ' işareti var\n",
    "# 'Pluto's a planet!'"
   ]
  },
  {
   "cell_type": "code",
   "execution_count": 86,
   "id": "096644be",
   "metadata": {
    "papermill": {
     "duration": 0.027892,
     "end_time": "2023-04-21T13:38:07.007915",
     "exception": false,
     "start_time": "2023-04-21T13:38:06.980023",
     "status": "completed"
    },
    "tags": []
   },
   "outputs": [
    {
     "data": {
      "text/plain": [
       "\"Pluto's a planet!\""
      ]
     },
     "execution_count": 86,
     "metadata": {},
     "output_type": "execute_result"
    }
   ],
   "source": [
    "# Kaçış karakteriyle çözebiliriz\n",
    "'Pluto\\'s a planet!'"
   ]
  },
  {
   "cell_type": "markdown",
   "id": "a876deea",
   "metadata": {
    "papermill": {
     "duration": 0.012455,
     "end_time": "2023-04-21T13:38:07.040745",
     "exception": false,
     "start_time": "2023-04-21T13:38:07.028290",
     "status": "completed"
    },
    "tags": []
   },
   "source": [
    "| What you type...         | What you get        | example       | `print(example)`     |\n",
    "|------------|----------------|------------|---|\n",
    "| `\\'`         | `'`            | `'What\\'s up?'`         | `What's up?`                 |  \n",
    "| `\\\"`         | `\"`            | `\"That's \\\"cool\\\"\"`     | `That's \"cool\"`              |  \n",
    "| `\\\\`         | `\\`            |  `\"Look, a mountain: /\\\\\"` |  `Look, a mountain: /\\`  |\n",
    "| `\\n`        |   <br/>      |   `\"1\\n2 3\"`                       |   `1`<br/>`2 3`              |"
   ]
  },
  {
   "cell_type": "code",
   "execution_count": 87,
   "id": "a7365b79",
   "metadata": {
    "papermill": {
     "duration": 0.023213,
     "end_time": "2023-04-21T13:38:07.101524",
     "exception": false,
     "start_time": "2023-04-21T13:38:07.078311",
     "status": "completed"
    },
    "tags": []
   },
   "outputs": [
    {
     "name": "stdout",
     "output_type": "stream",
     "text": [
      "hello\n",
      "world\n"
     ]
    }
   ],
   "source": [
    "hello = \"hello\\nworld\"\n",
    "print(hello)"
   ]
  },
  {
   "cell_type": "code",
   "execution_count": 88,
   "id": "b9272225",
   "metadata": {
    "papermill": {
     "duration": 0.031972,
     "end_time": "2023-04-21T13:38:07.174048",
     "exception": false,
     "start_time": "2023-04-21T13:38:07.142076",
     "status": "completed"
    },
    "tags": []
   },
   "outputs": [
    {
     "name": "stdout",
     "output_type": "stream",
     "text": [
      "hello\n",
      "world\n"
     ]
    },
    {
     "data": {
      "text/plain": [
       "True"
      ]
     },
     "execution_count": 88,
     "metadata": {},
     "output_type": "execute_result"
    }
   ],
   "source": [
    "triplequoted_hello = \"\"\"hello\n",
    "world\"\"\"\n",
    "print(triplequoted_hello)\n",
    "triplequoted_hello == hello"
   ]
  },
  {
   "cell_type": "code",
   "execution_count": 89,
   "id": "dca5f6e6",
   "metadata": {
    "papermill": {
     "duration": 0.024321,
     "end_time": "2023-04-21T13:38:07.251659",
     "exception": false,
     "start_time": "2023-04-21T13:38:07.227338",
     "status": "completed"
    },
    "tags": []
   },
   "outputs": [
    {
     "name": "stdout",
     "output_type": "stream",
     "text": [
      "hello\n",
      "world\n",
      "hellopluto"
     ]
    }
   ],
   "source": [
    "print(\"hello\")\n",
    "print(\"world\")\n",
    "print(\"hello\", end='')\n",
    "print(\"pluto\", end='')"
   ]
  },
  {
   "cell_type": "markdown",
   "id": "57126e96",
   "metadata": {
    "papermill": {
     "duration": 0.012576,
     "end_time": "2023-04-21T13:38:07.277506",
     "exception": false,
     "start_time": "2023-04-21T13:38:07.264930",
     "status": "completed"
    },
    "tags": []
   },
   "source": [
    "## Strings are sequences"
   ]
  },
  {
   "cell_type": "code",
   "execution_count": 90,
   "id": "a6502d4e",
   "metadata": {
    "papermill": {
     "duration": 0.025697,
     "end_time": "2023-04-21T13:38:07.316166",
     "exception": false,
     "start_time": "2023-04-21T13:38:07.290469",
     "status": "completed"
    },
    "tags": []
   },
   "outputs": [
    {
     "data": {
      "text/plain": [
       "'P'"
      ]
     },
     "execution_count": 90,
     "metadata": {},
     "output_type": "execute_result"
    }
   ],
   "source": [
    "# Indexing\n",
    "planet = 'Pluto'\n",
    "planet[0]"
   ]
  },
  {
   "cell_type": "code",
   "execution_count": 91,
   "id": "70d51a2d",
   "metadata": {
    "papermill": {
     "duration": 0.025813,
     "end_time": "2023-04-21T13:38:07.355296",
     "exception": false,
     "start_time": "2023-04-21T13:38:07.329483",
     "status": "completed"
    },
    "tags": []
   },
   "outputs": [
    {
     "data": {
      "text/plain": [
       "'uto'"
      ]
     },
     "execution_count": 91,
     "metadata": {},
     "output_type": "execute_result"
    }
   ],
   "source": [
    "# Slicing\n",
    "planet[-3:]"
   ]
  },
  {
   "cell_type": "code",
   "execution_count": 92,
   "id": "b731ebf7",
   "metadata": {
    "papermill": {
     "duration": 0.025153,
     "end_time": "2023-04-21T13:38:07.394081",
     "exception": false,
     "start_time": "2023-04-21T13:38:07.368928",
     "status": "completed"
    },
    "tags": []
   },
   "outputs": [
    {
     "data": {
      "text/plain": [
       "5"
      ]
     },
     "execution_count": 92,
     "metadata": {},
     "output_type": "execute_result"
    }
   ],
   "source": [
    "# How long is this string?\n",
    "len(planet)"
   ]
  },
  {
   "cell_type": "code",
   "execution_count": 93,
   "id": "3c6fd7f0",
   "metadata": {
    "papermill": {
     "duration": 0.026145,
     "end_time": "2023-04-21T13:38:07.433468",
     "exception": false,
     "start_time": "2023-04-21T13:38:07.407323",
     "status": "completed"
    },
    "tags": []
   },
   "outputs": [
    {
     "data": {
      "text/plain": [
       "['P! ', 'l! ', 'u! ', 't! ', 'o! ']"
      ]
     },
     "execution_count": 93,
     "metadata": {},
     "output_type": "execute_result"
    }
   ],
   "source": [
    "# Yes, we can even loop over them\n",
    "[char+'! ' for char in planet]"
   ]
  },
  {
   "cell_type": "code",
   "execution_count": 94,
   "id": "968de854",
   "metadata": {
    "papermill": {
     "duration": 0.086305,
     "end_time": "2023-04-21T13:38:07.560591",
     "exception": false,
     "start_time": "2023-04-21T13:38:07.474286",
     "status": "completed"
    },
    "tags": [
     "raises-exception"
    ]
   },
   "outputs": [],
   "source": [
    "# Ekleme ve değiştirme yapamayız. \n",
    "# planet[0] = 'B'\n",
    "# planet.append doesn't work either"
   ]
  },
  {
   "cell_type": "markdown",
   "id": "c7b63f2d",
   "metadata": {
    "papermill": {
     "duration": 0.013265,
     "end_time": "2023-04-21T13:38:07.587538",
     "exception": false,
     "start_time": "2023-04-21T13:38:07.574273",
     "status": "completed"
    },
    "tags": []
   },
   "source": [
    "## String methods"
   ]
  },
  {
   "cell_type": "code",
   "execution_count": 95,
   "id": "9fe3dcdd",
   "metadata": {
    "papermill": {
     "duration": 0.025651,
     "end_time": "2023-04-21T13:38:07.627334",
     "exception": false,
     "start_time": "2023-04-21T13:38:07.601683",
     "status": "completed"
    },
    "tags": []
   },
   "outputs": [
    {
     "data": {
      "text/plain": [
       "'PLUTO IS A PLANET!'"
      ]
     },
     "execution_count": 95,
     "metadata": {},
     "output_type": "execute_result"
    }
   ],
   "source": [
    "# ALL CAPS\n",
    "claim = \"Pluto is a planet!\"\n",
    "claim.upper()"
   ]
  },
  {
   "cell_type": "code",
   "execution_count": 96,
   "id": "1488e08f",
   "metadata": {
    "papermill": {
     "duration": 0.024863,
     "end_time": "2023-04-21T13:38:07.666009",
     "exception": false,
     "start_time": "2023-04-21T13:38:07.641146",
     "status": "completed"
    },
    "tags": []
   },
   "outputs": [
    {
     "data": {
      "text/plain": [
       "'pluto is a planet!'"
      ]
     },
     "execution_count": 96,
     "metadata": {},
     "output_type": "execute_result"
    }
   ],
   "source": [
    "# all lowercase\n",
    "claim.lower()"
   ]
  },
  {
   "cell_type": "code",
   "execution_count": 97,
   "id": "94346194",
   "metadata": {
    "papermill": {
     "duration": 0.027107,
     "end_time": "2023-04-21T13:38:07.707244",
     "exception": false,
     "start_time": "2023-04-21T13:38:07.680137",
     "status": "completed"
    },
    "tags": []
   },
   "outputs": [
    {
     "data": {
      "text/plain": [
       "11"
      ]
     },
     "execution_count": 97,
     "metadata": {},
     "output_type": "execute_result"
    }
   ],
   "source": [
    "# Searching for the first index of a substring\n",
    "claim.index('plan')"
   ]
  },
  {
   "cell_type": "code",
   "execution_count": 98,
   "id": "ef33a0ce",
   "metadata": {
    "papermill": {
     "duration": 0.024361,
     "end_time": "2023-04-21T13:38:07.749432",
     "exception": false,
     "start_time": "2023-04-21T13:38:07.725071",
     "status": "completed"
    },
    "tags": []
   },
   "outputs": [
    {
     "data": {
      "text/plain": [
       "True"
      ]
     },
     "execution_count": 98,
     "metadata": {},
     "output_type": "execute_result"
    }
   ],
   "source": [
    "claim.startswith(planet)"
   ]
  },
  {
   "cell_type": "code",
   "execution_count": 99,
   "id": "28560f85",
   "metadata": {
    "papermill": {
     "duration": 0.025134,
     "end_time": "2023-04-21T13:38:07.789516",
     "exception": false,
     "start_time": "2023-04-21T13:38:07.764382",
     "status": "completed"
    },
    "tags": []
   },
   "outputs": [
    {
     "data": {
      "text/plain": [
       "False"
      ]
     },
     "execution_count": 99,
     "metadata": {},
     "output_type": "execute_result"
    }
   ],
   "source": [
    "# false because of missing exclamation mark\n",
    "claim.endswith('planet')"
   ]
  },
  {
   "cell_type": "markdown",
   "id": "73420430",
   "metadata": {
    "papermill": {
     "duration": 0.014422,
     "end_time": "2023-04-21T13:38:07.818533",
     "exception": false,
     "start_time": "2023-04-21T13:38:07.804111",
     "status": "completed"
    },
    "tags": []
   },
   "source": [
    "### Going between strings and lists: `.split()` and `.join()`"
   ]
  },
  {
   "cell_type": "code",
   "execution_count": 100,
   "id": "01265e34",
   "metadata": {
    "papermill": {
     "duration": 0.024734,
     "end_time": "2023-04-21T13:38:07.858514",
     "exception": false,
     "start_time": "2023-04-21T13:38:07.833780",
     "status": "completed"
    },
    "tags": []
   },
   "outputs": [
    {
     "data": {
      "text/plain": [
       "['Pluto', 'is', 'a', 'planet!']"
      ]
     },
     "execution_count": 100,
     "metadata": {},
     "output_type": "execute_result"
    }
   ],
   "source": [
    "words = claim.split()\n",
    "words"
   ]
  },
  {
   "cell_type": "code",
   "execution_count": 101,
   "id": "a2027344",
   "metadata": {
    "papermill": {
     "duration": 0.024343,
     "end_time": "2023-04-21T13:38:07.927240",
     "exception": false,
     "start_time": "2023-04-21T13:38:07.902897",
     "status": "completed"
    },
    "tags": []
   },
   "outputs": [],
   "source": [
    "# - ye göre ayır\n",
    "datestr = '1956-01-31'\n",
    "year, month, day = datestr.split('-')"
   ]
  },
  {
   "cell_type": "code",
   "execution_count": 102,
   "id": "036086df",
   "metadata": {
    "papermill": {
     "duration": 0.026513,
     "end_time": "2023-04-21T13:38:07.998560",
     "exception": false,
     "start_time": "2023-04-21T13:38:07.972047",
     "status": "completed"
    },
    "tags": []
   },
   "outputs": [
    {
     "data": {
      "text/plain": [
       "'01/31/1956'"
      ]
     },
     "execution_count": 102,
     "metadata": {},
     "output_type": "execute_result"
    }
   ],
   "source": [
    "# / ile birleştir\n",
    "'/'.join([month, day, year])"
   ]
  },
  {
   "cell_type": "code",
   "execution_count": 103,
   "id": "fb0df3f0",
   "metadata": {
    "papermill": {
     "duration": 0.026467,
     "end_time": "2023-04-21T13:38:08.039799",
     "exception": false,
     "start_time": "2023-04-21T13:38:08.013332",
     "status": "completed"
    },
    "tags": []
   },
   "outputs": [
    {
     "data": {
      "text/plain": [
       "'PLUTO 👏 IS 👏 A 👏 PLANET!'"
      ]
     },
     "execution_count": 103,
     "metadata": {},
     "output_type": "execute_result"
    }
   ],
   "source": [
    "# Yes, we can put unicode characters right in our string literals :)\n",
    "' 👏 '.join([word.upper() for word in words])"
   ]
  },
  {
   "cell_type": "markdown",
   "id": "4beeb634",
   "metadata": {
    "papermill": {
     "duration": 0.014597,
     "end_time": "2023-04-21T13:38:08.069458",
     "exception": false,
     "start_time": "2023-04-21T13:38:08.054861",
     "status": "completed"
    },
    "tags": []
   },
   "source": [
    "### Building strings with `.format()`"
   ]
  },
  {
   "cell_type": "code",
   "execution_count": 104,
   "id": "d041e5ef",
   "metadata": {
    "papermill": {
     "duration": 0.02524,
     "end_time": "2023-04-21T13:38:08.109667",
     "exception": false,
     "start_time": "2023-04-21T13:38:08.084427",
     "status": "completed"
    },
    "tags": []
   },
   "outputs": [
    {
     "data": {
      "text/plain": [
       "'Pluto, we miss you.'"
      ]
     },
     "execution_count": 104,
     "metadata": {},
     "output_type": "execute_result"
    }
   ],
   "source": [
    "planet + ', we miss you.'"
   ]
  },
  {
   "cell_type": "code",
   "execution_count": 105,
   "id": "90a89802",
   "metadata": {
    "papermill": {
     "duration": 0.035268,
     "end_time": "2023-04-21T13:38:08.190712",
     "exception": false,
     "start_time": "2023-04-21T13:38:08.155444",
     "status": "completed"
    },
    "tags": [
     "raises-exception"
    ]
   },
   "outputs": [],
   "source": [
    "# int ile str birleşemez\n",
    "position = 9\n",
    "# planet + \", you'll always be the \" + position + \"th planet to me.\""
   ]
  },
  {
   "cell_type": "code",
   "execution_count": 106,
   "id": "360f41bc",
   "metadata": {
    "papermill": {
     "duration": 0.026825,
     "end_time": "2023-04-21T13:38:08.233092",
     "exception": false,
     "start_time": "2023-04-21T13:38:08.206267",
     "status": "completed"
    },
    "tags": []
   },
   "outputs": [
    {
     "data": {
      "text/plain": [
       "\"Pluto, you'll always be the 9th planet to me.\""
      ]
     },
     "execution_count": 106,
     "metadata": {},
     "output_type": "execute_result"
    }
   ],
   "source": [
    "# int str'ye çevrilerek kullanılabilir\n",
    "planet + \", you'll always be the \" + str(position) + \"th planet to me.\""
   ]
  },
  {
   "cell_type": "code",
   "execution_count": 107,
   "id": "64735ea3",
   "metadata": {
    "papermill": {
     "duration": 0.025884,
     "end_time": "2023-04-21T13:38:08.305593",
     "exception": false,
     "start_time": "2023-04-21T13:38:08.279709",
     "status": "completed"
    },
    "tags": []
   },
   "outputs": [
    {
     "data": {
      "text/plain": [
       "\"Pluto, you'll always be the 9th planet to me.\""
      ]
     },
     "execution_count": 107,
     "metadata": {},
     "output_type": "execute_result"
    }
   ],
   "source": [
    "# Format kullanarak daha fonksiyonel birleştirilebilir. \n",
    "\"{}, you'll always be the {}th planet to me.\".format(planet, position)"
   ]
  },
  {
   "cell_type": "code",
   "execution_count": 108,
   "id": "1d1d2467",
   "metadata": {
    "papermill": {
     "duration": 0.026994,
     "end_time": "2023-04-21T13:38:08.378839",
     "exception": false,
     "start_time": "2023-04-21T13:38:08.351845",
     "status": "completed"
    },
    "tags": []
   },
   "outputs": [
    {
     "data": {
      "text/plain": [
       "\"Pluto weighs about 1.3e+22 kilograms (0.218% of Earth's mass). It is home to 52,910,390 Plutonians.\""
      ]
     },
     "execution_count": 108,
     "metadata": {},
     "output_type": "execute_result"
    }
   ],
   "source": [
    "# format kullanımında yüzdelik, bindelik gibi küsuratı ayarlayabiliriz\n",
    "pluto_mass = 1.303 * 10**22\n",
    "earth_mass = 5.9722 * 10**24\n",
    "population = 52910390\n",
    "#         2 decimal points   3 decimal points, format as percent     separate with commas\n",
    "\"{} weighs about {:.2} kilograms ({:.3%} of Earth's mass). It is home to {:,} Plutonians.\".format(\n",
    "    planet, pluto_mass, pluto_mass / earth_mass, population,\n",
    ")"
   ]
  },
  {
   "cell_type": "code",
   "execution_count": 109,
   "id": "d6e459b9",
   "metadata": {
    "papermill": {
     "duration": 0.02575,
     "end_time": "2023-04-21T13:38:08.420513",
     "exception": false,
     "start_time": "2023-04-21T13:38:08.394763",
     "status": "completed"
    },
    "tags": []
   },
   "outputs": [
    {
     "name": "stdout",
     "output_type": "stream",
     "text": [
      "Pluto's a planet.\n",
      "No, it's a dwarf planet.\n",
      "planet!\n",
      "dwarf planet!\n"
     ]
    }
   ],
   "source": [
    "# Referring to format() arguments by index, starting from 0\n",
    "s = \"\"\"Pluto's a {0}.\n",
    "No, it's a {1}.\n",
    "{0}!\n",
    "{1}!\"\"\".format('planet', 'dwarf planet')\n",
    "print(s)"
   ]
  },
  {
   "cell_type": "markdown",
   "id": "a608e937",
   "metadata": {
    "papermill": {
     "duration": 0.017304,
     "end_time": "2023-04-21T13:38:08.485642",
     "exception": false,
     "start_time": "2023-04-21T13:38:08.468338",
     "status": "completed"
    },
    "tags": []
   },
   "source": [
    "# Dictionaries"
   ]
  },
  {
   "cell_type": "code",
   "execution_count": 110,
   "id": "cbfe9c8c",
   "metadata": {
    "papermill": {
     "duration": 0.024689,
     "end_time": "2023-04-21T13:38:08.526587",
     "exception": false,
     "start_time": "2023-04-21T13:38:08.501898",
     "status": "completed"
    },
    "tags": []
   },
   "outputs": [],
   "source": [
    "numbers = {'one':1, 'two':2, 'three':3}"
   ]
  },
  {
   "cell_type": "code",
   "execution_count": 111,
   "id": "6c3d4753",
   "metadata": {
    "papermill": {
     "duration": 0.027101,
     "end_time": "2023-04-21T13:38:08.601869",
     "exception": false,
     "start_time": "2023-04-21T13:38:08.574768",
     "status": "completed"
    },
    "tags": []
   },
   "outputs": [
    {
     "data": {
      "text/plain": [
       "1"
      ]
     },
     "execution_count": 111,
     "metadata": {},
     "output_type": "execute_result"
    }
   ],
   "source": [
    "numbers['one']"
   ]
  },
  {
   "cell_type": "code",
   "execution_count": 112,
   "id": "56a37db7",
   "metadata": {
    "papermill": {
     "duration": 0.027713,
     "end_time": "2023-04-21T13:38:08.677815",
     "exception": false,
     "start_time": "2023-04-21T13:38:08.650102",
     "status": "completed"
    },
    "tags": []
   },
   "outputs": [
    {
     "data": {
      "text/plain": [
       "{'one': 1, 'two': 2, 'three': 3, 'eleven': 11}"
      ]
     },
     "execution_count": 112,
     "metadata": {},
     "output_type": "execute_result"
    }
   ],
   "source": [
    "numbers['eleven'] = 11\n",
    "numbers"
   ]
  },
  {
   "cell_type": "code",
   "execution_count": 113,
   "id": "d079e0fc",
   "metadata": {
    "papermill": {
     "duration": 0.027356,
     "end_time": "2023-04-21T13:38:08.754522",
     "exception": false,
     "start_time": "2023-04-21T13:38:08.727166",
     "status": "completed"
    },
    "tags": []
   },
   "outputs": [
    {
     "data": {
      "text/plain": [
       "{'one': 'Pluto', 'two': 2, 'three': 3, 'eleven': 11}"
      ]
     },
     "execution_count": 113,
     "metadata": {},
     "output_type": "execute_result"
    }
   ],
   "source": [
    "numbers['one'] = 'Pluto'\n",
    "numbers"
   ]
  },
  {
   "cell_type": "code",
   "execution_count": 114,
   "id": "18b00077",
   "metadata": {
    "papermill": {
     "duration": 0.02724,
     "end_time": "2023-04-21T13:38:08.831624",
     "exception": false,
     "start_time": "2023-04-21T13:38:08.804384",
     "status": "completed"
    },
    "tags": []
   },
   "outputs": [
    {
     "data": {
      "text/plain": [
       "{'Mercury': 'M',\n",
       " 'Venus': 'V',\n",
       " 'Earth': 'E',\n",
       " 'Mars': 'M',\n",
       " 'Jupiter': 'J',\n",
       " 'Saturn': 'S',\n",
       " 'Uranus': 'U',\n",
       " 'Neptune': 'N'}"
      ]
     },
     "execution_count": 114,
     "metadata": {},
     "output_type": "execute_result"
    }
   ],
   "source": [
    "planets = ['Mercury', 'Venus', 'Earth', 'Mars', 'Jupiter', 'Saturn', 'Uranus', 'Neptune']\n",
    "planet_to_initial = {planet: planet[0] for planet in planets}\n",
    "planet_to_initial"
   ]
  },
  {
   "cell_type": "code",
   "execution_count": 115,
   "id": "db386788",
   "metadata": {
    "papermill": {
     "duration": 0.026272,
     "end_time": "2023-04-21T13:38:08.906851",
     "exception": false,
     "start_time": "2023-04-21T13:38:08.880579",
     "status": "completed"
    },
    "tags": []
   },
   "outputs": [
    {
     "data": {
      "text/plain": [
       "True"
      ]
     },
     "execution_count": 115,
     "metadata": {},
     "output_type": "execute_result"
    }
   ],
   "source": [
    "'Saturn' in planet_to_initial"
   ]
  },
  {
   "cell_type": "code",
   "execution_count": 116,
   "id": "938be6cd",
   "metadata": {
    "papermill": {
     "duration": 0.028541,
     "end_time": "2023-04-21T13:38:08.952435",
     "exception": false,
     "start_time": "2023-04-21T13:38:08.923894",
     "status": "completed"
    },
    "tags": []
   },
   "outputs": [
    {
     "data": {
      "text/plain": [
       "False"
      ]
     },
     "execution_count": 116,
     "metadata": {},
     "output_type": "execute_result"
    }
   ],
   "source": [
    "'Betelgeuse' in planet_to_initial"
   ]
  },
  {
   "cell_type": "code",
   "execution_count": 117,
   "id": "6c850eaf",
   "metadata": {
    "papermill": {
     "duration": 0.026799,
     "end_time": "2023-04-21T13:38:09.030757",
     "exception": false,
     "start_time": "2023-04-21T13:38:09.003958",
     "status": "completed"
    },
    "tags": []
   },
   "outputs": [
    {
     "name": "stdout",
     "output_type": "stream",
     "text": [
      "one = Pluto\n",
      "two = 2\n",
      "three = 3\n",
      "eleven = 11\n"
     ]
    }
   ],
   "source": [
    "for k in numbers:\n",
    "    print(\"{} = {}\".format(k, numbers[k]))"
   ]
  },
  {
   "cell_type": "code",
   "execution_count": 118,
   "id": "c40739fc",
   "metadata": {
    "papermill": {
     "duration": 0.029851,
     "end_time": "2023-04-21T13:38:09.112241",
     "exception": false,
     "start_time": "2023-04-21T13:38:09.082390",
     "status": "completed"
    },
    "tags": []
   },
   "outputs": [
    {
     "data": {
      "text/plain": [
       "'E J M M N S U V'"
      ]
     },
     "execution_count": 118,
     "metadata": {},
     "output_type": "execute_result"
    }
   ],
   "source": [
    "# Get all the initials, sort them alphabetically, and put them in a space-separated string.\n",
    "' '.join(sorted(planet_to_initial.values()))"
   ]
  },
  {
   "cell_type": "code",
   "execution_count": 119,
   "id": "37489dd4",
   "metadata": {
    "papermill": {
     "duration": 0.027702,
     "end_time": "2023-04-21T13:38:09.191567",
     "exception": false,
     "start_time": "2023-04-21T13:38:09.163865",
     "status": "completed"
    },
    "tags": []
   },
   "outputs": [
    {
     "name": "stdout",
     "output_type": "stream",
     "text": [
      "   Mercury begins with \"M\"\n",
      "     Venus begins with \"V\"\n",
      "     Earth begins with \"E\"\n",
      "      Mars begins with \"M\"\n",
      "   Jupiter begins with \"J\"\n",
      "    Saturn begins with \"S\"\n",
      "    Uranus begins with \"U\"\n",
      "   Neptune begins with \"N\"\n"
     ]
    }
   ],
   "source": [
    "for planet, initial in planet_to_initial.items():\n",
    "    print(\"{} begins with \\\"{}\\\"\".format(planet.rjust(10), initial))"
   ]
  },
  {
   "cell_type": "code",
   "execution_count": 120,
   "id": "c5d8de66",
   "metadata": {
    "_kg_hide-output": true,
    "papermill": {
     "duration": 0.039241,
     "end_time": "2023-04-21T13:38:09.282423",
     "exception": false,
     "start_time": "2023-04-21T13:38:09.243182",
     "status": "completed"
    },
    "tags": []
   },
   "outputs": [
    {
     "name": "stdout",
     "output_type": "stream",
     "text": [
      "Help on class dict in module builtins:\n",
      "\n",
      "class dict(object)\n",
      " |  dict() -> new empty dictionary\n",
      " |  dict(mapping) -> new dictionary initialized from a mapping object's\n",
      " |      (key, value) pairs\n",
      " |  dict(iterable) -> new dictionary initialized as if via:\n",
      " |      d = {}\n",
      " |      for k, v in iterable:\n",
      " |          d[k] = v\n",
      " |  dict(**kwargs) -> new dictionary initialized with the name=value pairs\n",
      " |      in the keyword argument list.  For example:  dict(one=1, two=2)\n",
      " |  \n",
      " |  Built-in subclasses:\n",
      " |      StgDict\n",
      " |  \n",
      " |  Methods defined here:\n",
      " |  \n",
      " |  __contains__(self, key, /)\n",
      " |      True if the dictionary has the specified key, else False.\n",
      " |  \n",
      " |  __delitem__(self, key, /)\n",
      " |      Delete self[key].\n",
      " |  \n",
      " |  __eq__(self, value, /)\n",
      " |      Return self==value.\n",
      " |  \n",
      " |  __ge__(self, value, /)\n",
      " |      Return self>=value.\n",
      " |  \n",
      " |  __getattribute__(self, name, /)\n",
      " |      Return getattr(self, name).\n",
      " |  \n",
      " |  __getitem__(...)\n",
      " |      x.__getitem__(y) <==> x[y]\n",
      " |  \n",
      " |  __gt__(self, value, /)\n",
      " |      Return self>value.\n",
      " |  \n",
      " |  __init__(self, /, *args, **kwargs)\n",
      " |      Initialize self.  See help(type(self)) for accurate signature.\n",
      " |  \n",
      " |  __ior__(self, value, /)\n",
      " |      Return self|=value.\n",
      " |  \n",
      " |  __iter__(self, /)\n",
      " |      Implement iter(self).\n",
      " |  \n",
      " |  __le__(self, value, /)\n",
      " |      Return self<=value.\n",
      " |  \n",
      " |  __len__(self, /)\n",
      " |      Return len(self).\n",
      " |  \n",
      " |  __lt__(self, value, /)\n",
      " |      Return self<value.\n",
      " |  \n",
      " |  __ne__(self, value, /)\n",
      " |      Return self!=value.\n",
      " |  \n",
      " |  __or__(self, value, /)\n",
      " |      Return self|value.\n",
      " |  \n",
      " |  __repr__(self, /)\n",
      " |      Return repr(self).\n",
      " |  \n",
      " |  __reversed__(self, /)\n",
      " |      Return a reverse iterator over the dict keys.\n",
      " |  \n",
      " |  __ror__(self, value, /)\n",
      " |      Return value|self.\n",
      " |  \n",
      " |  __setitem__(self, key, value, /)\n",
      " |      Set self[key] to value.\n",
      " |  \n",
      " |  __sizeof__(...)\n",
      " |      D.__sizeof__() -> size of D in memory, in bytes\n",
      " |  \n",
      " |  clear(...)\n",
      " |      D.clear() -> None.  Remove all items from D.\n",
      " |  \n",
      " |  copy(...)\n",
      " |      D.copy() -> a shallow copy of D\n",
      " |  \n",
      " |  get(self, key, default=None, /)\n",
      " |      Return the value for key if key is in the dictionary, else default.\n",
      " |  \n",
      " |  items(...)\n",
      " |      D.items() -> a set-like object providing a view on D's items\n",
      " |  \n",
      " |  keys(...)\n",
      " |      D.keys() -> a set-like object providing a view on D's keys\n",
      " |  \n",
      " |  pop(...)\n",
      " |      D.pop(k[,d]) -> v, remove specified key and return the corresponding value.\n",
      " |      \n",
      " |      If the key is not found, return the default if given; otherwise,\n",
      " |      raise a KeyError.\n",
      " |  \n",
      " |  popitem(self, /)\n",
      " |      Remove and return a (key, value) pair as a 2-tuple.\n",
      " |      \n",
      " |      Pairs are returned in LIFO (last-in, first-out) order.\n",
      " |      Raises KeyError if the dict is empty.\n",
      " |  \n",
      " |  setdefault(self, key, default=None, /)\n",
      " |      Insert key with a value of default if key is not in the dictionary.\n",
      " |      \n",
      " |      Return the value for key if key is in the dictionary, else default.\n",
      " |  \n",
      " |  update(...)\n",
      " |      D.update([E, ]**F) -> None.  Update D from dict/iterable E and F.\n",
      " |      If E is present and has a .keys() method, then does:  for k in E: D[k] = E[k]\n",
      " |      If E is present and lacks a .keys() method, then does:  for k, v in E: D[k] = v\n",
      " |      In either case, this is followed by: for k in F:  D[k] = F[k]\n",
      " |  \n",
      " |  values(...)\n",
      " |      D.values() -> an object providing a view on D's values\n",
      " |  \n",
      " |  ----------------------------------------------------------------------\n",
      " |  Class methods defined here:\n",
      " |  \n",
      " |  __class_getitem__(...) from builtins.type\n",
      " |      See PEP 585\n",
      " |  \n",
      " |  fromkeys(iterable, value=None, /) from builtins.type\n",
      " |      Create a new dictionary with keys from iterable and values set to value.\n",
      " |  \n",
      " |  ----------------------------------------------------------------------\n",
      " |  Static methods defined here:\n",
      " |  \n",
      " |  __new__(*args, **kwargs) from builtins.type\n",
      " |      Create and return a new object.  See help(type) for accurate signature.\n",
      " |  \n",
      " |  ----------------------------------------------------------------------\n",
      " |  Data and other attributes defined here:\n",
      " |  \n",
      " |  __hash__ = None\n",
      "\n"
     ]
    }
   ],
   "source": [
    "help(dict)"
   ]
  },
  {
   "cell_type": "markdown",
   "id": "b4f942ac",
   "metadata": {
    "papermill": {
     "duration": 0.017148,
     "end_time": "2023-04-21T13:38:09.351943",
     "exception": false,
     "start_time": "2023-04-21T13:38:09.334795",
     "status": "completed"
    },
    "tags": []
   },
   "source": [
    "---"
   ]
  },
  {
   "cell_type": "markdown",
   "id": "16c4cee2",
   "metadata": {
    "papermill": {
     "duration": 0.010891,
     "end_time": "2023-04-21T13:38:18.211908",
     "exception": false,
     "start_time": "2023-04-21T13:38:18.201017",
     "status": "completed"
    },
    "tags": []
   },
   "source": [
    "# 7 imports ve operator overloading"
   ]
  },
  {
   "cell_type": "markdown",
   "id": "5ec25e97",
   "metadata": {
    "papermill": {
     "duration": 0.009519,
     "end_time": "2023-04-21T13:38:18.231220",
     "exception": false,
     "start_time": "2023-04-21T13:38:18.221701",
     "status": "completed"
    },
    "tags": []
   },
   "source": [
    "## Imports"
   ]
  },
  {
   "cell_type": "code",
   "execution_count": 121,
   "id": "4cb91071",
   "metadata": {
    "papermill": {
     "duration": 0.031107,
     "end_time": "2023-04-21T13:38:18.273111",
     "exception": false,
     "start_time": "2023-04-21T13:38:18.242004",
     "status": "completed"
    },
    "tags": []
   },
   "outputs": [
    {
     "name": "stdout",
     "output_type": "stream",
     "text": [
      "It's math! It has type <class 'module'>\n"
     ]
    }
   ],
   "source": [
    "import math\n",
    "\n",
    "print(\"It's math! It has type {}\".format(type(math)))"
   ]
  },
  {
   "cell_type": "code",
   "execution_count": 122,
   "id": "faff708f",
   "metadata": {
    "papermill": {
     "duration": 0.020796,
     "end_time": "2023-04-21T13:38:18.325514",
     "exception": false,
     "start_time": "2023-04-21T13:38:18.304718",
     "status": "completed"
    },
    "tags": []
   },
   "outputs": [
    {
     "name": "stdout",
     "output_type": "stream",
     "text": [
      "['__doc__', '__loader__', '__name__', '__package__', '__spec__', 'acos', 'acosh', 'asin', 'asinh', 'atan', 'atan2', 'atanh', 'cbrt', 'ceil', 'comb', 'copysign', 'cos', 'cosh', 'degrees', 'dist', 'e', 'erf', 'erfc', 'exp', 'exp2', 'expm1', 'fabs', 'factorial', 'floor', 'fmod', 'frexp', 'fsum', 'gamma', 'gcd', 'hypot', 'inf', 'isclose', 'isfinite', 'isinf', 'isnan', 'isqrt', 'lcm', 'ldexp', 'lgamma', 'log', 'log10', 'log1p', 'log2', 'modf', 'nan', 'nextafter', 'perm', 'pi', 'pow', 'prod', 'radians', 'remainder', 'sin', 'sinh', 'sqrt', 'tan', 'tanh', 'tau', 'trunc', 'ulp']\n"
     ]
    }
   ],
   "source": [
    "print(dir(math))"
   ]
  },
  {
   "cell_type": "code",
   "execution_count": 123,
   "id": "6aa4be45",
   "metadata": {
    "papermill": {
     "duration": 0.020649,
     "end_time": "2023-04-21T13:38:18.375893",
     "exception": false,
     "start_time": "2023-04-21T13:38:18.355244",
     "status": "completed"
    },
    "tags": []
   },
   "outputs": [
    {
     "name": "stdout",
     "output_type": "stream",
     "text": [
      "pi to 4 significant digits = 3.142\n"
     ]
    }
   ],
   "source": [
    "print(\"pi to 4 significant digits = {:.4}\".format(math.pi))"
   ]
  },
  {
   "cell_type": "code",
   "execution_count": 124,
   "id": "58d7e398",
   "metadata": {
    "papermill": {
     "duration": 0.023264,
     "end_time": "2023-04-21T13:38:18.429209",
     "exception": false,
     "start_time": "2023-04-21T13:38:18.405945",
     "status": "completed"
    },
    "tags": []
   },
   "outputs": [
    {
     "data": {
      "text/plain": [
       "5.0"
      ]
     },
     "execution_count": 124,
     "metadata": {},
     "output_type": "execute_result"
    }
   ],
   "source": [
    "math.log(32, 2)"
   ]
  },
  {
   "cell_type": "code",
   "execution_count": 125,
   "id": "e587e522",
   "metadata": {
    "papermill": {
     "duration": 0.022314,
     "end_time": "2023-04-21T13:38:18.481807",
     "exception": false,
     "start_time": "2023-04-21T13:38:18.459493",
     "status": "completed"
    },
    "tags": []
   },
   "outputs": [
    {
     "name": "stdout",
     "output_type": "stream",
     "text": [
      "Help on built-in function log in module math:\n",
      "\n",
      "log(...)\n",
      "    log(x, [base=math.e])\n",
      "    Return the logarithm of x to the given base.\n",
      "    \n",
      "    If the base not specified, returns the natural logarithm (base e) of x.\n",
      "\n"
     ]
    }
   ],
   "source": [
    "help(math.log)"
   ]
  },
  {
   "cell_type": "code",
   "execution_count": 126,
   "id": "f44c0185",
   "metadata": {
    "_kg_hide-output": true,
    "papermill": {
     "duration": 0.047224,
     "end_time": "2023-04-21T13:38:18.559442",
     "exception": false,
     "start_time": "2023-04-21T13:38:18.512218",
     "status": "completed"
    },
    "tags": []
   },
   "outputs": [
    {
     "name": "stdout",
     "output_type": "stream",
     "text": [
      "Help on built-in module math:\n",
      "\n",
      "NAME\n",
      "    math\n",
      "\n",
      "DESCRIPTION\n",
      "    This module provides access to the mathematical functions\n",
      "    defined by the C standard.\n",
      "\n",
      "FUNCTIONS\n",
      "    acos(x, /)\n",
      "        Return the arc cosine (measured in radians) of x.\n",
      "        \n",
      "        The result is between 0 and pi.\n",
      "    \n",
      "    acosh(x, /)\n",
      "        Return the inverse hyperbolic cosine of x.\n",
      "    \n",
      "    asin(x, /)\n",
      "        Return the arc sine (measured in radians) of x.\n",
      "        \n",
      "        The result is between -pi/2 and pi/2.\n",
      "    \n",
      "    asinh(x, /)\n",
      "        Return the inverse hyperbolic sine of x.\n",
      "    \n",
      "    atan(x, /)\n",
      "        Return the arc tangent (measured in radians) of x.\n",
      "        \n",
      "        The result is between -pi/2 and pi/2.\n",
      "    \n",
      "    atan2(y, x, /)\n",
      "        Return the arc tangent (measured in radians) of y/x.\n",
      "        \n",
      "        Unlike atan(y/x), the signs of both x and y are considered.\n",
      "    \n",
      "    atanh(x, /)\n",
      "        Return the inverse hyperbolic tangent of x.\n",
      "    \n",
      "    cbrt(x, /)\n",
      "        Return the cube root of x.\n",
      "    \n",
      "    ceil(x, /)\n",
      "        Return the ceiling of x as an Integral.\n",
      "        \n",
      "        This is the smallest integer >= x.\n",
      "    \n",
      "    comb(n, k, /)\n",
      "        Number of ways to choose k items from n items without repetition and without order.\n",
      "        \n",
      "        Evaluates to n! / (k! * (n - k)!) when k <= n and evaluates\n",
      "        to zero when k > n.\n",
      "        \n",
      "        Also called the binomial coefficient because it is equivalent\n",
      "        to the coefficient of k-th term in polynomial expansion of the\n",
      "        expression (1 + x)**n.\n",
      "        \n",
      "        Raises TypeError if either of the arguments are not integers.\n",
      "        Raises ValueError if either of the arguments are negative.\n",
      "    \n",
      "    copysign(x, y, /)\n",
      "        Return a float with the magnitude (absolute value) of x but the sign of y.\n",
      "        \n",
      "        On platforms that support signed zeros, copysign(1.0, -0.0)\n",
      "        returns -1.0.\n",
      "    \n",
      "    cos(x, /)\n",
      "        Return the cosine of x (measured in radians).\n",
      "    \n",
      "    cosh(x, /)\n",
      "        Return the hyperbolic cosine of x.\n",
      "    \n",
      "    degrees(x, /)\n",
      "        Convert angle x from radians to degrees.\n",
      "    \n",
      "    dist(p, q, /)\n",
      "        Return the Euclidean distance between two points p and q.\n",
      "        \n",
      "        The points should be specified as sequences (or iterables) of\n",
      "        coordinates.  Both inputs must have the same dimension.\n",
      "        \n",
      "        Roughly equivalent to:\n",
      "            sqrt(sum((px - qx) ** 2.0 for px, qx in zip(p, q)))\n",
      "    \n",
      "    erf(x, /)\n",
      "        Error function at x.\n",
      "    \n",
      "    erfc(x, /)\n",
      "        Complementary error function at x.\n",
      "    \n",
      "    exp(x, /)\n",
      "        Return e raised to the power of x.\n",
      "    \n",
      "    exp2(x, /)\n",
      "        Return 2 raised to the power of x.\n",
      "    \n",
      "    expm1(x, /)\n",
      "        Return exp(x)-1.\n",
      "        \n",
      "        This function avoids the loss of precision involved in the direct evaluation of exp(x)-1 for small x.\n",
      "    \n",
      "    fabs(x, /)\n",
      "        Return the absolute value of the float x.\n",
      "    \n",
      "    factorial(n, /)\n",
      "        Find n!.\n",
      "        \n",
      "        Raise a ValueError if x is negative or non-integral.\n",
      "    \n",
      "    floor(x, /)\n",
      "        Return the floor of x as an Integral.\n",
      "        \n",
      "        This is the largest integer <= x.\n",
      "    \n",
      "    fmod(x, y, /)\n",
      "        Return fmod(x, y), according to platform C.\n",
      "        \n",
      "        x % y may differ.\n",
      "    \n",
      "    frexp(x, /)\n",
      "        Return the mantissa and exponent of x, as pair (m, e).\n",
      "        \n",
      "        m is a float and e is an int, such that x = m * 2.**e.\n",
      "        If x is 0, m and e are both 0.  Else 0.5 <= abs(m) < 1.0.\n",
      "    \n",
      "    fsum(seq, /)\n",
      "        Return an accurate floating point sum of values in the iterable seq.\n",
      "        \n",
      "        Assumes IEEE-754 floating point arithmetic.\n",
      "    \n",
      "    gamma(x, /)\n",
      "        Gamma function at x.\n",
      "    \n",
      "    gcd(*integers)\n",
      "        Greatest Common Divisor.\n",
      "    \n",
      "    hypot(...)\n",
      "        hypot(*coordinates) -> value\n",
      "        \n",
      "        Multidimensional Euclidean distance from the origin to a point.\n",
      "        \n",
      "        Roughly equivalent to:\n",
      "            sqrt(sum(x**2 for x in coordinates))\n",
      "        \n",
      "        For a two dimensional point (x, y), gives the hypotenuse\n",
      "        using the Pythagorean theorem:  sqrt(x*x + y*y).\n",
      "        \n",
      "        For example, the hypotenuse of a 3/4/5 right triangle is:\n",
      "        \n",
      "            >>> hypot(3.0, 4.0)\n",
      "            5.0\n",
      "    \n",
      "    isclose(a, b, *, rel_tol=1e-09, abs_tol=0.0)\n",
      "        Determine whether two floating point numbers are close in value.\n",
      "        \n",
      "          rel_tol\n",
      "            maximum difference for being considered \"close\", relative to the\n",
      "            magnitude of the input values\n",
      "          abs_tol\n",
      "            maximum difference for being considered \"close\", regardless of the\n",
      "            magnitude of the input values\n",
      "        \n",
      "        Return True if a is close in value to b, and False otherwise.\n",
      "        \n",
      "        For the values to be considered close, the difference between them\n",
      "        must be smaller than at least one of the tolerances.\n",
      "        \n",
      "        -inf, inf and NaN behave similarly to the IEEE 754 Standard.  That\n",
      "        is, NaN is not close to anything, even itself.  inf and -inf are\n",
      "        only close to themselves.\n",
      "    \n",
      "    isfinite(x, /)\n",
      "        Return True if x is neither an infinity nor a NaN, and False otherwise.\n",
      "    \n",
      "    isinf(x, /)\n",
      "        Return True if x is a positive or negative infinity, and False otherwise.\n",
      "    \n",
      "    isnan(x, /)\n",
      "        Return True if x is a NaN (not a number), and False otherwise.\n",
      "    \n",
      "    isqrt(n, /)\n",
      "        Return the integer part of the square root of the input.\n",
      "    \n",
      "    lcm(*integers)\n",
      "        Least Common Multiple.\n",
      "    \n",
      "    ldexp(x, i, /)\n",
      "        Return x * (2**i).\n",
      "        \n",
      "        This is essentially the inverse of frexp().\n",
      "    \n",
      "    lgamma(x, /)\n",
      "        Natural logarithm of absolute value of Gamma function at x.\n",
      "    \n",
      "    log(...)\n",
      "        log(x, [base=math.e])\n",
      "        Return the logarithm of x to the given base.\n",
      "        \n",
      "        If the base not specified, returns the natural logarithm (base e) of x.\n",
      "    \n",
      "    log10(x, /)\n",
      "        Return the base 10 logarithm of x.\n",
      "    \n",
      "    log1p(x, /)\n",
      "        Return the natural logarithm of 1+x (base e).\n",
      "        \n",
      "        The result is computed in a way which is accurate for x near zero.\n",
      "    \n",
      "    log2(x, /)\n",
      "        Return the base 2 logarithm of x.\n",
      "    \n",
      "    modf(x, /)\n",
      "        Return the fractional and integer parts of x.\n",
      "        \n",
      "        Both results carry the sign of x and are floats.\n",
      "    \n",
      "    nextafter(x, y, /)\n",
      "        Return the next floating-point value after x towards y.\n",
      "    \n",
      "    perm(n, k=None, /)\n",
      "        Number of ways to choose k items from n items without repetition and with order.\n",
      "        \n",
      "        Evaluates to n! / (n - k)! when k <= n and evaluates\n",
      "        to zero when k > n.\n",
      "        \n",
      "        If k is not specified or is None, then k defaults to n\n",
      "        and the function returns n!.\n",
      "        \n",
      "        Raises TypeError if either of the arguments are not integers.\n",
      "        Raises ValueError if either of the arguments are negative.\n",
      "    \n",
      "    pow(x, y, /)\n",
      "        Return x**y (x to the power of y).\n",
      "    \n",
      "    prod(iterable, /, *, start=1)\n",
      "        Calculate the product of all the elements in the input iterable.\n",
      "        \n",
      "        The default start value for the product is 1.\n",
      "        \n",
      "        When the iterable is empty, return the start value.  This function is\n",
      "        intended specifically for use with numeric values and may reject\n",
      "        non-numeric types.\n",
      "    \n",
      "    radians(x, /)\n",
      "        Convert angle x from degrees to radians.\n",
      "    \n",
      "    remainder(x, y, /)\n",
      "        Difference between x and the closest integer multiple of y.\n",
      "        \n",
      "        Return x - n*y where n*y is the closest integer multiple of y.\n",
      "        In the case where x is exactly halfway between two multiples of\n",
      "        y, the nearest even value of n is used. The result is always exact.\n",
      "    \n",
      "    sin(x, /)\n",
      "        Return the sine of x (measured in radians).\n",
      "    \n",
      "    sinh(x, /)\n",
      "        Return the hyperbolic sine of x.\n",
      "    \n",
      "    sqrt(x, /)\n",
      "        Return the square root of x.\n",
      "    \n",
      "    tan(x, /)\n",
      "        Return the tangent of x (measured in radians).\n",
      "    \n",
      "    tanh(x, /)\n",
      "        Return the hyperbolic tangent of x.\n",
      "    \n",
      "    trunc(x, /)\n",
      "        Truncates the Real x to the nearest Integral toward 0.\n",
      "        \n",
      "        Uses the __trunc__ magic method.\n",
      "    \n",
      "    ulp(x, /)\n",
      "        Return the value of the least significant bit of the float x.\n",
      "\n",
      "DATA\n",
      "    e = 2.718281828459045\n",
      "    inf = inf\n",
      "    nan = nan\n",
      "    pi = 3.141592653589793\n",
      "    tau = 6.283185307179586\n",
      "\n",
      "FILE\n",
      "    (built-in)\n",
      "\n",
      "\n"
     ]
    }
   ],
   "source": [
    "help(math)"
   ]
  },
  {
   "cell_type": "markdown",
   "id": "2e90f3b5",
   "metadata": {
    "papermill": {
     "duration": 0.010553,
     "end_time": "2023-04-21T13:38:18.580762",
     "exception": false,
     "start_time": "2023-04-21T13:38:18.570209",
     "status": "completed"
    },
    "tags": []
   },
   "source": [
    "### Other import syntax"
   ]
  },
  {
   "cell_type": "code",
   "execution_count": 127,
   "id": "01c6ba1b",
   "metadata": {
    "papermill": {
     "duration": 0.023903,
     "end_time": "2023-04-21T13:38:18.615182",
     "exception": false,
     "start_time": "2023-04-21T13:38:18.591279",
     "status": "completed"
    },
    "tags": []
   },
   "outputs": [
    {
     "data": {
      "text/plain": [
       "3.141592653589793"
      ]
     },
     "execution_count": 127,
     "metadata": {},
     "output_type": "execute_result"
    }
   ],
   "source": [
    "import math as mt\n",
    "mt.pi"
   ]
  },
  {
   "cell_type": "code",
   "execution_count": 128,
   "id": "1735aa51",
   "metadata": {
    "papermill": {
     "duration": 0.021824,
     "end_time": "2023-04-21T13:38:18.690348",
     "exception": false,
     "start_time": "2023-04-21T13:38:18.668524",
     "status": "completed"
    },
    "tags": []
   },
   "outputs": [],
   "source": [
    "# Yukarıdakinin aynısı\n",
    "import math\n",
    "mt = math"
   ]
  },
  {
   "cell_type": "code",
   "execution_count": 129,
   "id": "7d194e20",
   "metadata": {
    "papermill": {
     "duration": 0.023044,
     "end_time": "2023-04-21T13:38:18.747052",
     "exception": false,
     "start_time": "2023-04-21T13:38:18.724008",
     "status": "completed"
    },
    "tags": []
   },
   "outputs": [
    {
     "name": "stdout",
     "output_type": "stream",
     "text": [
      "3.141592653589793 5.0\n"
     ]
    }
   ],
   "source": [
    "from math import *\n",
    "print(pi, log(32, 2))"
   ]
  },
  {
   "cell_type": "code",
   "execution_count": 130,
   "id": "b9a70268",
   "metadata": {
    "papermill": {
     "duration": 0.089229,
     "end_time": "2023-04-21T13:38:18.868962",
     "exception": false,
     "start_time": "2023-04-21T13:38:18.779733",
     "status": "completed"
    },
    "tags": [
     "raises-exception"
    ]
   },
   "outputs": [],
   "source": [
    "# # math ve numpy log metoduna sahip olduğu için çatışma oldu\n",
    "# from math import *\n",
    "# from numpy import *\n",
    "# print(pi, log(32, 2))"
   ]
  },
  {
   "cell_type": "code",
   "execution_count": 131,
   "id": "9c3e0ac6",
   "metadata": {
    "papermill": {
     "duration": 0.021619,
     "end_time": "2023-04-21T13:38:18.924497",
     "exception": false,
     "start_time": "2023-04-21T13:38:18.902878",
     "status": "completed"
    },
    "tags": []
   },
   "outputs": [],
   "source": [
    "from math import log, pi\n",
    "from numpy import asarray"
   ]
  },
  {
   "cell_type": "markdown",
   "id": "e6c2656c",
   "metadata": {
    "papermill": {
     "duration": 0.011158,
     "end_time": "2023-04-21T13:38:18.947199",
     "exception": false,
     "start_time": "2023-04-21T13:38:18.936041",
     "status": "completed"
    },
    "tags": []
   },
   "source": [
    "### Submodules"
   ]
  },
  {
   "cell_type": "code",
   "execution_count": 132,
   "id": "92092c75",
   "metadata": {
    "papermill": {
     "duration": 0.023654,
     "end_time": "2023-04-21T13:38:18.982180",
     "exception": false,
     "start_time": "2023-04-21T13:38:18.958526",
     "status": "completed"
    },
    "tags": []
   },
   "outputs": [
    {
     "name": "stdout",
     "output_type": "stream",
     "text": [
      "numpy.random is a <class 'module'>\n",
      "it contains names such as... ['set_bit_generator', 'set_state', 'shuffle', 'standard_cauchy', 'standard_exponential', 'standard_gamma', 'standard_normal', 'standard_t', 'test', 'triangular', 'uniform', 'vonmises', 'wald', 'weibull', 'zipf']\n"
     ]
    }
   ],
   "source": [
    "import numpy\n",
    "print(\"numpy.random is a\", type(numpy.random))\n",
    "print(\"it contains names such as...\",\n",
    "      dir(numpy.random)[-15:]\n",
    "     )"
   ]
  },
  {
   "cell_type": "code",
   "execution_count": 133,
   "id": "223c6167",
   "metadata": {
    "papermill": {
     "duration": 0.028574,
     "end_time": "2023-04-21T13:38:19.044188",
     "exception": false,
     "start_time": "2023-04-21T13:38:19.015614",
     "status": "completed"
    },
    "tags": []
   },
   "outputs": [
    {
     "data": {
      "text/plain": [
       "array([3, 5, 1, 4, 2, 1, 2, 2, 5, 4])"
      ]
     },
     "execution_count": 133,
     "metadata": {},
     "output_type": "execute_result"
    }
   ],
   "source": [
    "# Roll 10 dice (randint submodule)\n",
    "rolls = numpy.random.randint(low=1, high=6, size=10)\n",
    "rolls"
   ]
  },
  {
   "cell_type": "markdown",
   "id": "8ddd6e32",
   "metadata": {
    "papermill": {
     "duration": 0.01136,
     "end_time": "2023-04-21T13:38:19.067329",
     "exception": false,
     "start_time": "2023-04-21T13:38:19.055969",
     "status": "completed"
    },
    "tags": []
   },
   "source": [
    "## Three tools for understanding strange objects\n",
    "\n",
    "**1: `type()`** (what is this thing?)"
   ]
  },
  {
   "cell_type": "code",
   "execution_count": 134,
   "id": "81924e4c",
   "metadata": {
    "papermill": {
     "duration": 0.025075,
     "end_time": "2023-04-21T13:38:19.104390",
     "exception": false,
     "start_time": "2023-04-21T13:38:19.079315",
     "status": "completed"
    },
    "tags": []
   },
   "outputs": [
    {
     "data": {
      "text/plain": [
       "numpy.ndarray"
      ]
     },
     "execution_count": 134,
     "metadata": {},
     "output_type": "execute_result"
    }
   ],
   "source": [
    "type(rolls)"
   ]
  },
  {
   "cell_type": "markdown",
   "id": "86cc573b",
   "metadata": {
    "papermill": {
     "duration": 0.011217,
     "end_time": "2023-04-21T13:38:19.127336",
     "exception": false,
     "start_time": "2023-04-21T13:38:19.116119",
     "status": "completed"
    },
    "tags": []
   },
   "source": [
    "**2: `dir()`** (what can I do with it?)"
   ]
  },
  {
   "cell_type": "code",
   "execution_count": 135,
   "id": "d71671f4",
   "metadata": {
    "papermill": {
     "duration": 0.022695,
     "end_time": "2023-04-21T13:38:19.161629",
     "exception": false,
     "start_time": "2023-04-21T13:38:19.138934",
     "status": "completed"
    },
    "tags": []
   },
   "outputs": [
    {
     "name": "stdout",
     "output_type": "stream",
     "text": [
      "['T', '__abs__', '__add__', '__and__', '__array__', '__array_finalize__', '__array_function__', '__array_interface__', '__array_prepare__', '__array_priority__', '__array_struct__', '__array_ufunc__', '__array_wrap__', '__bool__', '__class__', '__class_getitem__', '__complex__', '__contains__', '__copy__', '__deepcopy__', '__delattr__', '__delitem__', '__dir__', '__divmod__', '__dlpack__', '__dlpack_device__', '__doc__', '__eq__', '__float__', '__floordiv__', '__format__', '__ge__', '__getattribute__', '__getitem__', '__getstate__', '__gt__', '__hash__', '__iadd__', '__iand__', '__ifloordiv__', '__ilshift__', '__imatmul__', '__imod__', '__imul__', '__index__', '__init__', '__init_subclass__', '__int__', '__invert__', '__ior__', '__ipow__', '__irshift__', '__isub__', '__iter__', '__itruediv__', '__ixor__', '__le__', '__len__', '__lshift__', '__lt__', '__matmul__', '__mod__', '__mul__', '__ne__', '__neg__', '__new__', '__or__', '__pos__', '__pow__', '__radd__', '__rand__', '__rdivmod__', '__reduce__', '__reduce_ex__', '__repr__', '__rfloordiv__', '__rlshift__', '__rmatmul__', '__rmod__', '__rmul__', '__ror__', '__rpow__', '__rrshift__', '__rshift__', '__rsub__', '__rtruediv__', '__rxor__', '__setattr__', '__setitem__', '__setstate__', '__sizeof__', '__str__', '__sub__', '__subclasshook__', '__truediv__', '__xor__', 'all', 'any', 'argmax', 'argmin', 'argpartition', 'argsort', 'astype', 'base', 'byteswap', 'choose', 'clip', 'compress', 'conj', 'conjugate', 'copy', 'ctypes', 'cumprod', 'cumsum', 'data', 'diagonal', 'dot', 'dtype', 'dump', 'dumps', 'fill', 'flags', 'flat', 'flatten', 'getfield', 'imag', 'item', 'itemset', 'itemsize', 'max', 'mean', 'min', 'nbytes', 'ndim', 'newbyteorder', 'nonzero', 'partition', 'prod', 'ptp', 'put', 'ravel', 'real', 'repeat', 'reshape', 'resize', 'round', 'searchsorted', 'setfield', 'setflags', 'shape', 'size', 'sort', 'squeeze', 'std', 'strides', 'sum', 'swapaxes', 'take', 'tobytes', 'tofile', 'tolist', 'tostring', 'trace', 'transpose', 'var', 'view']\n"
     ]
    }
   ],
   "source": [
    "print(dir(rolls))"
   ]
  },
  {
   "cell_type": "code",
   "execution_count": 136,
   "id": "f47affc1",
   "metadata": {
    "papermill": {
     "duration": 0.024663,
     "end_time": "2023-04-21T13:38:19.198669",
     "exception": false,
     "start_time": "2023-04-21T13:38:19.174006",
     "status": "completed"
    },
    "tags": []
   },
   "outputs": [
    {
     "data": {
      "text/plain": [
       "2.9"
      ]
     },
     "execution_count": 136,
     "metadata": {},
     "output_type": "execute_result"
    }
   ],
   "source": [
    "# If I want the average roll, the \"mean\" method looks promising...\n",
    "rolls.mean()"
   ]
  },
  {
   "cell_type": "code",
   "execution_count": 137,
   "id": "d969491f",
   "metadata": {
    "papermill": {
     "duration": 0.024431,
     "end_time": "2023-04-21T13:38:19.235121",
     "exception": false,
     "start_time": "2023-04-21T13:38:19.210690",
     "status": "completed"
    },
    "tags": []
   },
   "outputs": [
    {
     "data": {
      "text/plain": [
       "[3, 5, 1, 4, 2, 1, 2, 2, 5, 4]"
      ]
     },
     "execution_count": 137,
     "metadata": {},
     "output_type": "execute_result"
    }
   ],
   "source": [
    "# Or maybe I just want to turn the array into a list, in which case I can use \"tolist\"\n",
    "rolls.tolist()"
   ]
  },
  {
   "cell_type": "markdown",
   "id": "853e8e43",
   "metadata": {
    "papermill": {
     "duration": 0.012207,
     "end_time": "2023-04-21T13:38:19.259354",
     "exception": false,
     "start_time": "2023-04-21T13:38:19.247147",
     "status": "completed"
    },
    "tags": []
   },
   "source": [
    "**3: `help()`** (tell me more)"
   ]
  },
  {
   "cell_type": "code",
   "execution_count": 138,
   "id": "b4037b61",
   "metadata": {
    "papermill": {
     "duration": 0.023555,
     "end_time": "2023-04-21T13:38:19.295029",
     "exception": false,
     "start_time": "2023-04-21T13:38:19.271474",
     "status": "completed"
    },
    "tags": []
   },
   "outputs": [
    {
     "name": "stdout",
     "output_type": "stream",
     "text": [
      "Help on built-in function ravel:\n",
      "\n",
      "ravel(...) method of numpy.ndarray instance\n",
      "    a.ravel([order])\n",
      "    \n",
      "    Return a flattened array.\n",
      "    \n",
      "    Refer to `numpy.ravel` for full documentation.\n",
      "    \n",
      "    See Also\n",
      "    --------\n",
      "    numpy.ravel : equivalent function\n",
      "    \n",
      "    ndarray.flat : a flat iterator on the array.\n",
      "\n"
     ]
    }
   ],
   "source": [
    "# That \"ravel\" attribute sounds interesting. I'm a big classical music fan.\n",
    "help(rolls.ravel)"
   ]
  },
  {
   "cell_type": "code",
   "execution_count": 139,
   "id": "8548dd37",
   "metadata": {
    "_kg_hide-output": true,
    "papermill": {
     "duration": 0.07793,
     "end_time": "2023-04-21T13:38:19.385716",
     "exception": false,
     "start_time": "2023-04-21T13:38:19.307786",
     "status": "completed"
    },
    "tags": []
   },
   "outputs": [
    {
     "name": "stdout",
     "output_type": "stream",
     "text": [
      "Help on ndarray object:\n",
      "\n",
      "class ndarray(builtins.object)\n",
      " |  ndarray(shape, dtype=float, buffer=None, offset=0,\n",
      " |          strides=None, order=None)\n",
      " |  \n",
      " |  An array object represents a multidimensional, homogeneous array\n",
      " |  of fixed-size items.  An associated data-type object describes the\n",
      " |  format of each element in the array (its byte-order, how many bytes it\n",
      " |  occupies in memory, whether it is an integer, a floating point number,\n",
      " |  or something else, etc.)\n",
      " |  \n",
      " |  Arrays should be constructed using `array`, `zeros` or `empty` (refer\n",
      " |  to the See Also section below).  The parameters given here refer to\n",
      " |  a low-level method (`ndarray(...)`) for instantiating an array.\n",
      " |  \n",
      " |  For more information, refer to the `numpy` module and examine the\n",
      " |  methods and attributes of an array.\n",
      " |  \n",
      " |  Parameters\n",
      " |  ----------\n",
      " |  (for the __new__ method; see Notes below)\n",
      " |  \n",
      " |  shape : tuple of ints\n",
      " |      Shape of created array.\n",
      " |  dtype : data-type, optional\n",
      " |      Any object that can be interpreted as a numpy data type.\n",
      " |  buffer : object exposing buffer interface, optional\n",
      " |      Used to fill the array with data.\n",
      " |  offset : int, optional\n",
      " |      Offset of array data in buffer.\n",
      " |  strides : tuple of ints, optional\n",
      " |      Strides of data in memory.\n",
      " |  order : {'C', 'F'}, optional\n",
      " |      Row-major (C-style) or column-major (Fortran-style) order.\n",
      " |  \n",
      " |  Attributes\n",
      " |  ----------\n",
      " |  T : ndarray\n",
      " |      Transpose of the array.\n",
      " |  data : buffer\n",
      " |      The array's elements, in memory.\n",
      " |  dtype : dtype object\n",
      " |      Describes the format of the elements in the array.\n",
      " |  flags : dict\n",
      " |      Dictionary containing information related to memory use, e.g.,\n",
      " |      'C_CONTIGUOUS', 'OWNDATA', 'WRITEABLE', etc.\n",
      " |  flat : numpy.flatiter object\n",
      " |      Flattened version of the array as an iterator.  The iterator\n",
      " |      allows assignments, e.g., ``x.flat = 3`` (See `ndarray.flat` for\n",
      " |      assignment examples; TODO).\n",
      " |  imag : ndarray\n",
      " |      Imaginary part of the array.\n",
      " |  real : ndarray\n",
      " |      Real part of the array.\n",
      " |  size : int\n",
      " |      Number of elements in the array.\n",
      " |  itemsize : int\n",
      " |      The memory use of each array element in bytes.\n",
      " |  nbytes : int\n",
      " |      The total number of bytes required to store the array data,\n",
      " |      i.e., ``itemsize * size``.\n",
      " |  ndim : int\n",
      " |      The array's number of dimensions.\n",
      " |  shape : tuple of ints\n",
      " |      Shape of the array.\n",
      " |  strides : tuple of ints\n",
      " |      The step-size required to move from one element to the next in\n",
      " |      memory. For example, a contiguous ``(3, 4)`` array of type\n",
      " |      ``int16`` in C-order has strides ``(8, 2)``.  This implies that\n",
      " |      to move from element to element in memory requires jumps of 2 bytes.\n",
      " |      To move from row-to-row, one needs to jump 8 bytes at a time\n",
      " |      (``2 * 4``).\n",
      " |  ctypes : ctypes object\n",
      " |      Class containing properties of the array needed for interaction\n",
      " |      with ctypes.\n",
      " |  base : ndarray\n",
      " |      If the array is a view into another array, that array is its `base`\n",
      " |      (unless that array is also a view).  The `base` array is where the\n",
      " |      array data is actually stored.\n",
      " |  \n",
      " |  See Also\n",
      " |  --------\n",
      " |  array : Construct an array.\n",
      " |  zeros : Create an array, each element of which is zero.\n",
      " |  empty : Create an array, but leave its allocated memory unchanged (i.e.,\n",
      " |          it contains \"garbage\").\n",
      " |  dtype : Create a data-type.\n",
      " |  numpy.typing.NDArray : An ndarray alias :term:`generic <generic type>`\n",
      " |                         w.r.t. its `dtype.type <numpy.dtype.type>`.\n",
      " |  \n",
      " |  Notes\n",
      " |  -----\n",
      " |  There are two modes of creating an array using ``__new__``:\n",
      " |  \n",
      " |  1. If `buffer` is None, then only `shape`, `dtype`, and `order`\n",
      " |     are used.\n",
      " |  2. If `buffer` is an object exposing the buffer interface, then\n",
      " |     all keywords are interpreted.\n",
      " |  \n",
      " |  No ``__init__`` method is needed because the array is fully initialized\n",
      " |  after the ``__new__`` method.\n",
      " |  \n",
      " |  Examples\n",
      " |  --------\n",
      " |  These examples illustrate the low-level `ndarray` constructor.  Refer\n",
      " |  to the `See Also` section above for easier ways of constructing an\n",
      " |  ndarray.\n",
      " |  \n",
      " |  First mode, `buffer` is None:\n",
      " |  \n",
      " |  >>> np.ndarray(shape=(2,2), dtype=float, order='F')\n",
      " |  array([[0.0e+000, 0.0e+000], # random\n",
      " |         [     nan, 2.5e-323]])\n",
      " |  \n",
      " |  Second mode:\n",
      " |  \n",
      " |  >>> np.ndarray((2,), buffer=np.array([1,2,3]),\n",
      " |  ...            offset=np.int_().itemsize,\n",
      " |  ...            dtype=int) # offset = 1*itemsize, i.e. skip first element\n",
      " |  array([2, 3])\n",
      " |  \n",
      " |  Methods defined here:\n",
      " |  \n",
      " |  __abs__(self, /)\n",
      " |      abs(self)\n",
      " |  \n",
      " |  __add__(self, value, /)\n",
      " |      Return self+value.\n",
      " |  \n",
      " |  __and__(self, value, /)\n",
      " |      Return self&value.\n",
      " |  \n",
      " |  __array__(...)\n",
      " |      a.__array__([dtype], /)\n",
      " |      \n",
      " |      Returns either a new reference to self if dtype is not given or a new array\n",
      " |      of provided data type if dtype is different from the current dtype of the\n",
      " |      array.\n",
      " |  \n",
      " |  __array_finalize__(...)\n",
      " |      a.__array_finalize__(obj, /)\n",
      " |      \n",
      " |      Present so subclasses can call super. Does nothing.\n",
      " |  \n",
      " |  __array_function__(...)\n",
      " |  \n",
      " |  __array_prepare__(...)\n",
      " |      a.__array_prepare__(array[, context], /)\n",
      " |      \n",
      " |      Returns a view of `array` with the same type as self.\n",
      " |  \n",
      " |  __array_ufunc__(...)\n",
      " |  \n",
      " |  __array_wrap__(...)\n",
      " |      a.__array_wrap__(array[, context], /)\n",
      " |      \n",
      " |      Returns a view of `array` with the same type as self.\n",
      " |  \n",
      " |  __bool__(self, /)\n",
      " |      True if self else False\n",
      " |  \n",
      " |  __complex__(...)\n",
      " |  \n",
      " |  __contains__(self, key, /)\n",
      " |      Return key in self.\n",
      " |  \n",
      " |  __copy__(...)\n",
      " |      a.__copy__()\n",
      " |      \n",
      " |      Used if :func:`copy.copy` is called on an array. Returns a copy of the array.\n",
      " |      \n",
      " |      Equivalent to ``a.copy(order='K')``.\n",
      " |  \n",
      " |  __deepcopy__(...)\n",
      " |      a.__deepcopy__(memo, /)\n",
      " |      \n",
      " |      Used if :func:`copy.deepcopy` is called on an array.\n",
      " |  \n",
      " |  __delitem__(self, key, /)\n",
      " |      Delete self[key].\n",
      " |  \n",
      " |  __divmod__(self, value, /)\n",
      " |      Return divmod(self, value).\n",
      " |  \n",
      " |  __dlpack__(...)\n",
      " |      a.__dlpack__(*, stream=None)\n",
      " |      \n",
      " |      DLPack Protocol: Part of the Array API.\n",
      " |  \n",
      " |  __dlpack_device__(...)\n",
      " |      a.__dlpack_device__()\n",
      " |      \n",
      " |      DLPack Protocol: Part of the Array API.\n",
      " |  \n",
      " |  __eq__(self, value, /)\n",
      " |      Return self==value.\n",
      " |  \n",
      " |  __float__(self, /)\n",
      " |      float(self)\n",
      " |  \n",
      " |  __floordiv__(self, value, /)\n",
      " |      Return self//value.\n",
      " |  \n",
      " |  __format__(...)\n",
      " |      Default object formatter.\n",
      " |  \n",
      " |  __ge__(self, value, /)\n",
      " |      Return self>=value.\n",
      " |  \n",
      " |  __getitem__(self, key, /)\n",
      " |      Return self[key].\n",
      " |  \n",
      " |  __gt__(self, value, /)\n",
      " |      Return self>value.\n",
      " |  \n",
      " |  __iadd__(self, value, /)\n",
      " |      Return self+=value.\n",
      " |  \n",
      " |  __iand__(self, value, /)\n",
      " |      Return self&=value.\n",
      " |  \n",
      " |  __ifloordiv__(self, value, /)\n",
      " |      Return self//=value.\n",
      " |  \n",
      " |  __ilshift__(self, value, /)\n",
      " |      Return self<<=value.\n",
      " |  \n",
      " |  __imatmul__(self, value, /)\n",
      " |      Return self@=value.\n",
      " |  \n",
      " |  __imod__(self, value, /)\n",
      " |      Return self%=value.\n",
      " |  \n",
      " |  __imul__(self, value, /)\n",
      " |      Return self*=value.\n",
      " |  \n",
      " |  __index__(self, /)\n",
      " |      Return self converted to an integer, if self is suitable for use as an index into a list.\n",
      " |  \n",
      " |  __int__(self, /)\n",
      " |      int(self)\n",
      " |  \n",
      " |  __invert__(self, /)\n",
      " |      ~self\n",
      " |  \n",
      " |  __ior__(self, value, /)\n",
      " |      Return self|=value.\n",
      " |  \n",
      " |  __ipow__(self, value, /)\n",
      " |      Return self**=value.\n",
      " |  \n",
      " |  __irshift__(self, value, /)\n",
      " |      Return self>>=value.\n",
      " |  \n",
      " |  __isub__(self, value, /)\n",
      " |      Return self-=value.\n",
      " |  \n",
      " |  __iter__(self, /)\n",
      " |      Implement iter(self).\n",
      " |  \n",
      " |  __itruediv__(self, value, /)\n",
      " |      Return self/=value.\n",
      " |  \n",
      " |  __ixor__(self, value, /)\n",
      " |      Return self^=value.\n",
      " |  \n",
      " |  __le__(self, value, /)\n",
      " |      Return self<=value.\n",
      " |  \n",
      " |  __len__(self, /)\n",
      " |      Return len(self).\n",
      " |  \n",
      " |  __lshift__(self, value, /)\n",
      " |      Return self<<value.\n",
      " |  \n",
      " |  __lt__(self, value, /)\n",
      " |      Return self<value.\n",
      " |  \n",
      " |  __matmul__(self, value, /)\n",
      " |      Return self@value.\n",
      " |  \n",
      " |  __mod__(self, value, /)\n",
      " |      Return self%value.\n",
      " |  \n",
      " |  __mul__(self, value, /)\n",
      " |      Return self*value.\n",
      " |  \n",
      " |  __ne__(self, value, /)\n",
      " |      Return self!=value.\n",
      " |  \n",
      " |  __neg__(self, /)\n",
      " |      -self\n",
      " |  \n",
      " |  __or__(self, value, /)\n",
      " |      Return self|value.\n",
      " |  \n",
      " |  __pos__(self, /)\n",
      " |      +self\n",
      " |  \n",
      " |  __pow__(self, value, mod=None, /)\n",
      " |      Return pow(self, value, mod).\n",
      " |  \n",
      " |  __radd__(self, value, /)\n",
      " |      Return value+self.\n",
      " |  \n",
      " |  __rand__(self, value, /)\n",
      " |      Return value&self.\n",
      " |  \n",
      " |  __rdivmod__(self, value, /)\n",
      " |      Return divmod(value, self).\n",
      " |  \n",
      " |  __reduce__(...)\n",
      " |      a.__reduce__()\n",
      " |      \n",
      " |      For pickling.\n",
      " |  \n",
      " |  __reduce_ex__(...)\n",
      " |      Helper for pickle.\n",
      " |  \n",
      " |  __repr__(self, /)\n",
      " |      Return repr(self).\n",
      " |  \n",
      " |  __rfloordiv__(self, value, /)\n",
      " |      Return value//self.\n",
      " |  \n",
      " |  __rlshift__(self, value, /)\n",
      " |      Return value<<self.\n",
      " |  \n",
      " |  __rmatmul__(self, value, /)\n",
      " |      Return value@self.\n",
      " |  \n",
      " |  __rmod__(self, value, /)\n",
      " |      Return value%self.\n",
      " |  \n",
      " |  __rmul__(self, value, /)\n",
      " |      Return value*self.\n",
      " |  \n",
      " |  __ror__(self, value, /)\n",
      " |      Return value|self.\n",
      " |  \n",
      " |  __rpow__(self, value, mod=None, /)\n",
      " |      Return pow(value, self, mod).\n",
      " |  \n",
      " |  __rrshift__(self, value, /)\n",
      " |      Return value>>self.\n",
      " |  \n",
      " |  __rshift__(self, value, /)\n",
      " |      Return self>>value.\n",
      " |  \n",
      " |  __rsub__(self, value, /)\n",
      " |      Return value-self.\n",
      " |  \n",
      " |  __rtruediv__(self, value, /)\n",
      " |      Return value/self.\n",
      " |  \n",
      " |  __rxor__(self, value, /)\n",
      " |      Return value^self.\n",
      " |  \n",
      " |  __setitem__(self, key, value, /)\n",
      " |      Set self[key] to value.\n",
      " |  \n",
      " |  __setstate__(...)\n",
      " |      a.__setstate__(state, /)\n",
      " |      \n",
      " |      For unpickling.\n",
      " |      \n",
      " |      The `state` argument must be a sequence that contains the following\n",
      " |      elements:\n",
      " |      \n",
      " |      Parameters\n",
      " |      ----------\n",
      " |      version : int\n",
      " |          optional pickle version. If omitted defaults to 0.\n",
      " |      shape : tuple\n",
      " |      dtype : data-type\n",
      " |      isFortran : bool\n",
      " |      rawdata : string or list\n",
      " |          a binary string with the data (or a list if 'a' is an object array)\n",
      " |  \n",
      " |  __sizeof__(...)\n",
      " |      Size of object in memory, in bytes.\n",
      " |  \n",
      " |  __str__(self, /)\n",
      " |      Return str(self).\n",
      " |  \n",
      " |  __sub__(self, value, /)\n",
      " |      Return self-value.\n",
      " |  \n",
      " |  __truediv__(self, value, /)\n",
      " |      Return self/value.\n",
      " |  \n",
      " |  __xor__(self, value, /)\n",
      " |      Return self^value.\n",
      " |  \n",
      " |  all(...)\n",
      " |      a.all(axis=None, out=None, keepdims=False, *, where=True)\n",
      " |      \n",
      " |      Returns True if all elements evaluate to True.\n",
      " |      \n",
      " |      Refer to `numpy.all` for full documentation.\n",
      " |      \n",
      " |      See Also\n",
      " |      --------\n",
      " |      numpy.all : equivalent function\n",
      " |  \n",
      " |  any(...)\n",
      " |      a.any(axis=None, out=None, keepdims=False, *, where=True)\n",
      " |      \n",
      " |      Returns True if any of the elements of `a` evaluate to True.\n",
      " |      \n",
      " |      Refer to `numpy.any` for full documentation.\n",
      " |      \n",
      " |      See Also\n",
      " |      --------\n",
      " |      numpy.any : equivalent function\n",
      " |  \n",
      " |  argmax(...)\n",
      " |      a.argmax(axis=None, out=None, *, keepdims=False)\n",
      " |      \n",
      " |      Return indices of the maximum values along the given axis.\n",
      " |      \n",
      " |      Refer to `numpy.argmax` for full documentation.\n",
      " |      \n",
      " |      See Also\n",
      " |      --------\n",
      " |      numpy.argmax : equivalent function\n",
      " |  \n",
      " |  argmin(...)\n",
      " |      a.argmin(axis=None, out=None, *, keepdims=False)\n",
      " |      \n",
      " |      Return indices of the minimum values along the given axis.\n",
      " |      \n",
      " |      Refer to `numpy.argmin` for detailed documentation.\n",
      " |      \n",
      " |      See Also\n",
      " |      --------\n",
      " |      numpy.argmin : equivalent function\n",
      " |  \n",
      " |  argpartition(...)\n",
      " |      a.argpartition(kth, axis=-1, kind='introselect', order=None)\n",
      " |      \n",
      " |      Returns the indices that would partition this array.\n",
      " |      \n",
      " |      Refer to `numpy.argpartition` for full documentation.\n",
      " |      \n",
      " |      .. versionadded:: 1.8.0\n",
      " |      \n",
      " |      See Also\n",
      " |      --------\n",
      " |      numpy.argpartition : equivalent function\n",
      " |  \n",
      " |  argsort(...)\n",
      " |      a.argsort(axis=-1, kind=None, order=None)\n",
      " |      \n",
      " |      Returns the indices that would sort this array.\n",
      " |      \n",
      " |      Refer to `numpy.argsort` for full documentation.\n",
      " |      \n",
      " |      See Also\n",
      " |      --------\n",
      " |      numpy.argsort : equivalent function\n",
      " |  \n",
      " |  astype(...)\n",
      " |      a.astype(dtype, order='K', casting='unsafe', subok=True, copy=True)\n",
      " |      \n",
      " |      Copy of the array, cast to a specified type.\n",
      " |      \n",
      " |      Parameters\n",
      " |      ----------\n",
      " |      dtype : str or dtype\n",
      " |          Typecode or data-type to which the array is cast.\n",
      " |      order : {'C', 'F', 'A', 'K'}, optional\n",
      " |          Controls the memory layout order of the result.\n",
      " |          'C' means C order, 'F' means Fortran order, 'A'\n",
      " |          means 'F' order if all the arrays are Fortran contiguous,\n",
      " |          'C' order otherwise, and 'K' means as close to the\n",
      " |          order the array elements appear in memory as possible.\n",
      " |          Default is 'K'.\n",
      " |      casting : {'no', 'equiv', 'safe', 'same_kind', 'unsafe'}, optional\n",
      " |          Controls what kind of data casting may occur. Defaults to 'unsafe'\n",
      " |          for backwards compatibility.\n",
      " |      \n",
      " |            * 'no' means the data types should not be cast at all.\n",
      " |            * 'equiv' means only byte-order changes are allowed.\n",
      " |            * 'safe' means only casts which can preserve values are allowed.\n",
      " |            * 'same_kind' means only safe casts or casts within a kind,\n",
      " |              like float64 to float32, are allowed.\n",
      " |            * 'unsafe' means any data conversions may be done.\n",
      " |      subok : bool, optional\n",
      " |          If True, then sub-classes will be passed-through (default), otherwise\n",
      " |          the returned array will be forced to be a base-class array.\n",
      " |      copy : bool, optional\n",
      " |          By default, astype always returns a newly allocated array. If this\n",
      " |          is set to false, and the `dtype`, `order`, and `subok`\n",
      " |          requirements are satisfied, the input array is returned instead\n",
      " |          of a copy.\n",
      " |      \n",
      " |      Returns\n",
      " |      -------\n",
      " |      arr_t : ndarray\n",
      " |          Unless `copy` is False and the other conditions for returning the input\n",
      " |          array are satisfied (see description for `copy` input parameter), `arr_t`\n",
      " |          is a new array of the same shape as the input array, with dtype, order\n",
      " |          given by `dtype`, `order`.\n",
      " |      \n",
      " |      Notes\n",
      " |      -----\n",
      " |      .. versionchanged:: 1.17.0\n",
      " |         Casting between a simple data type and a structured one is possible only\n",
      " |         for \"unsafe\" casting.  Casting to multiple fields is allowed, but\n",
      " |         casting from multiple fields is not.\n",
      " |      \n",
      " |      .. versionchanged:: 1.9.0\n",
      " |         Casting from numeric to string types in 'safe' casting mode requires\n",
      " |         that the string dtype length is long enough to store the max\n",
      " |         integer/float value converted.\n",
      " |      \n",
      " |      Raises\n",
      " |      ------\n",
      " |      ComplexWarning\n",
      " |          When casting from complex to float or int. To avoid this,\n",
      " |          one should use ``a.real.astype(t)``.\n",
      " |      \n",
      " |      Examples\n",
      " |      --------\n",
      " |      >>> x = np.array([1, 2, 2.5])\n",
      " |      >>> x\n",
      " |      array([1. ,  2. ,  2.5])\n",
      " |      \n",
      " |      >>> x.astype(int)\n",
      " |      array([1, 2, 2])\n",
      " |  \n",
      " |  byteswap(...)\n",
      " |      a.byteswap(inplace=False)\n",
      " |      \n",
      " |      Swap the bytes of the array elements\n",
      " |      \n",
      " |      Toggle between low-endian and big-endian data representation by\n",
      " |      returning a byteswapped array, optionally swapped in-place.\n",
      " |      Arrays of byte-strings are not swapped. The real and imaginary\n",
      " |      parts of a complex number are swapped individually.\n",
      " |      \n",
      " |      Parameters\n",
      " |      ----------\n",
      " |      inplace : bool, optional\n",
      " |          If ``True``, swap bytes in-place, default is ``False``.\n",
      " |      \n",
      " |      Returns\n",
      " |      -------\n",
      " |      out : ndarray\n",
      " |          The byteswapped array. If `inplace` is ``True``, this is\n",
      " |          a view to self.\n",
      " |      \n",
      " |      Examples\n",
      " |      --------\n",
      " |      >>> A = np.array([1, 256, 8755], dtype=np.int16)\n",
      " |      >>> list(map(hex, A))\n",
      " |      ['0x1', '0x100', '0x2233']\n",
      " |      >>> A.byteswap(inplace=True)\n",
      " |      array([  256,     1, 13090], dtype=int16)\n",
      " |      >>> list(map(hex, A))\n",
      " |      ['0x100', '0x1', '0x3322']\n",
      " |      \n",
      " |      Arrays of byte-strings are not swapped\n",
      " |      \n",
      " |      >>> A = np.array([b'ceg', b'fac'])\n",
      " |      >>> A.byteswap()\n",
      " |      array([b'ceg', b'fac'], dtype='|S3')\n",
      " |      \n",
      " |      ``A.newbyteorder().byteswap()`` produces an array with the same values\n",
      " |        but different representation in memory\n",
      " |      \n",
      " |      >>> A = np.array([1, 2, 3])\n",
      " |      >>> A.view(np.uint8)\n",
      " |      array([1, 0, 0, 0, 0, 0, 0, 0, 2, 0, 0, 0, 0, 0, 0, 0, 3, 0, 0, 0, 0, 0,\n",
      " |             0, 0], dtype=uint8)\n",
      " |      >>> A.newbyteorder().byteswap(inplace=True)\n",
      " |      array([1, 2, 3])\n",
      " |      >>> A.view(np.uint8)\n",
      " |      array([0, 0, 0, 0, 0, 0, 0, 1, 0, 0, 0, 0, 0, 0, 0, 2, 0, 0, 0, 0, 0, 0,\n",
      " |             0, 3], dtype=uint8)\n",
      " |  \n",
      " |  choose(...)\n",
      " |      a.choose(choices, out=None, mode='raise')\n",
      " |      \n",
      " |      Use an index array to construct a new array from a set of choices.\n",
      " |      \n",
      " |      Refer to `numpy.choose` for full documentation.\n",
      " |      \n",
      " |      See Also\n",
      " |      --------\n",
      " |      numpy.choose : equivalent function\n",
      " |  \n",
      " |  clip(...)\n",
      " |      a.clip(min=None, max=None, out=None, **kwargs)\n",
      " |      \n",
      " |      Return an array whose values are limited to ``[min, max]``.\n",
      " |      One of max or min must be given.\n",
      " |      \n",
      " |      Refer to `numpy.clip` for full documentation.\n",
      " |      \n",
      " |      See Also\n",
      " |      --------\n",
      " |      numpy.clip : equivalent function\n",
      " |  \n",
      " |  compress(...)\n",
      " |      a.compress(condition, axis=None, out=None)\n",
      " |      \n",
      " |      Return selected slices of this array along given axis.\n",
      " |      \n",
      " |      Refer to `numpy.compress` for full documentation.\n",
      " |      \n",
      " |      See Also\n",
      " |      --------\n",
      " |      numpy.compress : equivalent function\n",
      " |  \n",
      " |  conj(...)\n",
      " |      a.conj()\n",
      " |      \n",
      " |      Complex-conjugate all elements.\n",
      " |      \n",
      " |      Refer to `numpy.conjugate` for full documentation.\n",
      " |      \n",
      " |      See Also\n",
      " |      --------\n",
      " |      numpy.conjugate : equivalent function\n",
      " |  \n",
      " |  conjugate(...)\n",
      " |      a.conjugate()\n",
      " |      \n",
      " |      Return the complex conjugate, element-wise.\n",
      " |      \n",
      " |      Refer to `numpy.conjugate` for full documentation.\n",
      " |      \n",
      " |      See Also\n",
      " |      --------\n",
      " |      numpy.conjugate : equivalent function\n",
      " |  \n",
      " |  copy(...)\n",
      " |      a.copy(order='C')\n",
      " |      \n",
      " |      Return a copy of the array.\n",
      " |      \n",
      " |      Parameters\n",
      " |      ----------\n",
      " |      order : {'C', 'F', 'A', 'K'}, optional\n",
      " |          Controls the memory layout of the copy. 'C' means C-order,\n",
      " |          'F' means F-order, 'A' means 'F' if `a` is Fortran contiguous,\n",
      " |          'C' otherwise. 'K' means match the layout of `a` as closely\n",
      " |          as possible. (Note that this function and :func:`numpy.copy` are very\n",
      " |          similar but have different default values for their order=\n",
      " |          arguments, and this function always passes sub-classes through.)\n",
      " |      \n",
      " |      See also\n",
      " |      --------\n",
      " |      numpy.copy : Similar function with different default behavior\n",
      " |      numpy.copyto\n",
      " |      \n",
      " |      Notes\n",
      " |      -----\n",
      " |      This function is the preferred method for creating an array copy.  The\n",
      " |      function :func:`numpy.copy` is similar, but it defaults to using order 'K',\n",
      " |      and will not pass sub-classes through by default.\n",
      " |      \n",
      " |      Examples\n",
      " |      --------\n",
      " |      >>> x = np.array([[1,2,3],[4,5,6]], order='F')\n",
      " |      \n",
      " |      >>> y = x.copy()\n",
      " |      \n",
      " |      >>> x.fill(0)\n",
      " |      \n",
      " |      >>> x\n",
      " |      array([[0, 0, 0],\n",
      " |             [0, 0, 0]])\n",
      " |      \n",
      " |      >>> y\n",
      " |      array([[1, 2, 3],\n",
      " |             [4, 5, 6]])\n",
      " |      \n",
      " |      >>> y.flags['C_CONTIGUOUS']\n",
      " |      True\n",
      " |  \n",
      " |  cumprod(...)\n",
      " |      a.cumprod(axis=None, dtype=None, out=None)\n",
      " |      \n",
      " |      Return the cumulative product of the elements along the given axis.\n",
      " |      \n",
      " |      Refer to `numpy.cumprod` for full documentation.\n",
      " |      \n",
      " |      See Also\n",
      " |      --------\n",
      " |      numpy.cumprod : equivalent function\n",
      " |  \n",
      " |  cumsum(...)\n",
      " |      a.cumsum(axis=None, dtype=None, out=None)\n",
      " |      \n",
      " |      Return the cumulative sum of the elements along the given axis.\n",
      " |      \n",
      " |      Refer to `numpy.cumsum` for full documentation.\n",
      " |      \n",
      " |      See Also\n",
      " |      --------\n",
      " |      numpy.cumsum : equivalent function\n",
      " |  \n",
      " |  diagonal(...)\n",
      " |      a.diagonal(offset=0, axis1=0, axis2=1)\n",
      " |      \n",
      " |      Return specified diagonals. In NumPy 1.9 the returned array is a\n",
      " |      read-only view instead of a copy as in previous NumPy versions.  In\n",
      " |      a future version the read-only restriction will be removed.\n",
      " |      \n",
      " |      Refer to :func:`numpy.diagonal` for full documentation.\n",
      " |      \n",
      " |      See Also\n",
      " |      --------\n",
      " |      numpy.diagonal : equivalent function\n",
      " |  \n",
      " |  dot(...)\n",
      " |  \n",
      " |  dump(...)\n",
      " |      a.dump(file)\n",
      " |      \n",
      " |      Dump a pickle of the array to the specified file.\n",
      " |      The array can be read back with pickle.load or numpy.load.\n",
      " |      \n",
      " |      Parameters\n",
      " |      ----------\n",
      " |      file : str or Path\n",
      " |          A string naming the dump file.\n",
      " |      \n",
      " |          .. versionchanged:: 1.17.0\n",
      " |              `pathlib.Path` objects are now accepted.\n",
      " |  \n",
      " |  dumps(...)\n",
      " |      a.dumps()\n",
      " |      \n",
      " |      Returns the pickle of the array as a string.\n",
      " |      pickle.loads will convert the string back to an array.\n",
      " |      \n",
      " |      Parameters\n",
      " |      ----------\n",
      " |      None\n",
      " |  \n",
      " |  fill(...)\n",
      " |      a.fill(value)\n",
      " |      \n",
      " |      Fill the array with a scalar value.\n",
      " |      \n",
      " |      Parameters\n",
      " |      ----------\n",
      " |      value : scalar\n",
      " |          All elements of `a` will be assigned this value.\n",
      " |      \n",
      " |      Examples\n",
      " |      --------\n",
      " |      >>> a = np.array([1, 2])\n",
      " |      >>> a.fill(0)\n",
      " |      >>> a\n",
      " |      array([0, 0])\n",
      " |      >>> a = np.empty(2)\n",
      " |      >>> a.fill(1)\n",
      " |      >>> a\n",
      " |      array([1.,  1.])\n",
      " |      \n",
      " |      Fill expects a scalar value and always behaves the same as assigning\n",
      " |      to a single array element.  The following is a rare example where this\n",
      " |      distinction is important:\n",
      " |      \n",
      " |      >>> a = np.array([None, None], dtype=object)\n",
      " |      >>> a[0] = np.array(3)\n",
      " |      >>> a\n",
      " |      array([array(3), None], dtype=object)\n",
      " |      >>> a.fill(np.array(3))\n",
      " |      >>> a\n",
      " |      array([array(3), array(3)], dtype=object)\n",
      " |      \n",
      " |      Where other forms of assignments will unpack the array being assigned:\n",
      " |      \n",
      " |      >>> a[...] = np.array(3)\n",
      " |      >>> a\n",
      " |      array([3, 3], dtype=object)\n",
      " |  \n",
      " |  flatten(...)\n",
      " |      a.flatten(order='C')\n",
      " |      \n",
      " |      Return a copy of the array collapsed into one dimension.\n",
      " |      \n",
      " |      Parameters\n",
      " |      ----------\n",
      " |      order : {'C', 'F', 'A', 'K'}, optional\n",
      " |          'C' means to flatten in row-major (C-style) order.\n",
      " |          'F' means to flatten in column-major (Fortran-\n",
      " |          style) order. 'A' means to flatten in column-major\n",
      " |          order if `a` is Fortran *contiguous* in memory,\n",
      " |          row-major order otherwise. 'K' means to flatten\n",
      " |          `a` in the order the elements occur in memory.\n",
      " |          The default is 'C'.\n",
      " |      \n",
      " |      Returns\n",
      " |      -------\n",
      " |      y : ndarray\n",
      " |          A copy of the input array, flattened to one dimension.\n",
      " |      \n",
      " |      See Also\n",
      " |      --------\n",
      " |      ravel : Return a flattened array.\n",
      " |      flat : A 1-D flat iterator over the array.\n",
      " |      \n",
      " |      Examples\n",
      " |      --------\n",
      " |      >>> a = np.array([[1,2], [3,4]])\n",
      " |      >>> a.flatten()\n",
      " |      array([1, 2, 3, 4])\n",
      " |      >>> a.flatten('F')\n",
      " |      array([1, 3, 2, 4])\n",
      " |  \n",
      " |  getfield(...)\n",
      " |      a.getfield(dtype, offset=0)\n",
      " |      \n",
      " |      Returns a field of the given array as a certain type.\n",
      " |      \n",
      " |      A field is a view of the array data with a given data-type. The values in\n",
      " |      the view are determined by the given type and the offset into the current\n",
      " |      array in bytes. The offset needs to be such that the view dtype fits in the\n",
      " |      array dtype; for example an array of dtype complex128 has 16-byte elements.\n",
      " |      If taking a view with a 32-bit integer (4 bytes), the offset needs to be\n",
      " |      between 0 and 12 bytes.\n",
      " |      \n",
      " |      Parameters\n",
      " |      ----------\n",
      " |      dtype : str or dtype\n",
      " |          The data type of the view. The dtype size of the view can not be larger\n",
      " |          than that of the array itself.\n",
      " |      offset : int\n",
      " |          Number of bytes to skip before beginning the element view.\n",
      " |      \n",
      " |      Examples\n",
      " |      --------\n",
      " |      >>> x = np.diag([1.+1.j]*2)\n",
      " |      >>> x[1, 1] = 2 + 4.j\n",
      " |      >>> x\n",
      " |      array([[1.+1.j,  0.+0.j],\n",
      " |             [0.+0.j,  2.+4.j]])\n",
      " |      >>> x.getfield(np.float64)\n",
      " |      array([[1.,  0.],\n",
      " |             [0.,  2.]])\n",
      " |      \n",
      " |      By choosing an offset of 8 bytes we can select the complex part of the\n",
      " |      array for our view:\n",
      " |      \n",
      " |      >>> x.getfield(np.float64, offset=8)\n",
      " |      array([[1.,  0.],\n",
      " |             [0.,  4.]])\n",
      " |  \n",
      " |  item(...)\n",
      " |      a.item(*args)\n",
      " |      \n",
      " |      Copy an element of an array to a standard Python scalar and return it.\n",
      " |      \n",
      " |      Parameters\n",
      " |      ----------\n",
      " |      \\*args : Arguments (variable number and type)\n",
      " |      \n",
      " |          * none: in this case, the method only works for arrays\n",
      " |            with one element (`a.size == 1`), which element is\n",
      " |            copied into a standard Python scalar object and returned.\n",
      " |      \n",
      " |          * int_type: this argument is interpreted as a flat index into\n",
      " |            the array, specifying which element to copy and return.\n",
      " |      \n",
      " |          * tuple of int_types: functions as does a single int_type argument,\n",
      " |            except that the argument is interpreted as an nd-index into the\n",
      " |            array.\n",
      " |      \n",
      " |      Returns\n",
      " |      -------\n",
      " |      z : Standard Python scalar object\n",
      " |          A copy of the specified element of the array as a suitable\n",
      " |          Python scalar\n",
      " |      \n",
      " |      Notes\n",
      " |      -----\n",
      " |      When the data type of `a` is longdouble or clongdouble, item() returns\n",
      " |      a scalar array object because there is no available Python scalar that\n",
      " |      would not lose information. Void arrays return a buffer object for item(),\n",
      " |      unless fields are defined, in which case a tuple is returned.\n",
      " |      \n",
      " |      `item` is very similar to a[args], except, instead of an array scalar,\n",
      " |      a standard Python scalar is returned. This can be useful for speeding up\n",
      " |      access to elements of the array and doing arithmetic on elements of the\n",
      " |      array using Python's optimized math.\n",
      " |      \n",
      " |      Examples\n",
      " |      --------\n",
      " |      >>> np.random.seed(123)\n",
      " |      >>> x = np.random.randint(9, size=(3, 3))\n",
      " |      >>> x\n",
      " |      array([[2, 2, 6],\n",
      " |             [1, 3, 6],\n",
      " |             [1, 0, 1]])\n",
      " |      >>> x.item(3)\n",
      " |      1\n",
      " |      >>> x.item(7)\n",
      " |      0\n",
      " |      >>> x.item((0, 1))\n",
      " |      2\n",
      " |      >>> x.item((2, 2))\n",
      " |      1\n",
      " |  \n",
      " |  itemset(...)\n",
      " |      a.itemset(*args)\n",
      " |      \n",
      " |      Insert scalar into an array (scalar is cast to array's dtype, if possible)\n",
      " |      \n",
      " |      There must be at least 1 argument, and define the last argument\n",
      " |      as *item*.  Then, ``a.itemset(*args)`` is equivalent to but faster\n",
      " |      than ``a[args] = item``.  The item should be a scalar value and `args`\n",
      " |      must select a single item in the array `a`.\n",
      " |      \n",
      " |      Parameters\n",
      " |      ----------\n",
      " |      \\*args : Arguments\n",
      " |          If one argument: a scalar, only used in case `a` is of size 1.\n",
      " |          If two arguments: the last argument is the value to be set\n",
      " |          and must be a scalar, the first argument specifies a single array\n",
      " |          element location. It is either an int or a tuple.\n",
      " |      \n",
      " |      Notes\n",
      " |      -----\n",
      " |      Compared to indexing syntax, `itemset` provides some speed increase\n",
      " |      for placing a scalar into a particular location in an `ndarray`,\n",
      " |      if you must do this.  However, generally this is discouraged:\n",
      " |      among other problems, it complicates the appearance of the code.\n",
      " |      Also, when using `itemset` (and `item`) inside a loop, be sure\n",
      " |      to assign the methods to a local variable to avoid the attribute\n",
      " |      look-up at each loop iteration.\n",
      " |      \n",
      " |      Examples\n",
      " |      --------\n",
      " |      >>> np.random.seed(123)\n",
      " |      >>> x = np.random.randint(9, size=(3, 3))\n",
      " |      >>> x\n",
      " |      array([[2, 2, 6],\n",
      " |             [1, 3, 6],\n",
      " |             [1, 0, 1]])\n",
      " |      >>> x.itemset(4, 0)\n",
      " |      >>> x.itemset((2, 2), 9)\n",
      " |      >>> x\n",
      " |      array([[2, 2, 6],\n",
      " |             [1, 0, 6],\n",
      " |             [1, 0, 9]])\n",
      " |  \n",
      " |  max(...)\n",
      " |      a.max(axis=None, out=None, keepdims=False, initial=<no value>, where=True)\n",
      " |      \n",
      " |      Return the maximum along a given axis.\n",
      " |      \n",
      " |      Refer to `numpy.amax` for full documentation.\n",
      " |      \n",
      " |      See Also\n",
      " |      --------\n",
      " |      numpy.amax : equivalent function\n",
      " |  \n",
      " |  mean(...)\n",
      " |      a.mean(axis=None, dtype=None, out=None, keepdims=False, *, where=True)\n",
      " |      \n",
      " |      Returns the average of the array elements along given axis.\n",
      " |      \n",
      " |      Refer to `numpy.mean` for full documentation.\n",
      " |      \n",
      " |      See Also\n",
      " |      --------\n",
      " |      numpy.mean : equivalent function\n",
      " |  \n",
      " |  min(...)\n",
      " |      a.min(axis=None, out=None, keepdims=False, initial=<no value>, where=True)\n",
      " |      \n",
      " |      Return the minimum along a given axis.\n",
      " |      \n",
      " |      Refer to `numpy.amin` for full documentation.\n",
      " |      \n",
      " |      See Also\n",
      " |      --------\n",
      " |      numpy.amin : equivalent function\n",
      " |  \n",
      " |  newbyteorder(...)\n",
      " |      arr.newbyteorder(new_order='S', /)\n",
      " |      \n",
      " |      Return the array with the same data viewed with a different byte order.\n",
      " |      \n",
      " |      Equivalent to::\n",
      " |      \n",
      " |          arr.view(arr.dtype.newbytorder(new_order))\n",
      " |      \n",
      " |      Changes are also made in all fields and sub-arrays of the array data\n",
      " |      type.\n",
      " |      \n",
      " |      \n",
      " |      \n",
      " |      Parameters\n",
      " |      ----------\n",
      " |      new_order : string, optional\n",
      " |          Byte order to force; a value from the byte order specifications\n",
      " |          below. `new_order` codes can be any of:\n",
      " |      \n",
      " |          * 'S' - swap dtype from current to opposite endian\n",
      " |          * {'<', 'little'} - little endian\n",
      " |          * {'>', 'big'} - big endian\n",
      " |          * {'=', 'native'} - native order, equivalent to `sys.byteorder`\n",
      " |          * {'|', 'I'} - ignore (no change to byte order)\n",
      " |      \n",
      " |          The default value ('S') results in swapping the current\n",
      " |          byte order.\n",
      " |      \n",
      " |      \n",
      " |      Returns\n",
      " |      -------\n",
      " |      new_arr : array\n",
      " |          New array object with the dtype reflecting given change to the\n",
      " |          byte order.\n",
      " |  \n",
      " |  nonzero(...)\n",
      " |      a.nonzero()\n",
      " |      \n",
      " |      Return the indices of the elements that are non-zero.\n",
      " |      \n",
      " |      Refer to `numpy.nonzero` for full documentation.\n",
      " |      \n",
      " |      See Also\n",
      " |      --------\n",
      " |      numpy.nonzero : equivalent function\n",
      " |  \n",
      " |  partition(...)\n",
      " |      a.partition(kth, axis=-1, kind='introselect', order=None)\n",
      " |      \n",
      " |      Rearranges the elements in the array in such a way that the value of the\n",
      " |      element in kth position is in the position it would be in a sorted array.\n",
      " |      All elements smaller than the kth element are moved before this element and\n",
      " |      all equal or greater are moved behind it. The ordering of the elements in\n",
      " |      the two partitions is undefined.\n",
      " |      \n",
      " |      .. versionadded:: 1.8.0\n",
      " |      \n",
      " |      Parameters\n",
      " |      ----------\n",
      " |      kth : int or sequence of ints\n",
      " |          Element index to partition by. The kth element value will be in its\n",
      " |          final sorted position and all smaller elements will be moved before it\n",
      " |          and all equal or greater elements behind it.\n",
      " |          The order of all elements in the partitions is undefined.\n",
      " |          If provided with a sequence of kth it will partition all elements\n",
      " |          indexed by kth of them into their sorted position at once.\n",
      " |      \n",
      " |          .. deprecated:: 1.22.0\n",
      " |              Passing booleans as index is deprecated.\n",
      " |      axis : int, optional\n",
      " |          Axis along which to sort. Default is -1, which means sort along the\n",
      " |          last axis.\n",
      " |      kind : {'introselect'}, optional\n",
      " |          Selection algorithm. Default is 'introselect'.\n",
      " |      order : str or list of str, optional\n",
      " |          When `a` is an array with fields defined, this argument specifies\n",
      " |          which fields to compare first, second, etc. A single field can\n",
      " |          be specified as a string, and not all fields need to be specified,\n",
      " |          but unspecified fields will still be used, in the order in which\n",
      " |          they come up in the dtype, to break ties.\n",
      " |      \n",
      " |      See Also\n",
      " |      --------\n",
      " |      numpy.partition : Return a partitioned copy of an array.\n",
      " |      argpartition : Indirect partition.\n",
      " |      sort : Full sort.\n",
      " |      \n",
      " |      Notes\n",
      " |      -----\n",
      " |      See ``np.partition`` for notes on the different algorithms.\n",
      " |      \n",
      " |      Examples\n",
      " |      --------\n",
      " |      >>> a = np.array([3, 4, 2, 1])\n",
      " |      >>> a.partition(3)\n",
      " |      >>> a\n",
      " |      array([2, 1, 3, 4])\n",
      " |      \n",
      " |      >>> a.partition((1, 3))\n",
      " |      >>> a\n",
      " |      array([1, 2, 3, 4])\n",
      " |  \n",
      " |  prod(...)\n",
      " |      a.prod(axis=None, dtype=None, out=None, keepdims=False, initial=1, where=True)\n",
      " |      \n",
      " |      Return the product of the array elements over the given axis\n",
      " |      \n",
      " |      Refer to `numpy.prod` for full documentation.\n",
      " |      \n",
      " |      See Also\n",
      " |      --------\n",
      " |      numpy.prod : equivalent function\n",
      " |  \n",
      " |  ptp(...)\n",
      " |      a.ptp(axis=None, out=None, keepdims=False)\n",
      " |      \n",
      " |      Peak to peak (maximum - minimum) value along a given axis.\n",
      " |      \n",
      " |      Refer to `numpy.ptp` for full documentation.\n",
      " |      \n",
      " |      See Also\n",
      " |      --------\n",
      " |      numpy.ptp : equivalent function\n",
      " |  \n",
      " |  put(...)\n",
      " |      a.put(indices, values, mode='raise')\n",
      " |      \n",
      " |      Set ``a.flat[n] = values[n]`` for all `n` in indices.\n",
      " |      \n",
      " |      Refer to `numpy.put` for full documentation.\n",
      " |      \n",
      " |      See Also\n",
      " |      --------\n",
      " |      numpy.put : equivalent function\n",
      " |  \n",
      " |  ravel(...)\n",
      " |      a.ravel([order])\n",
      " |      \n",
      " |      Return a flattened array.\n",
      " |      \n",
      " |      Refer to `numpy.ravel` for full documentation.\n",
      " |      \n",
      " |      See Also\n",
      " |      --------\n",
      " |      numpy.ravel : equivalent function\n",
      " |      \n",
      " |      ndarray.flat : a flat iterator on the array.\n",
      " |  \n",
      " |  repeat(...)\n",
      " |      a.repeat(repeats, axis=None)\n",
      " |      \n",
      " |      Repeat elements of an array.\n",
      " |      \n",
      " |      Refer to `numpy.repeat` for full documentation.\n",
      " |      \n",
      " |      See Also\n",
      " |      --------\n",
      " |      numpy.repeat : equivalent function\n",
      " |  \n",
      " |  reshape(...)\n",
      " |      a.reshape(shape, order='C')\n",
      " |      \n",
      " |      Returns an array containing the same data with a new shape.\n",
      " |      \n",
      " |      Refer to `numpy.reshape` for full documentation.\n",
      " |      \n",
      " |      See Also\n",
      " |      --------\n",
      " |      numpy.reshape : equivalent function\n",
      " |      \n",
      " |      Notes\n",
      " |      -----\n",
      " |      Unlike the free function `numpy.reshape`, this method on `ndarray` allows\n",
      " |      the elements of the shape parameter to be passed in as separate arguments.\n",
      " |      For example, ``a.reshape(10, 11)`` is equivalent to\n",
      " |      ``a.reshape((10, 11))``.\n",
      " |  \n",
      " |  resize(...)\n",
      " |      a.resize(new_shape, refcheck=True)\n",
      " |      \n",
      " |      Change shape and size of array in-place.\n",
      " |      \n",
      " |      Parameters\n",
      " |      ----------\n",
      " |      new_shape : tuple of ints, or `n` ints\n",
      " |          Shape of resized array.\n",
      " |      refcheck : bool, optional\n",
      " |          If False, reference count will not be checked. Default is True.\n",
      " |      \n",
      " |      Returns\n",
      " |      -------\n",
      " |      None\n",
      " |      \n",
      " |      Raises\n",
      " |      ------\n",
      " |      ValueError\n",
      " |          If `a` does not own its own data or references or views to it exist,\n",
      " |          and the data memory must be changed.\n",
      " |          PyPy only: will always raise if the data memory must be changed, since\n",
      " |          there is no reliable way to determine if references or views to it\n",
      " |          exist.\n",
      " |      \n",
      " |      SystemError\n",
      " |          If the `order` keyword argument is specified. This behaviour is a\n",
      " |          bug in NumPy.\n",
      " |      \n",
      " |      See Also\n",
      " |      --------\n",
      " |      resize : Return a new array with the specified shape.\n",
      " |      \n",
      " |      Notes\n",
      " |      -----\n",
      " |      This reallocates space for the data area if necessary.\n",
      " |      \n",
      " |      Only contiguous arrays (data elements consecutive in memory) can be\n",
      " |      resized.\n",
      " |      \n",
      " |      The purpose of the reference count check is to make sure you\n",
      " |      do not use this array as a buffer for another Python object and then\n",
      " |      reallocate the memory. However, reference counts can increase in\n",
      " |      other ways so if you are sure that you have not shared the memory\n",
      " |      for this array with another Python object, then you may safely set\n",
      " |      `refcheck` to False.\n",
      " |      \n",
      " |      Examples\n",
      " |      --------\n",
      " |      Shrinking an array: array is flattened (in the order that the data are\n",
      " |      stored in memory), resized, and reshaped:\n",
      " |      \n",
      " |      >>> a = np.array([[0, 1], [2, 3]], order='C')\n",
      " |      >>> a.resize((2, 1))\n",
      " |      >>> a\n",
      " |      array([[0],\n",
      " |             [1]])\n",
      " |      \n",
      " |      >>> a = np.array([[0, 1], [2, 3]], order='F')\n",
      " |      >>> a.resize((2, 1))\n",
      " |      >>> a\n",
      " |      array([[0],\n",
      " |             [2]])\n",
      " |      \n",
      " |      Enlarging an array: as above, but missing entries are filled with zeros:\n",
      " |      \n",
      " |      >>> b = np.array([[0, 1], [2, 3]])\n",
      " |      >>> b.resize(2, 3) # new_shape parameter doesn't have to be a tuple\n",
      " |      >>> b\n",
      " |      array([[0, 1, 2],\n",
      " |             [3, 0, 0]])\n",
      " |      \n",
      " |      Referencing an array prevents resizing...\n",
      " |      \n",
      " |      >>> c = a\n",
      " |      >>> a.resize((1, 1))\n",
      " |      Traceback (most recent call last):\n",
      " |      ...\n",
      " |      ValueError: cannot resize an array that references or is referenced ...\n",
      " |      \n",
      " |      Unless `refcheck` is False:\n",
      " |      \n",
      " |      >>> a.resize((1, 1), refcheck=False)\n",
      " |      >>> a\n",
      " |      array([[0]])\n",
      " |      >>> c\n",
      " |      array([[0]])\n",
      " |  \n",
      " |  round(...)\n",
      " |      a.round(decimals=0, out=None)\n",
      " |      \n",
      " |      Return `a` with each element rounded to the given number of decimals.\n",
      " |      \n",
      " |      Refer to `numpy.around` for full documentation.\n",
      " |      \n",
      " |      See Also\n",
      " |      --------\n",
      " |      numpy.around : equivalent function\n",
      " |  \n",
      " |  searchsorted(...)\n",
      " |      a.searchsorted(v, side='left', sorter=None)\n",
      " |      \n",
      " |      Find indices where elements of v should be inserted in a to maintain order.\n",
      " |      \n",
      " |      For full documentation, see `numpy.searchsorted`\n",
      " |      \n",
      " |      See Also\n",
      " |      --------\n",
      " |      numpy.searchsorted : equivalent function\n",
      " |  \n",
      " |  setfield(...)\n",
      " |      a.setfield(val, dtype, offset=0)\n",
      " |      \n",
      " |      Put a value into a specified place in a field defined by a data-type.\n",
      " |      \n",
      " |      Place `val` into `a`'s field defined by `dtype` and beginning `offset`\n",
      " |      bytes into the field.\n",
      " |      \n",
      " |      Parameters\n",
      " |      ----------\n",
      " |      val : object\n",
      " |          Value to be placed in field.\n",
      " |      dtype : dtype object\n",
      " |          Data-type of the field in which to place `val`.\n",
      " |      offset : int, optional\n",
      " |          The number of bytes into the field at which to place `val`.\n",
      " |      \n",
      " |      Returns\n",
      " |      -------\n",
      " |      None\n",
      " |      \n",
      " |      See Also\n",
      " |      --------\n",
      " |      getfield\n",
      " |      \n",
      " |      Examples\n",
      " |      --------\n",
      " |      >>> x = np.eye(3)\n",
      " |      >>> x.getfield(np.float64)\n",
      " |      array([[1.,  0.,  0.],\n",
      " |             [0.,  1.,  0.],\n",
      " |             [0.,  0.,  1.]])\n",
      " |      >>> x.setfield(3, np.int32)\n",
      " |      >>> x.getfield(np.int32)\n",
      " |      array([[3, 3, 3],\n",
      " |             [3, 3, 3],\n",
      " |             [3, 3, 3]], dtype=int32)\n",
      " |      >>> x\n",
      " |      array([[1.0e+000, 1.5e-323, 1.5e-323],\n",
      " |             [1.5e-323, 1.0e+000, 1.5e-323],\n",
      " |             [1.5e-323, 1.5e-323, 1.0e+000]])\n",
      " |      >>> x.setfield(np.eye(3), np.int32)\n",
      " |      >>> x\n",
      " |      array([[1.,  0.,  0.],\n",
      " |             [0.,  1.,  0.],\n",
      " |             [0.,  0.,  1.]])\n",
      " |  \n",
      " |  setflags(...)\n",
      " |      a.setflags(write=None, align=None, uic=None)\n",
      " |      \n",
      " |      Set array flags WRITEABLE, ALIGNED, WRITEBACKIFCOPY,\n",
      " |      respectively.\n",
      " |      \n",
      " |      These Boolean-valued flags affect how numpy interprets the memory\n",
      " |      area used by `a` (see Notes below). The ALIGNED flag can only\n",
      " |      be set to True if the data is actually aligned according to the type.\n",
      " |      The WRITEBACKIFCOPY and flag can never be set\n",
      " |      to True. The flag WRITEABLE can only be set to True if the array owns its\n",
      " |      own memory, or the ultimate owner of the memory exposes a writeable buffer\n",
      " |      interface, or is a string. (The exception for string is made so that\n",
      " |      unpickling can be done without copying memory.)\n",
      " |      \n",
      " |      Parameters\n",
      " |      ----------\n",
      " |      write : bool, optional\n",
      " |          Describes whether or not `a` can be written to.\n",
      " |      align : bool, optional\n",
      " |          Describes whether or not `a` is aligned properly for its type.\n",
      " |      uic : bool, optional\n",
      " |          Describes whether or not `a` is a copy of another \"base\" array.\n",
      " |      \n",
      " |      Notes\n",
      " |      -----\n",
      " |      Array flags provide information about how the memory area used\n",
      " |      for the array is to be interpreted. There are 7 Boolean flags\n",
      " |      in use, only four of which can be changed by the user:\n",
      " |      WRITEBACKIFCOPY, WRITEABLE, and ALIGNED.\n",
      " |      \n",
      " |      WRITEABLE (W) the data area can be written to;\n",
      " |      \n",
      " |      ALIGNED (A) the data and strides are aligned appropriately for the hardware\n",
      " |      (as determined by the compiler);\n",
      " |      \n",
      " |      WRITEBACKIFCOPY (X) this array is a copy of some other array (referenced\n",
      " |      by .base). When the C-API function PyArray_ResolveWritebackIfCopy is\n",
      " |      called, the base array will be updated with the contents of this array.\n",
      " |      \n",
      " |      All flags can be accessed using the single (upper case) letter as well\n",
      " |      as the full name.\n",
      " |      \n",
      " |      Examples\n",
      " |      --------\n",
      " |      >>> y = np.array([[3, 1, 7],\n",
      " |      ...               [2, 0, 0],\n",
      " |      ...               [8, 5, 9]])\n",
      " |      >>> y\n",
      " |      array([[3, 1, 7],\n",
      " |             [2, 0, 0],\n",
      " |             [8, 5, 9]])\n",
      " |      >>> y.flags\n",
      " |        C_CONTIGUOUS : True\n",
      " |        F_CONTIGUOUS : False\n",
      " |        OWNDATA : True\n",
      " |        WRITEABLE : True\n",
      " |        ALIGNED : True\n",
      " |        WRITEBACKIFCOPY : False\n",
      " |      >>> y.setflags(write=0, align=0)\n",
      " |      >>> y.flags\n",
      " |        C_CONTIGUOUS : True\n",
      " |        F_CONTIGUOUS : False\n",
      " |        OWNDATA : True\n",
      " |        WRITEABLE : False\n",
      " |        ALIGNED : False\n",
      " |        WRITEBACKIFCOPY : False\n",
      " |      >>> y.setflags(uic=1)\n",
      " |      Traceback (most recent call last):\n",
      " |        File \"<stdin>\", line 1, in <module>\n",
      " |      ValueError: cannot set WRITEBACKIFCOPY flag to True\n",
      " |  \n",
      " |  sort(...)\n",
      " |      a.sort(axis=-1, kind=None, order=None)\n",
      " |      \n",
      " |      Sort an array in-place. Refer to `numpy.sort` for full documentation.\n",
      " |      \n",
      " |      Parameters\n",
      " |      ----------\n",
      " |      axis : int, optional\n",
      " |          Axis along which to sort. Default is -1, which means sort along the\n",
      " |          last axis.\n",
      " |      kind : {'quicksort', 'mergesort', 'heapsort', 'stable'}, optional\n",
      " |          Sorting algorithm. The default is 'quicksort'. Note that both 'stable'\n",
      " |          and 'mergesort' use timsort under the covers and, in general, the\n",
      " |          actual implementation will vary with datatype. The 'mergesort' option\n",
      " |          is retained for backwards compatibility.\n",
      " |      \n",
      " |          .. versionchanged:: 1.15.0\n",
      " |             The 'stable' option was added.\n",
      " |      \n",
      " |      order : str or list of str, optional\n",
      " |          When `a` is an array with fields defined, this argument specifies\n",
      " |          which fields to compare first, second, etc.  A single field can\n",
      " |          be specified as a string, and not all fields need be specified,\n",
      " |          but unspecified fields will still be used, in the order in which\n",
      " |          they come up in the dtype, to break ties.\n",
      " |      \n",
      " |      See Also\n",
      " |      --------\n",
      " |      numpy.sort : Return a sorted copy of an array.\n",
      " |      numpy.argsort : Indirect sort.\n",
      " |      numpy.lexsort : Indirect stable sort on multiple keys.\n",
      " |      numpy.searchsorted : Find elements in sorted array.\n",
      " |      numpy.partition: Partial sort.\n",
      " |      \n",
      " |      Notes\n",
      " |      -----\n",
      " |      See `numpy.sort` for notes on the different sorting algorithms.\n",
      " |      \n",
      " |      Examples\n",
      " |      --------\n",
      " |      >>> a = np.array([[1,4], [3,1]])\n",
      " |      >>> a.sort(axis=1)\n",
      " |      >>> a\n",
      " |      array([[1, 4],\n",
      " |             [1, 3]])\n",
      " |      >>> a.sort(axis=0)\n",
      " |      >>> a\n",
      " |      array([[1, 3],\n",
      " |             [1, 4]])\n",
      " |      \n",
      " |      Use the `order` keyword to specify a field to use when sorting a\n",
      " |      structured array:\n",
      " |      \n",
      " |      >>> a = np.array([('a', 2), ('c', 1)], dtype=[('x', 'S1'), ('y', int)])\n",
      " |      >>> a.sort(order='y')\n",
      " |      >>> a\n",
      " |      array([(b'c', 1), (b'a', 2)],\n",
      " |            dtype=[('x', 'S1'), ('y', '<i8')])\n",
      " |  \n",
      " |  squeeze(...)\n",
      " |      a.squeeze(axis=None)\n",
      " |      \n",
      " |      Remove axes of length one from `a`.\n",
      " |      \n",
      " |      Refer to `numpy.squeeze` for full documentation.\n",
      " |      \n",
      " |      See Also\n",
      " |      --------\n",
      " |      numpy.squeeze : equivalent function\n",
      " |  \n",
      " |  std(...)\n",
      " |      a.std(axis=None, dtype=None, out=None, ddof=0, keepdims=False, *, where=True)\n",
      " |      \n",
      " |      Returns the standard deviation of the array elements along given axis.\n",
      " |      \n",
      " |      Refer to `numpy.std` for full documentation.\n",
      " |      \n",
      " |      See Also\n",
      " |      --------\n",
      " |      numpy.std : equivalent function\n",
      " |  \n",
      " |  sum(...)\n",
      " |      a.sum(axis=None, dtype=None, out=None, keepdims=False, initial=0, where=True)\n",
      " |      \n",
      " |      Return the sum of the array elements over the given axis.\n",
      " |      \n",
      " |      Refer to `numpy.sum` for full documentation.\n",
      " |      \n",
      " |      See Also\n",
      " |      --------\n",
      " |      numpy.sum : equivalent function\n",
      " |  \n",
      " |  swapaxes(...)\n",
      " |      a.swapaxes(axis1, axis2)\n",
      " |      \n",
      " |      Return a view of the array with `axis1` and `axis2` interchanged.\n",
      " |      \n",
      " |      Refer to `numpy.swapaxes` for full documentation.\n",
      " |      \n",
      " |      See Also\n",
      " |      --------\n",
      " |      numpy.swapaxes : equivalent function\n",
      " |  \n",
      " |  take(...)\n",
      " |      a.take(indices, axis=None, out=None, mode='raise')\n",
      " |      \n",
      " |      Return an array formed from the elements of `a` at the given indices.\n",
      " |      \n",
      " |      Refer to `numpy.take` for full documentation.\n",
      " |      \n",
      " |      See Also\n",
      " |      --------\n",
      " |      numpy.take : equivalent function\n",
      " |  \n",
      " |  tobytes(...)\n",
      " |      a.tobytes(order='C')\n",
      " |      \n",
      " |      Construct Python bytes containing the raw data bytes in the array.\n",
      " |      \n",
      " |      Constructs Python bytes showing a copy of the raw contents of\n",
      " |      data memory. The bytes object is produced in C-order by default.\n",
      " |      This behavior is controlled by the ``order`` parameter.\n",
      " |      \n",
      " |      .. versionadded:: 1.9.0\n",
      " |      \n",
      " |      Parameters\n",
      " |      ----------\n",
      " |      order : {'C', 'F', 'A'}, optional\n",
      " |          Controls the memory layout of the bytes object. 'C' means C-order,\n",
      " |          'F' means F-order, 'A' (short for *Any*) means 'F' if `a` is\n",
      " |          Fortran contiguous, 'C' otherwise. Default is 'C'.\n",
      " |      \n",
      " |      Returns\n",
      " |      -------\n",
      " |      s : bytes\n",
      " |          Python bytes exhibiting a copy of `a`'s raw data.\n",
      " |      \n",
      " |      See also\n",
      " |      --------\n",
      " |      frombuffer\n",
      " |          Inverse of this operation, construct a 1-dimensional array from Python\n",
      " |          bytes.\n",
      " |      \n",
      " |      Examples\n",
      " |      --------\n",
      " |      >>> x = np.array([[0, 1], [2, 3]], dtype='<u2')\n",
      " |      >>> x.tobytes()\n",
      " |      b'\\x00\\x00\\x01\\x00\\x02\\x00\\x03\\x00'\n",
      " |      >>> x.tobytes('C') == x.tobytes()\n",
      " |      True\n",
      " |      >>> x.tobytes('F')\n",
      " |      b'\\x00\\x00\\x02\\x00\\x01\\x00\\x03\\x00'\n",
      " |  \n",
      " |  tofile(...)\n",
      " |      a.tofile(fid, sep=\"\", format=\"%s\")\n",
      " |      \n",
      " |      Write array to a file as text or binary (default).\n",
      " |      \n",
      " |      Data is always written in 'C' order, independent of the order of `a`.\n",
      " |      The data produced by this method can be recovered using the function\n",
      " |      fromfile().\n",
      " |      \n",
      " |      Parameters\n",
      " |      ----------\n",
      " |      fid : file or str or Path\n",
      " |          An open file object, or a string containing a filename.\n",
      " |      \n",
      " |          .. versionchanged:: 1.17.0\n",
      " |              `pathlib.Path` objects are now accepted.\n",
      " |      \n",
      " |      sep : str\n",
      " |          Separator between array items for text output.\n",
      " |          If \"\" (empty), a binary file is written, equivalent to\n",
      " |          ``file.write(a.tobytes())``.\n",
      " |      format : str\n",
      " |          Format string for text file output.\n",
      " |          Each entry in the array is formatted to text by first converting\n",
      " |          it to the closest Python type, and then using \"format\" % item.\n",
      " |      \n",
      " |      Notes\n",
      " |      -----\n",
      " |      This is a convenience function for quick storage of array data.\n",
      " |      Information on endianness and precision is lost, so this method is not a\n",
      " |      good choice for files intended to archive data or transport data between\n",
      " |      machines with different endianness. Some of these problems can be overcome\n",
      " |      by outputting the data as text files, at the expense of speed and file\n",
      " |      size.\n",
      " |      \n",
      " |      When fid is a file object, array contents are directly written to the\n",
      " |      file, bypassing the file object's ``write`` method. As a result, tofile\n",
      " |      cannot be used with files objects supporting compression (e.g., GzipFile)\n",
      " |      or file-like objects that do not support ``fileno()`` (e.g., BytesIO).\n",
      " |  \n",
      " |  tolist(...)\n",
      " |      a.tolist()\n",
      " |      \n",
      " |      Return the array as an ``a.ndim``-levels deep nested list of Python scalars.\n",
      " |      \n",
      " |      Return a copy of the array data as a (nested) Python list.\n",
      " |      Data items are converted to the nearest compatible builtin Python type, via\n",
      " |      the `~numpy.ndarray.item` function.\n",
      " |      \n",
      " |      If ``a.ndim`` is 0, then since the depth of the nested list is 0, it will\n",
      " |      not be a list at all, but a simple Python scalar.\n",
      " |      \n",
      " |      Parameters\n",
      " |      ----------\n",
      " |      none\n",
      " |      \n",
      " |      Returns\n",
      " |      -------\n",
      " |      y : object, or list of object, or list of list of object, or ...\n",
      " |          The possibly nested list of array elements.\n",
      " |      \n",
      " |      Notes\n",
      " |      -----\n",
      " |      The array may be recreated via ``a = np.array(a.tolist())``, although this\n",
      " |      may sometimes lose precision.\n",
      " |      \n",
      " |      Examples\n",
      " |      --------\n",
      " |      For a 1D array, ``a.tolist()`` is almost the same as ``list(a)``,\n",
      " |      except that ``tolist`` changes numpy scalars to Python scalars:\n",
      " |      \n",
      " |      >>> a = np.uint32([1, 2])\n",
      " |      >>> a_list = list(a)\n",
      " |      >>> a_list\n",
      " |      [1, 2]\n",
      " |      >>> type(a_list[0])\n",
      " |      <class 'numpy.uint32'>\n",
      " |      >>> a_tolist = a.tolist()\n",
      " |      >>> a_tolist\n",
      " |      [1, 2]\n",
      " |      >>> type(a_tolist[0])\n",
      " |      <class 'int'>\n",
      " |      \n",
      " |      Additionally, for a 2D array, ``tolist`` applies recursively:\n",
      " |      \n",
      " |      >>> a = np.array([[1, 2], [3, 4]])\n",
      " |      >>> list(a)\n",
      " |      [array([1, 2]), array([3, 4])]\n",
      " |      >>> a.tolist()\n",
      " |      [[1, 2], [3, 4]]\n",
      " |      \n",
      " |      The base case for this recursion is a 0D array:\n",
      " |      \n",
      " |      >>> a = np.array(1)\n",
      " |      >>> list(a)\n",
      " |      Traceback (most recent call last):\n",
      " |        ...\n",
      " |      TypeError: iteration over a 0-d array\n",
      " |      >>> a.tolist()\n",
      " |      1\n",
      " |  \n",
      " |  tostring(...)\n",
      " |      a.tostring(order='C')\n",
      " |      \n",
      " |      A compatibility alias for `tobytes`, with exactly the same behavior.\n",
      " |      \n",
      " |      Despite its name, it returns `bytes` not `str`\\ s.\n",
      " |      \n",
      " |      .. deprecated:: 1.19.0\n",
      " |  \n",
      " |  trace(...)\n",
      " |      a.trace(offset=0, axis1=0, axis2=1, dtype=None, out=None)\n",
      " |      \n",
      " |      Return the sum along diagonals of the array.\n",
      " |      \n",
      " |      Refer to `numpy.trace` for full documentation.\n",
      " |      \n",
      " |      See Also\n",
      " |      --------\n",
      " |      numpy.trace : equivalent function\n",
      " |  \n",
      " |  transpose(...)\n",
      " |      a.transpose(*axes)\n",
      " |      \n",
      " |      Returns a view of the array with axes transposed.\n",
      " |      \n",
      " |      Refer to `numpy.transpose` for full documentation.\n",
      " |      \n",
      " |      Parameters\n",
      " |      ----------\n",
      " |      axes : None, tuple of ints, or `n` ints\n",
      " |      \n",
      " |       * None or no argument: reverses the order of the axes.\n",
      " |      \n",
      " |       * tuple of ints: `i` in the `j`-th place in the tuple means that the\n",
      " |         array's `i`-th axis becomes the transposed array's `j`-th axis.\n",
      " |      \n",
      " |       * `n` ints: same as an n-tuple of the same ints (this form is\n",
      " |         intended simply as a \"convenience\" alternative to the tuple form).\n",
      " |      \n",
      " |      Returns\n",
      " |      -------\n",
      " |      p : ndarray\n",
      " |          View of the array with its axes suitably permuted.\n",
      " |      \n",
      " |      See Also\n",
      " |      --------\n",
      " |      transpose : Equivalent function.\n",
      " |      ndarray.T : Array property returning the array transposed.\n",
      " |      ndarray.reshape : Give a new shape to an array without changing its data.\n",
      " |      \n",
      " |      Examples\n",
      " |      --------\n",
      " |      >>> a = np.array([[1, 2], [3, 4]])\n",
      " |      >>> a\n",
      " |      array([[1, 2],\n",
      " |             [3, 4]])\n",
      " |      >>> a.transpose()\n",
      " |      array([[1, 3],\n",
      " |             [2, 4]])\n",
      " |      >>> a.transpose((1, 0))\n",
      " |      array([[1, 3],\n",
      " |             [2, 4]])\n",
      " |      >>> a.transpose(1, 0)\n",
      " |      array([[1, 3],\n",
      " |             [2, 4]])\n",
      " |      \n",
      " |      >>> a = np.array([1, 2, 3, 4])\n",
      " |      >>> a\n",
      " |      array([1, 2, 3, 4])\n",
      " |      >>> a.transpose()\n",
      " |      array([1, 2, 3, 4])\n",
      " |  \n",
      " |  var(...)\n",
      " |      a.var(axis=None, dtype=None, out=None, ddof=0, keepdims=False, *, where=True)\n",
      " |      \n",
      " |      Returns the variance of the array elements, along given axis.\n",
      " |      \n",
      " |      Refer to `numpy.var` for full documentation.\n",
      " |      \n",
      " |      See Also\n",
      " |      --------\n",
      " |      numpy.var : equivalent function\n",
      " |  \n",
      " |  view(...)\n",
      " |      a.view([dtype][, type])\n",
      " |      \n",
      " |      New view of array with the same data.\n",
      " |      \n",
      " |      .. note::\n",
      " |          Passing None for ``dtype`` is different from omitting the parameter,\n",
      " |          since the former invokes ``dtype(None)`` which is an alias for\n",
      " |          ``dtype('float_')``.\n",
      " |      \n",
      " |      Parameters\n",
      " |      ----------\n",
      " |      dtype : data-type or ndarray sub-class, optional\n",
      " |          Data-type descriptor of the returned view, e.g., float32 or int16.\n",
      " |          Omitting it results in the view having the same data-type as `a`.\n",
      " |          This argument can also be specified as an ndarray sub-class, which\n",
      " |          then specifies the type of the returned object (this is equivalent to\n",
      " |          setting the ``type`` parameter).\n",
      " |      type : Python type, optional\n",
      " |          Type of the returned view, e.g., ndarray or matrix.  Again, omission\n",
      " |          of the parameter results in type preservation.\n",
      " |      \n",
      " |      Notes\n",
      " |      -----\n",
      " |      ``a.view()`` is used two different ways:\n",
      " |      \n",
      " |      ``a.view(some_dtype)`` or ``a.view(dtype=some_dtype)`` constructs a view\n",
      " |      of the array's memory with a different data-type.  This can cause a\n",
      " |      reinterpretation of the bytes of memory.\n",
      " |      \n",
      " |      ``a.view(ndarray_subclass)`` or ``a.view(type=ndarray_subclass)`` just\n",
      " |      returns an instance of `ndarray_subclass` that looks at the same array\n",
      " |      (same shape, dtype, etc.)  This does not cause a reinterpretation of the\n",
      " |      memory.\n",
      " |      \n",
      " |      For ``a.view(some_dtype)``, if ``some_dtype`` has a different number of\n",
      " |      bytes per entry than the previous dtype (for example, converting a regular\n",
      " |      array to a structured array), then the last axis of ``a`` must be\n",
      " |      contiguous. This axis will be resized in the result.\n",
      " |      \n",
      " |      .. versionchanged:: 1.23.0\n",
      " |         Only the last axis needs to be contiguous. Previously, the entire array\n",
      " |         had to be C-contiguous.\n",
      " |      \n",
      " |      Examples\n",
      " |      --------\n",
      " |      >>> x = np.array([(1, 2)], dtype=[('a', np.int8), ('b', np.int8)])\n",
      " |      \n",
      " |      Viewing array data using a different type and dtype:\n",
      " |      \n",
      " |      >>> y = x.view(dtype=np.int16, type=np.matrix)\n",
      " |      >>> y\n",
      " |      matrix([[513]], dtype=int16)\n",
      " |      >>> print(type(y))\n",
      " |      <class 'numpy.matrix'>\n",
      " |      \n",
      " |      Creating a view on a structured array so it can be used in calculations\n",
      " |      \n",
      " |      >>> x = np.array([(1, 2),(3,4)], dtype=[('a', np.int8), ('b', np.int8)])\n",
      " |      >>> xv = x.view(dtype=np.int8).reshape(-1,2)\n",
      " |      >>> xv\n",
      " |      array([[1, 2],\n",
      " |             [3, 4]], dtype=int8)\n",
      " |      >>> xv.mean(0)\n",
      " |      array([2.,  3.])\n",
      " |      \n",
      " |      Making changes to the view changes the underlying array\n",
      " |      \n",
      " |      >>> xv[0,1] = 20\n",
      " |      >>> x\n",
      " |      array([(1, 20), (3,  4)], dtype=[('a', 'i1'), ('b', 'i1')])\n",
      " |      \n",
      " |      Using a view to convert an array to a recarray:\n",
      " |      \n",
      " |      >>> z = x.view(np.recarray)\n",
      " |      >>> z.a\n",
      " |      array([1, 3], dtype=int8)\n",
      " |      \n",
      " |      Views share data:\n",
      " |      \n",
      " |      >>> x[0] = (9, 10)\n",
      " |      >>> z[0]\n",
      " |      (9, 10)\n",
      " |      \n",
      " |      Views that change the dtype size (bytes per entry) should normally be\n",
      " |      avoided on arrays defined by slices, transposes, fortran-ordering, etc.:\n",
      " |      \n",
      " |      >>> x = np.array([[1, 2, 3], [4, 5, 6]], dtype=np.int16)\n",
      " |      >>> y = x[:, ::2]\n",
      " |      >>> y\n",
      " |      array([[1, 3],\n",
      " |             [4, 6]], dtype=int16)\n",
      " |      >>> y.view(dtype=[('width', np.int16), ('length', np.int16)])\n",
      " |      Traceback (most recent call last):\n",
      " |          ...\n",
      " |      ValueError: To change to a dtype of a different size, the last axis must be contiguous\n",
      " |      >>> z = y.copy()\n",
      " |      >>> z.view(dtype=[('width', np.int16), ('length', np.int16)])\n",
      " |      array([[(1, 3)],\n",
      " |             [(4, 6)]], dtype=[('width', '<i2'), ('length', '<i2')])\n",
      " |      \n",
      " |      However, views that change dtype are totally fine for arrays with a\n",
      " |      contiguous last axis, even if the rest of the axes are not C-contiguous:\n",
      " |      \n",
      " |      >>> x = np.arange(2 * 3 * 4, dtype=np.int8).reshape(2, 3, 4)\n",
      " |      >>> x.transpose(1, 0, 2).view(np.int16)\n",
      " |      array([[[ 256,  770],\n",
      " |              [3340, 3854]],\n",
      " |      <BLANKLINE>\n",
      " |             [[1284, 1798],\n",
      " |              [4368, 4882]],\n",
      " |      <BLANKLINE>\n",
      " |             [[2312, 2826],\n",
      " |              [5396, 5910]]], dtype=int16)\n",
      " |  \n",
      " |  ----------------------------------------------------------------------\n",
      " |  Class methods defined here:\n",
      " |  \n",
      " |  __class_getitem__(...) from builtins.type\n",
      " |      a.__class_getitem__(item, /)\n",
      " |      \n",
      " |      Return a parametrized wrapper around the `~numpy.ndarray` type.\n",
      " |      \n",
      " |      .. versionadded:: 1.22\n",
      " |      \n",
      " |      Returns\n",
      " |      -------\n",
      " |      alias : types.GenericAlias\n",
      " |          A parametrized `~numpy.ndarray` type.\n",
      " |      \n",
      " |      Examples\n",
      " |      --------\n",
      " |      >>> from typing import Any\n",
      " |      >>> import numpy as np\n",
      " |      \n",
      " |      >>> np.ndarray[Any, np.dtype[Any]]\n",
      " |      numpy.ndarray[typing.Any, numpy.dtype[typing.Any]]\n",
      " |      \n",
      " |      See Also\n",
      " |      --------\n",
      " |      :pep:`585` : Type hinting generics in standard collections.\n",
      " |      numpy.typing.NDArray : An ndarray alias :term:`generic <generic type>`\n",
      " |                          w.r.t. its `dtype.type <numpy.dtype.type>`.\n",
      " |  \n",
      " |  ----------------------------------------------------------------------\n",
      " |  Static methods defined here:\n",
      " |  \n",
      " |  __new__(*args, **kwargs) from builtins.type\n",
      " |      Create and return a new object.  See help(type) for accurate signature.\n",
      " |  \n",
      " |  ----------------------------------------------------------------------\n",
      " |  Data descriptors defined here:\n",
      " |  \n",
      " |  T\n",
      " |      View of the transposed array.\n",
      " |      \n",
      " |      Same as ``self.transpose()``.\n",
      " |      \n",
      " |      Examples\n",
      " |      --------\n",
      " |      >>> a = np.array([[1, 2], [3, 4]])\n",
      " |      >>> a\n",
      " |      array([[1, 2],\n",
      " |             [3, 4]])\n",
      " |      >>> a.T\n",
      " |      array([[1, 3],\n",
      " |             [2, 4]])\n",
      " |      \n",
      " |      >>> a = np.array([1, 2, 3, 4])\n",
      " |      >>> a\n",
      " |      array([1, 2, 3, 4])\n",
      " |      >>> a.T\n",
      " |      array([1, 2, 3, 4])\n",
      " |      \n",
      " |      See Also\n",
      " |      --------\n",
      " |      transpose\n",
      " |  \n",
      " |  __array_interface__\n",
      " |      Array protocol: Python side.\n",
      " |  \n",
      " |  __array_priority__\n",
      " |      Array priority.\n",
      " |  \n",
      " |  __array_struct__\n",
      " |      Array protocol: C-struct side.\n",
      " |  \n",
      " |  base\n",
      " |      Base object if memory is from some other object.\n",
      " |      \n",
      " |      Examples\n",
      " |      --------\n",
      " |      The base of an array that owns its memory is None:\n",
      " |      \n",
      " |      >>> x = np.array([1,2,3,4])\n",
      " |      >>> x.base is None\n",
      " |      True\n",
      " |      \n",
      " |      Slicing creates a view, whose memory is shared with x:\n",
      " |      \n",
      " |      >>> y = x[2:]\n",
      " |      >>> y.base is x\n",
      " |      True\n",
      " |  \n",
      " |  ctypes\n",
      " |      An object to simplify the interaction of the array with the ctypes\n",
      " |      module.\n",
      " |      \n",
      " |      This attribute creates an object that makes it easier to use arrays\n",
      " |      when calling shared libraries with the ctypes module. The returned\n",
      " |      object has, among others, data, shape, and strides attributes (see\n",
      " |      Notes below) which themselves return ctypes objects that can be used\n",
      " |      as arguments to a shared library.\n",
      " |      \n",
      " |      Parameters\n",
      " |      ----------\n",
      " |      None\n",
      " |      \n",
      " |      Returns\n",
      " |      -------\n",
      " |      c : Python object\n",
      " |          Possessing attributes data, shape, strides, etc.\n",
      " |      \n",
      " |      See Also\n",
      " |      --------\n",
      " |      numpy.ctypeslib\n",
      " |      \n",
      " |      Notes\n",
      " |      -----\n",
      " |      Below are the public attributes of this object which were documented\n",
      " |      in \"Guide to NumPy\" (we have omitted undocumented public attributes,\n",
      " |      as well as documented private attributes):\n",
      " |      \n",
      " |      .. autoattribute:: numpy.core._internal._ctypes.data\n",
      " |          :noindex:\n",
      " |      \n",
      " |      .. autoattribute:: numpy.core._internal._ctypes.shape\n",
      " |          :noindex:\n",
      " |      \n",
      " |      .. autoattribute:: numpy.core._internal._ctypes.strides\n",
      " |          :noindex:\n",
      " |      \n",
      " |      .. automethod:: numpy.core._internal._ctypes.data_as\n",
      " |          :noindex:\n",
      " |      \n",
      " |      .. automethod:: numpy.core._internal._ctypes.shape_as\n",
      " |          :noindex:\n",
      " |      \n",
      " |      .. automethod:: numpy.core._internal._ctypes.strides_as\n",
      " |          :noindex:\n",
      " |      \n",
      " |      If the ctypes module is not available, then the ctypes attribute\n",
      " |      of array objects still returns something useful, but ctypes objects\n",
      " |      are not returned and errors may be raised instead. In particular,\n",
      " |      the object will still have the ``as_parameter`` attribute which will\n",
      " |      return an integer equal to the data attribute.\n",
      " |      \n",
      " |      Examples\n",
      " |      --------\n",
      " |      >>> import ctypes\n",
      " |      >>> x = np.array([[0, 1], [2, 3]], dtype=np.int32)\n",
      " |      >>> x\n",
      " |      array([[0, 1],\n",
      " |             [2, 3]], dtype=int32)\n",
      " |      >>> x.ctypes.data\n",
      " |      31962608 # may vary\n",
      " |      >>> x.ctypes.data_as(ctypes.POINTER(ctypes.c_uint32))\n",
      " |      <__main__.LP_c_uint object at 0x7ff2fc1fc200> # may vary\n",
      " |      >>> x.ctypes.data_as(ctypes.POINTER(ctypes.c_uint32)).contents\n",
      " |      c_uint(0)\n",
      " |      >>> x.ctypes.data_as(ctypes.POINTER(ctypes.c_uint64)).contents\n",
      " |      c_ulong(4294967296)\n",
      " |      >>> x.ctypes.shape\n",
      " |      <numpy.core._internal.c_long_Array_2 object at 0x7ff2fc1fce60> # may vary\n",
      " |      >>> x.ctypes.strides\n",
      " |      <numpy.core._internal.c_long_Array_2 object at 0x7ff2fc1ff320> # may vary\n",
      " |  \n",
      " |  data\n",
      " |      Python buffer object pointing to the start of the array's data.\n",
      " |  \n",
      " |  dtype\n",
      " |      Data-type of the array's elements.\n",
      " |      \n",
      " |      .. warning::\n",
      " |      \n",
      " |          Setting ``arr.dtype`` is discouraged and may be deprecated in the\n",
      " |          future.  Setting will replace the ``dtype`` without modifying the\n",
      " |          memory (see also `ndarray.view` and `ndarray.astype`).\n",
      " |      \n",
      " |      Parameters\n",
      " |      ----------\n",
      " |      None\n",
      " |      \n",
      " |      Returns\n",
      " |      -------\n",
      " |      d : numpy dtype object\n",
      " |      \n",
      " |      See Also\n",
      " |      --------\n",
      " |      ndarray.astype : Cast the values contained in the array to a new data-type.\n",
      " |      ndarray.view : Create a view of the same data but a different data-type.\n",
      " |      numpy.dtype\n",
      " |      \n",
      " |      Examples\n",
      " |      --------\n",
      " |      >>> x\n",
      " |      array([[0, 1],\n",
      " |             [2, 3]])\n",
      " |      >>> x.dtype\n",
      " |      dtype('int32')\n",
      " |      >>> type(x.dtype)\n",
      " |      <type 'numpy.dtype'>\n",
      " |  \n",
      " |  flags\n",
      " |      Information about the memory layout of the array.\n",
      " |      \n",
      " |      Attributes\n",
      " |      ----------\n",
      " |      C_CONTIGUOUS (C)\n",
      " |          The data is in a single, C-style contiguous segment.\n",
      " |      F_CONTIGUOUS (F)\n",
      " |          The data is in a single, Fortran-style contiguous segment.\n",
      " |      OWNDATA (O)\n",
      " |          The array owns the memory it uses or borrows it from another object.\n",
      " |      WRITEABLE (W)\n",
      " |          The data area can be written to.  Setting this to False locks\n",
      " |          the data, making it read-only.  A view (slice, etc.) inherits WRITEABLE\n",
      " |          from its base array at creation time, but a view of a writeable\n",
      " |          array may be subsequently locked while the base array remains writeable.\n",
      " |          (The opposite is not true, in that a view of a locked array may not\n",
      " |          be made writeable.  However, currently, locking a base object does not\n",
      " |          lock any views that already reference it, so under that circumstance it\n",
      " |          is possible to alter the contents of a locked array via a previously\n",
      " |          created writeable view onto it.)  Attempting to change a non-writeable\n",
      " |          array raises a RuntimeError exception.\n",
      " |      ALIGNED (A)\n",
      " |          The data and all elements are aligned appropriately for the hardware.\n",
      " |      WRITEBACKIFCOPY (X)\n",
      " |          This array is a copy of some other array. The C-API function\n",
      " |          PyArray_ResolveWritebackIfCopy must be called before deallocating\n",
      " |          to the base array will be updated with the contents of this array.\n",
      " |      FNC\n",
      " |          F_CONTIGUOUS and not C_CONTIGUOUS.\n",
      " |      FORC\n",
      " |          F_CONTIGUOUS or C_CONTIGUOUS (one-segment test).\n",
      " |      BEHAVED (B)\n",
      " |          ALIGNED and WRITEABLE.\n",
      " |      CARRAY (CA)\n",
      " |          BEHAVED and C_CONTIGUOUS.\n",
      " |      FARRAY (FA)\n",
      " |          BEHAVED and F_CONTIGUOUS and not C_CONTIGUOUS.\n",
      " |      \n",
      " |      Notes\n",
      " |      -----\n",
      " |      The `flags` object can be accessed dictionary-like (as in ``a.flags['WRITEABLE']``),\n",
      " |      or by using lowercased attribute names (as in ``a.flags.writeable``). Short flag\n",
      " |      names are only supported in dictionary access.\n",
      " |      \n",
      " |      Only the WRITEBACKIFCOPY, WRITEABLE, and ALIGNED flags can be\n",
      " |      changed by the user, via direct assignment to the attribute or dictionary\n",
      " |      entry, or by calling `ndarray.setflags`.\n",
      " |      \n",
      " |      The array flags cannot be set arbitrarily:\n",
      " |      \n",
      " |      - WRITEBACKIFCOPY can only be set ``False``.\n",
      " |      - ALIGNED can only be set ``True`` if the data is truly aligned.\n",
      " |      - WRITEABLE can only be set ``True`` if the array owns its own memory\n",
      " |        or the ultimate owner of the memory exposes a writeable buffer\n",
      " |        interface or is a string.\n",
      " |      \n",
      " |      Arrays can be both C-style and Fortran-style contiguous simultaneously.\n",
      " |      This is clear for 1-dimensional arrays, but can also be true for higher\n",
      " |      dimensional arrays.\n",
      " |      \n",
      " |      Even for contiguous arrays a stride for a given dimension\n",
      " |      ``arr.strides[dim]`` may be *arbitrary* if ``arr.shape[dim] == 1``\n",
      " |      or the array has no elements.\n",
      " |      It does *not* generally hold that ``self.strides[-1] == self.itemsize``\n",
      " |      for C-style contiguous arrays or ``self.strides[0] == self.itemsize`` for\n",
      " |      Fortran-style contiguous arrays is true.\n",
      " |  \n",
      " |  flat\n",
      " |      A 1-D iterator over the array.\n",
      " |      \n",
      " |      This is a `numpy.flatiter` instance, which acts similarly to, but is not\n",
      " |      a subclass of, Python's built-in iterator object.\n",
      " |      \n",
      " |      See Also\n",
      " |      --------\n",
      " |      flatten : Return a copy of the array collapsed into one dimension.\n",
      " |      \n",
      " |      flatiter\n",
      " |      \n",
      " |      Examples\n",
      " |      --------\n",
      " |      >>> x = np.arange(1, 7).reshape(2, 3)\n",
      " |      >>> x\n",
      " |      array([[1, 2, 3],\n",
      " |             [4, 5, 6]])\n",
      " |      >>> x.flat[3]\n",
      " |      4\n",
      " |      >>> x.T\n",
      " |      array([[1, 4],\n",
      " |             [2, 5],\n",
      " |             [3, 6]])\n",
      " |      >>> x.T.flat[3]\n",
      " |      5\n",
      " |      >>> type(x.flat)\n",
      " |      <class 'numpy.flatiter'>\n",
      " |      \n",
      " |      An assignment example:\n",
      " |      \n",
      " |      >>> x.flat = 3; x\n",
      " |      array([[3, 3, 3],\n",
      " |             [3, 3, 3]])\n",
      " |      >>> x.flat[[1,4]] = 1; x\n",
      " |      array([[3, 1, 3],\n",
      " |             [3, 1, 3]])\n",
      " |  \n",
      " |  imag\n",
      " |      The imaginary part of the array.\n",
      " |      \n",
      " |      Examples\n",
      " |      --------\n",
      " |      >>> x = np.sqrt([1+0j, 0+1j])\n",
      " |      >>> x.imag\n",
      " |      array([ 0.        ,  0.70710678])\n",
      " |      >>> x.imag.dtype\n",
      " |      dtype('float64')\n",
      " |  \n",
      " |  itemsize\n",
      " |      Length of one array element in bytes.\n",
      " |      \n",
      " |      Examples\n",
      " |      --------\n",
      " |      >>> x = np.array([1,2,3], dtype=np.float64)\n",
      " |      >>> x.itemsize\n",
      " |      8\n",
      " |      >>> x = np.array([1,2,3], dtype=np.complex128)\n",
      " |      >>> x.itemsize\n",
      " |      16\n",
      " |  \n",
      " |  nbytes\n",
      " |      Total bytes consumed by the elements of the array.\n",
      " |      \n",
      " |      Notes\n",
      " |      -----\n",
      " |      Does not include memory consumed by non-element attributes of the\n",
      " |      array object.\n",
      " |      \n",
      " |      See Also\n",
      " |      --------\n",
      " |      sys.getsizeof\n",
      " |          Memory consumed by the object itself without parents in case view.\n",
      " |          This does include memory consumed by non-element attributes.\n",
      " |      \n",
      " |      Examples\n",
      " |      --------\n",
      " |      >>> x = np.zeros((3,5,2), dtype=np.complex128)\n",
      " |      >>> x.nbytes\n",
      " |      480\n",
      " |      >>> np.prod(x.shape) * x.itemsize\n",
      " |      480\n",
      " |  \n",
      " |  ndim\n",
      " |      Number of array dimensions.\n",
      " |      \n",
      " |      Examples\n",
      " |      --------\n",
      " |      >>> x = np.array([1, 2, 3])\n",
      " |      >>> x.ndim\n",
      " |      1\n",
      " |      >>> y = np.zeros((2, 3, 4))\n",
      " |      >>> y.ndim\n",
      " |      3\n",
      " |  \n",
      " |  real\n",
      " |      The real part of the array.\n",
      " |      \n",
      " |      Examples\n",
      " |      --------\n",
      " |      >>> x = np.sqrt([1+0j, 0+1j])\n",
      " |      >>> x.real\n",
      " |      array([ 1.        ,  0.70710678])\n",
      " |      >>> x.real.dtype\n",
      " |      dtype('float64')\n",
      " |      \n",
      " |      See Also\n",
      " |      --------\n",
      " |      numpy.real : equivalent function\n",
      " |  \n",
      " |  shape\n",
      " |      Tuple of array dimensions.\n",
      " |      \n",
      " |      The shape property is usually used to get the current shape of an array,\n",
      " |      but may also be used to reshape the array in-place by assigning a tuple of\n",
      " |      array dimensions to it.  As with `numpy.reshape`, one of the new shape\n",
      " |      dimensions can be -1, in which case its value is inferred from the size of\n",
      " |      the array and the remaining dimensions. Reshaping an array in-place will\n",
      " |      fail if a copy is required.\n",
      " |      \n",
      " |      .. warning::\n",
      " |      \n",
      " |          Setting ``arr.shape`` is discouraged and may be deprecated in the\n",
      " |          future.  Using `ndarray.reshape` is the preferred approach.\n",
      " |      \n",
      " |      Examples\n",
      " |      --------\n",
      " |      >>> x = np.array([1, 2, 3, 4])\n",
      " |      >>> x.shape\n",
      " |      (4,)\n",
      " |      >>> y = np.zeros((2, 3, 4))\n",
      " |      >>> y.shape\n",
      " |      (2, 3, 4)\n",
      " |      >>> y.shape = (3, 8)\n",
      " |      >>> y\n",
      " |      array([[ 0.,  0.,  0.,  0.,  0.,  0.,  0.,  0.],\n",
      " |             [ 0.,  0.,  0.,  0.,  0.,  0.,  0.,  0.],\n",
      " |             [ 0.,  0.,  0.,  0.,  0.,  0.,  0.,  0.]])\n",
      " |      >>> y.shape = (3, 6)\n",
      " |      Traceback (most recent call last):\n",
      " |        File \"<stdin>\", line 1, in <module>\n",
      " |      ValueError: total size of new array must be unchanged\n",
      " |      >>> np.zeros((4,2))[::2].shape = (-1,)\n",
      " |      Traceback (most recent call last):\n",
      " |        File \"<stdin>\", line 1, in <module>\n",
      " |      AttributeError: Incompatible shape for in-place modification. Use\n",
      " |      `.reshape()` to make a copy with the desired shape.\n",
      " |      \n",
      " |      See Also\n",
      " |      --------\n",
      " |      numpy.shape : Equivalent getter function.\n",
      " |      numpy.reshape : Function similar to setting ``shape``.\n",
      " |      ndarray.reshape : Method similar to setting ``shape``.\n",
      " |  \n",
      " |  size\n",
      " |      Number of elements in the array.\n",
      " |      \n",
      " |      Equal to ``np.prod(a.shape)``, i.e., the product of the array's\n",
      " |      dimensions.\n",
      " |      \n",
      " |      Notes\n",
      " |      -----\n",
      " |      `a.size` returns a standard arbitrary precision Python integer. This\n",
      " |      may not be the case with other methods of obtaining the same value\n",
      " |      (like the suggested ``np.prod(a.shape)``, which returns an instance\n",
      " |      of ``np.int_``), and may be relevant if the value is used further in\n",
      " |      calculations that may overflow a fixed size integer type.\n",
      " |      \n",
      " |      Examples\n",
      " |      --------\n",
      " |      >>> x = np.zeros((3, 5, 2), dtype=np.complex128)\n",
      " |      >>> x.size\n",
      " |      30\n",
      " |      >>> np.prod(x.shape)\n",
      " |      30\n",
      " |  \n",
      " |  strides\n",
      " |      Tuple of bytes to step in each dimension when traversing an array.\n",
      " |      \n",
      " |      The byte offset of element ``(i[0], i[1], ..., i[n])`` in an array `a`\n",
      " |      is::\n",
      " |      \n",
      " |          offset = sum(np.array(i) * a.strides)\n",
      " |      \n",
      " |      A more detailed explanation of strides can be found in the\n",
      " |      \"ndarray.rst\" file in the NumPy reference guide.\n",
      " |      \n",
      " |      .. warning::\n",
      " |      \n",
      " |          Setting ``arr.strides`` is discouraged and may be deprecated in the\n",
      " |          future.  `numpy.lib.stride_tricks.as_strided` should be preferred\n",
      " |          to create a new view of the same data in a safer way.\n",
      " |      \n",
      " |      Notes\n",
      " |      -----\n",
      " |      Imagine an array of 32-bit integers (each 4 bytes)::\n",
      " |      \n",
      " |        x = np.array([[0, 1, 2, 3, 4],\n",
      " |                      [5, 6, 7, 8, 9]], dtype=np.int32)\n",
      " |      \n",
      " |      This array is stored in memory as 40 bytes, one after the other\n",
      " |      (known as a contiguous block of memory).  The strides of an array tell\n",
      " |      us how many bytes we have to skip in memory to move to the next position\n",
      " |      along a certain axis.  For example, we have to skip 4 bytes (1 value) to\n",
      " |      move to the next column, but 20 bytes (5 values) to get to the same\n",
      " |      position in the next row.  As such, the strides for the array `x` will be\n",
      " |      ``(20, 4)``.\n",
      " |      \n",
      " |      See Also\n",
      " |      --------\n",
      " |      numpy.lib.stride_tricks.as_strided\n",
      " |      \n",
      " |      Examples\n",
      " |      --------\n",
      " |      >>> y = np.reshape(np.arange(2*3*4), (2,3,4))\n",
      " |      >>> y\n",
      " |      array([[[ 0,  1,  2,  3],\n",
      " |              [ 4,  5,  6,  7],\n",
      " |              [ 8,  9, 10, 11]],\n",
      " |             [[12, 13, 14, 15],\n",
      " |              [16, 17, 18, 19],\n",
      " |              [20, 21, 22, 23]]])\n",
      " |      >>> y.strides\n",
      " |      (48, 16, 4)\n",
      " |      >>> y[1,1,1]\n",
      " |      17\n",
      " |      >>> offset=sum(y.strides * np.array((1,1,1)))\n",
      " |      >>> offset/y.itemsize\n",
      " |      17\n",
      " |      \n",
      " |      >>> x = np.reshape(np.arange(5*6*7*8), (5,6,7,8)).transpose(2,3,1,0)\n",
      " |      >>> x.strides\n",
      " |      (32, 4, 224, 1344)\n",
      " |      >>> i = np.array([3,5,2,2])\n",
      " |      >>> offset = sum(i * x.strides)\n",
      " |      >>> x[3,5,2,2]\n",
      " |      813\n",
      " |      >>> offset / x.itemsize\n",
      " |      813\n",
      " |  \n",
      " |  ----------------------------------------------------------------------\n",
      " |  Data and other attributes defined here:\n",
      " |  \n",
      " |  __hash__ = None\n",
      "\n"
     ]
    }
   ],
   "source": [
    "# Okay, just tell me everything there is to know about numpy.ndarray\n",
    "# (Click the \"output\" button to see the novel-length output)\n",
    "help(rolls)"
   ]
  },
  {
   "cell_type": "markdown",
   "id": "d6386d24",
   "metadata": {
    "papermill": {
     "duration": 0.0144,
     "end_time": "2023-04-21T13:38:19.449806",
     "exception": false,
     "start_time": "2023-04-21T13:38:19.435406",
     "status": "completed"
    },
    "tags": []
   },
   "source": [
    "### Operator overloading"
   ]
  },
  {
   "cell_type": "code",
   "execution_count": 140,
   "id": "ad802688",
   "metadata": {
    "papermill": {
     "duration": 0.037846,
     "end_time": "2023-04-21T13:38:19.502419",
     "exception": false,
     "start_time": "2023-04-21T13:38:19.464573",
     "status": "completed"
    },
    "tags": [
     "raises-exception"
    ]
   },
   "outputs": [],
   "source": [
    "# # Hata verir\n",
    "# [3, 4, 1, 2, 2, 1] + 10"
   ]
  },
  {
   "cell_type": "code",
   "execution_count": 141,
   "id": "74c894ce",
   "metadata": {
    "papermill": {
     "duration": 0.029588,
     "end_time": "2023-04-21T13:38:19.578463",
     "exception": false,
     "start_time": "2023-04-21T13:38:19.548875",
     "status": "completed"
    },
    "tags": []
   },
   "outputs": [
    {
     "data": {
      "text/plain": [
       "array([13, 15, 11, 14, 12, 11, 12, 12, 15, 14])"
      ]
     },
     "execution_count": 141,
     "metadata": {},
     "output_type": "execute_result"
    }
   ],
   "source": [
    "# listede olduğu gibi hata vermez\n",
    "rolls + 10"
   ]
  },
  {
   "cell_type": "code",
   "execution_count": 142,
   "id": "5ccdbfd9",
   "metadata": {
    "papermill": {
     "duration": 0.027065,
     "end_time": "2023-04-21T13:38:19.651285",
     "exception": false,
     "start_time": "2023-04-21T13:38:19.624220",
     "status": "completed"
    },
    "tags": []
   },
   "outputs": [
    {
     "data": {
      "text/plain": [
       "array([ True, False,  True, False,  True,  True,  True,  True, False,\n",
       "       False])"
      ]
     },
     "execution_count": 142,
     "metadata": {},
     "output_type": "execute_result"
    }
   ],
   "source": [
    "# At which indices are the dice less than or equal to 3?\n",
    "rolls <= 3"
   ]
  },
  {
   "cell_type": "code",
   "execution_count": 143,
   "id": "679242b3",
   "metadata": {
    "papermill": {
     "duration": 0.028426,
     "end_time": "2023-04-21T13:38:19.695354",
     "exception": false,
     "start_time": "2023-04-21T13:38:19.666928",
     "status": "completed"
    },
    "tags": []
   },
   "outputs": [
    {
     "name": "stdout",
     "output_type": "stream",
     "text": [
      "xlist = [[1, 2, 3], [2, 4, 6]]\n",
      "x =\n",
      "[[1 2 3]\n",
      " [2 4 6]]\n"
     ]
    }
   ],
   "source": [
    "xlist = [[1,2,3],[2,4,6],]\n",
    "# Create a 2-dimensional array\n",
    "x = numpy.asarray(xlist)\n",
    "print(\"xlist = {}\\nx =\\n{}\".format(xlist, x))"
   ]
  },
  {
   "cell_type": "code",
   "execution_count": 144,
   "id": "cdce1479",
   "metadata": {
    "papermill": {
     "duration": 0.030177,
     "end_time": "2023-04-21T13:38:19.740685",
     "exception": false,
     "start_time": "2023-04-21T13:38:19.710508",
     "status": "completed"
    },
    "tags": []
   },
   "outputs": [
    {
     "data": {
      "text/plain": [
       "6"
      ]
     },
     "execution_count": 144,
     "metadata": {},
     "output_type": "execute_result"
    }
   ],
   "source": [
    "# Get the last element of the second row of our numpy array\n",
    "x[1,-1]"
   ]
  },
  {
   "cell_type": "code",
   "execution_count": 145,
   "id": "00c64478",
   "metadata": {
    "papermill": {
     "duration": 0.039397,
     "end_time": "2023-04-21T13:38:19.795796",
     "exception": false,
     "start_time": "2023-04-21T13:38:19.756399",
     "status": "completed"
    },
    "tags": [
     "raises-exception"
    ]
   },
   "outputs": [],
   "source": [
    "# # Listede aynı özellik geçerli değil\n",
    "# # Get the last element of the second sublist of our nested list?\n",
    "# xlist[1,-1]"
   ]
  },
  {
   "cell_type": "code",
   "execution_count": 146,
   "id": "bfd68318",
   "metadata": {
    "papermill": {
     "duration": 10.321273,
     "end_time": "2023-04-21T13:38:30.165933",
     "exception": false,
     "start_time": "2023-04-21T13:38:19.844660",
     "status": "completed"
    },
    "tags": []
   },
   "outputs": [],
   "source": [
    "# # Tensorflow import edemedim\n",
    "# import tensorflow as tf\n",
    "# # Create two constants, each with value 1\n",
    "# a = tf.constant(1)\n",
    "# b = tf.constant(1)\n",
    "# Add them together to get...\n",
    "# a + b"
   ]
  },
  {
   "cell_type": "markdown",
   "id": "891d441b",
   "metadata": {
    "papermill": {
     "duration": 0.015379,
     "end_time": "2023-04-21T13:38:30.196940",
     "exception": false,
     "start_time": "2023-04-21T13:38:30.181561",
     "status": "completed"
    },
    "tags": []
   },
   "source": [
    "`a + b` isn't 2, it is (to quote tensorflow's documentation)...\n",
    "\n",
    "> a symbolic handle to one of the outputs of an `Operation`. It does not hold the values of that operation's output, but instead provides a means of computing those values in a TensorFlow `tf.Session`.\n",
    "\n"
   ]
  },
  {
   "cell_type": "code",
   "execution_count": 147,
   "id": "982fe4ac",
   "metadata": {
    "papermill": {
     "duration": 0.02781,
     "end_time": "2023-04-21T13:38:30.301496",
     "exception": false,
     "start_time": "2023-04-21T13:38:30.273686",
     "status": "completed"
    },
    "tags": []
   },
   "outputs": [
    {
     "name": "stdout",
     "output_type": "stream",
     "text": [
      "['__add__', '__class__', '__class_getitem__', '__contains__', '__delattr__', '__delitem__', '__dir__', '__doc__', '__eq__', '__format__', '__ge__', '__getattribute__', '__getitem__', '__getstate__', '__gt__', '__hash__', '__iadd__', '__imul__', '__init__', '__init_subclass__', '__iter__', '__le__', '__len__', '__lt__', '__mul__', '__ne__', '__new__', '__reduce__', '__reduce_ex__', '__repr__', '__reversed__', '__rmul__', '__setattr__', '__setitem__', '__sizeof__', '__str__', '__subclasshook__', 'append', 'clear', 'copy', 'count', 'extend', 'index', 'insert', 'pop', 'remove', 'reverse', 'sort']\n"
     ]
    }
   ],
   "source": [
    "# Nasıl çalıştığını anlamak için aşağıdaki gibi sorgulayabiliriz\n",
    "print(dir(list))\n",
    "\n",
    "# __ ile başlayan seçeneklerde de operatör aşırı yüklenmesi olabilir."
   ]
  }
 ],
 "metadata": {
  "kernelspec": {
   "display_name": "Python 3 (ipykernel)",
   "language": "python",
   "name": "python3"
  },
  "language_info": {
   "codemirror_mode": {
    "name": "ipython",
    "version": 3
   },
   "file_extension": ".py",
   "mimetype": "text/x-python",
   "name": "python",
   "nbconvert_exporter": "python",
   "pygments_lexer": "ipython3",
   "version": "3.11.0"
  },
  "widgets": {
   "application/vnd.jupyter.widget-state+json": {
    "state": {},
    "version_major": 2,
    "version_minor": 0
   }
  }
 },
 "nbformat": 4,
 "nbformat_minor": 5
}
